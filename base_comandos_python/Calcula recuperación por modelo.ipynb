{
 "cells": [
  {
   "cell_type": "code",
   "execution_count": 1,
   "metadata": {},
   "outputs": [],
   "source": [
    "import pandas as pd\n",
    "import numpy as np\n",
    "import os\n",
    "import glob\n",
    "import matplotlib.pyplot as plt"
   ]
  },
  {
   "cell_type": "markdown",
   "metadata": {},
   "source": [
    "Macro Variable a usar"
   ]
  },
  {
   "cell_type": "code",
   "execution_count": 7,
   "metadata": {},
   "outputs": [],
   "source": [
    "fecha_corte=202001  #Fecha a la cual se correrá el proceso"
   ]
  },
  {
   "cell_type": "code",
   "execution_count": 4,
   "metadata": {},
   "outputs": [],
   "source": [
    "os.chdir('C:/Users/zuleyma/Documents/Acamica/Acamica/RECUPERA')"
   ]
  },
  {
   "cell_type": "code",
   "execution_count": 5,
   "metadata": {},
   "outputs": [],
   "source": [
    "path_input='C:/Users/zuleyma/Documents/Acamica/Acamica/RECUPERA'\n",
    "\n"
   ]
  },
  {
   "cell_type": "code",
   "execution_count": 8,
   "metadata": {},
   "outputs": [],
   "source": [
    "recupera = pd.read_csv('TODRT'+str(fecha_corte)+'.txt',encoding = 'ansi', sep='\\t',dtype={'id_credactual': np.object,'id_credant':np.object})\n"
   ]
  },
  {
   "cell_type": "code",
   "execution_count": 11,
   "metadata": {},
   "outputs": [
    {
     "name": "stdout",
     "output_type": "stream",
     "text": [
      "       MODELO  FECHA_MAT  ALTURA_DEFAULT  REC_TEC\n",
      "0           1     201801               1   0.1384\n",
      "1           1     201802               1   0.1539\n",
      "2           1     201803               1   0.1567\n",
      "3           1     201804               1   0.1785\n",
      "4           1     201805               1   0.1929\n",
      "...       ...        ...             ...      ...\n",
      "48540       7     201903             365   0.0000\n",
      "48541       7     201909             365   0.0000\n",
      "48542       7     201911             365   0.0000\n",
      "48543       7     201912             365   0.0000\n",
      "48544       7     202001             365   0.0071\n",
      "\n",
      "[48545 rows x 4 columns]\n"
     ]
    },
    {
     "data": {
      "text/plain": [
       "MODELO              int64\n",
       "FECHA_MAT           int64\n",
       "ALTURA_DEFAULT      int64\n",
       "REC_TEC           float64\n",
       "dtype: object"
      ]
     },
     "execution_count": 11,
     "metadata": {},
     "output_type": "execute_result"
    }
   ],
   "source": [
    "print(recupera)\n",
    "recupera.dtypes"
   ]
  },
  {
   "cell_type": "code",
   "execution_count": 21,
   "metadata": {},
   "outputs": [
    {
     "name": "stdout",
     "output_type": "stream",
     "text": [
      "201902\n"
     ]
    }
   ],
   "source": [
    "fecha_inicial=fecha_corte-99\n",
    "\n",
    "print(fecha_inicial)\n",
    "\n",
    "recupera['analisis']=np.where((recupera.FECHA_MAT>=fecha_inicial)&(recupera.FECHA_MAT<=fecha_corte),1,0)\n",
    "\n"
   ]
  },
  {
   "cell_type": "code",
   "execution_count": 22,
   "metadata": {},
   "outputs": [
    {
     "data": {
      "text/plain": [
       "0    33215\n",
       "1    15330\n",
       "Name: analisis, dtype: int64"
      ]
     },
     "execution_count": 22,
     "metadata": {},
     "output_type": "execute_result"
    }
   ],
   "source": [
    "recupera['analisis'].value_counts(dropna=True).sort_index()"
   ]
  },
  {
   "cell_type": "code",
   "execution_count": 41,
   "metadata": {},
   "outputs": [
    {
     "name": "stdout",
     "output_type": "stream",
     "text": [
      "0        False\n",
      "1        False\n",
      "2        False\n",
      "3        False\n",
      "4        False\n",
      "         ...  \n",
      "48540     True\n",
      "48541     True\n",
      "48542     True\n",
      "48543     True\n",
      "48544     True\n",
      "Name: analisis, Length: 48545, dtype: bool\n"
     ]
    }
   ],
   "source": [
    "#Me quedo sólo con los cortes de análisis\n",
    "\n",
    "recupera_1 = recupera['analisis']== 1 \n",
    "print(recupera_1)"
   ]
  },
  {
   "cell_type": "code",
   "execution_count": 24,
   "metadata": {},
   "outputs": [
    {
     "data": {
      "text/html": [
       "<div>\n",
       "<style scoped>\n",
       "    .dataframe tbody tr th:only-of-type {\n",
       "        vertical-align: middle;\n",
       "    }\n",
       "\n",
       "    .dataframe tbody tr th {\n",
       "        vertical-align: top;\n",
       "    }\n",
       "\n",
       "    .dataframe thead th {\n",
       "        text-align: right;\n",
       "    }\n",
       "</style>\n",
       "<table border=\"1\" class=\"dataframe\">\n",
       "  <thead>\n",
       "    <tr style=\"text-align: right;\">\n",
       "      <th></th>\n",
       "      <th>MODELO</th>\n",
       "      <th>FECHA_MAT</th>\n",
       "      <th>ALTURA_DEFAULT</th>\n",
       "      <th>REC_TEC</th>\n",
       "      <th>analisis202001</th>\n",
       "      <th>analisis</th>\n",
       "    </tr>\n",
       "  </thead>\n",
       "  <tbody>\n",
       "    <tr>\n",
       "      <td>13</td>\n",
       "      <td>1</td>\n",
       "      <td>201902</td>\n",
       "      <td>1</td>\n",
       "      <td>0.1688</td>\n",
       "      <td>1</td>\n",
       "      <td>1</td>\n",
       "    </tr>\n",
       "    <tr>\n",
       "      <td>14</td>\n",
       "      <td>1</td>\n",
       "      <td>201903</td>\n",
       "      <td>1</td>\n",
       "      <td>0.1646</td>\n",
       "      <td>1</td>\n",
       "      <td>1</td>\n",
       "    </tr>\n",
       "    <tr>\n",
       "      <td>15</td>\n",
       "      <td>1</td>\n",
       "      <td>201909</td>\n",
       "      <td>1</td>\n",
       "      <td>0.1643</td>\n",
       "      <td>1</td>\n",
       "      <td>1</td>\n",
       "    </tr>\n",
       "    <tr>\n",
       "      <td>16</td>\n",
       "      <td>1</td>\n",
       "      <td>201911</td>\n",
       "      <td>1</td>\n",
       "      <td>0.1938</td>\n",
       "      <td>1</td>\n",
       "      <td>1</td>\n",
       "    </tr>\n",
       "    <tr>\n",
       "      <td>17</td>\n",
       "      <td>1</td>\n",
       "      <td>201912</td>\n",
       "      <td>1</td>\n",
       "      <td>0.1531</td>\n",
       "      <td>1</td>\n",
       "      <td>1</td>\n",
       "    </tr>\n",
       "  </tbody>\n",
       "</table>\n",
       "</div>"
      ],
      "text/plain": [
       "    MODELO  FECHA_MAT  ALTURA_DEFAULT  REC_TEC  analisis202001  analisis\n",
       "13       1     201902               1   0.1688               1         1\n",
       "14       1     201903               1   0.1646               1         1\n",
       "15       1     201909               1   0.1643               1         1\n",
       "16       1     201911               1   0.1938               1         1\n",
       "17       1     201912               1   0.1531               1         1"
      ]
     },
     "execution_count": 24,
     "metadata": {},
     "output_type": "execute_result"
    }
   ],
   "source": [
    "recupera_2 = recupera[recupera_1]\n",
    "recupera_2.head()"
   ]
  },
  {
   "cell_type": "code",
   "execution_count": 42,
   "metadata": {},
   "outputs": [
    {
     "name": "stdout",
     "output_type": "stream",
     "text": [
      "13       False\n",
      "14       False\n",
      "15       False\n",
      "16       False\n",
      "17       False\n",
      "         ...  \n",
      "48540    False\n",
      "48541    False\n",
      "48542    False\n",
      "48543    False\n",
      "48544    False\n",
      "Name: ALTURA_DEFAULT, Length: 15330, dtype: bool\n"
     ]
    }
   ],
   "source": [
    "recupera_3 = recupera_2['ALTURA_DEFAULT']== 31\n",
    "print(recupera_3)"
   ]
  },
  {
   "cell_type": "code",
   "execution_count": 43,
   "metadata": {},
   "outputs": [
    {
     "data": {
      "text/html": [
       "<div>\n",
       "<style scoped>\n",
       "    .dataframe tbody tr th:only-of-type {\n",
       "        vertical-align: middle;\n",
       "    }\n",
       "\n",
       "    .dataframe tbody tr th {\n",
       "        vertical-align: top;\n",
       "    }\n",
       "\n",
       "    .dataframe thead th {\n",
       "        text-align: right;\n",
       "    }\n",
       "</style>\n",
       "<table border=\"1\" class=\"dataframe\">\n",
       "  <thead>\n",
       "    <tr style=\"text-align: right;\">\n",
       "      <th></th>\n",
       "      <th>MODELO</th>\n",
       "      <th>FECHA_MAT</th>\n",
       "      <th>ALTURA_DEFAULT</th>\n",
       "      <th>REC_TEC</th>\n",
       "      <th>analisis202001</th>\n",
       "      <th>analisis</th>\n",
       "    </tr>\n",
       "  </thead>\n",
       "  <tbody>\n",
       "    <tr>\n",
       "      <td>583</td>\n",
       "      <td>1</td>\n",
       "      <td>201902</td>\n",
       "      <td>31</td>\n",
       "      <td>0.0521</td>\n",
       "      <td>1</td>\n",
       "      <td>1</td>\n",
       "    </tr>\n",
       "    <tr>\n",
       "      <td>584</td>\n",
       "      <td>1</td>\n",
       "      <td>201903</td>\n",
       "      <td>31</td>\n",
       "      <td>0.0555</td>\n",
       "      <td>1</td>\n",
       "      <td>1</td>\n",
       "    </tr>\n",
       "    <tr>\n",
       "      <td>585</td>\n",
       "      <td>1</td>\n",
       "      <td>201909</td>\n",
       "      <td>31</td>\n",
       "      <td>0.0592</td>\n",
       "      <td>1</td>\n",
       "      <td>1</td>\n",
       "    </tr>\n",
       "    <tr>\n",
       "      <td>586</td>\n",
       "      <td>1</td>\n",
       "      <td>201911</td>\n",
       "      <td>31</td>\n",
       "      <td>0.0753</td>\n",
       "      <td>1</td>\n",
       "      <td>1</td>\n",
       "    </tr>\n",
       "    <tr>\n",
       "      <td>587</td>\n",
       "      <td>1</td>\n",
       "      <td>201912</td>\n",
       "      <td>31</td>\n",
       "      <td>0.0730</td>\n",
       "      <td>1</td>\n",
       "      <td>1</td>\n",
       "    </tr>\n",
       "  </tbody>\n",
       "</table>\n",
       "</div>"
      ],
      "text/plain": [
       "     MODELO  FECHA_MAT  ALTURA_DEFAULT  REC_TEC  analisis202001  analisis\n",
       "583       1     201902              31   0.0521               1         1\n",
       "584       1     201903              31   0.0555               1         1\n",
       "585       1     201909              31   0.0592               1         1\n",
       "586       1     201911              31   0.0753               1         1\n",
       "587       1     201912              31   0.0730               1         1"
      ]
     },
     "execution_count": 43,
     "metadata": {},
     "output_type": "execute_result"
    }
   ],
   "source": [
    "recupera_4 = recupera_2[recupera_3]\n",
    "recupera_4.head()"
   ]
  },
  {
   "cell_type": "code",
   "execution_count": 44,
   "metadata": {},
   "outputs": [
    {
     "data": {
      "text/html": [
       "<div>\n",
       "<style scoped>\n",
       "    .dataframe tbody tr th:only-of-type {\n",
       "        vertical-align: middle;\n",
       "    }\n",
       "\n",
       "    .dataframe tbody tr th {\n",
       "        vertical-align: top;\n",
       "    }\n",
       "\n",
       "    .dataframe thead th {\n",
       "        text-align: right;\n",
       "    }\n",
       "</style>\n",
       "<table border=\"1\" class=\"dataframe\">\n",
       "  <thead>\n",
       "    <tr style=\"text-align: right;\">\n",
       "      <th></th>\n",
       "      <th></th>\n",
       "      <th>median</th>\n",
       "      <th>count</th>\n",
       "    </tr>\n",
       "    <tr>\n",
       "      <th>ALTURA_DEFAULT</th>\n",
       "      <th>MODELO</th>\n",
       "      <th></th>\n",
       "      <th></th>\n",
       "    </tr>\n",
       "  </thead>\n",
       "  <tbody>\n",
       "    <tr>\n",
       "      <td rowspan=\"7\" valign=\"top\">31</td>\n",
       "      <td>1</td>\n",
       "      <td>0.06610</td>\n",
       "      <td>6</td>\n",
       "    </tr>\n",
       "    <tr>\n",
       "      <td>2</td>\n",
       "      <td>0.08395</td>\n",
       "      <td>6</td>\n",
       "    </tr>\n",
       "    <tr>\n",
       "      <td>3</td>\n",
       "      <td>0.06665</td>\n",
       "      <td>6</td>\n",
       "    </tr>\n",
       "    <tr>\n",
       "      <td>4</td>\n",
       "      <td>0.06170</td>\n",
       "      <td>6</td>\n",
       "    </tr>\n",
       "    <tr>\n",
       "      <td>5</td>\n",
       "      <td>0.06150</td>\n",
       "      <td>6</td>\n",
       "    </tr>\n",
       "    <tr>\n",
       "      <td>6</td>\n",
       "      <td>0.04940</td>\n",
       "      <td>6</td>\n",
       "    </tr>\n",
       "    <tr>\n",
       "      <td>7</td>\n",
       "      <td>0.08395</td>\n",
       "      <td>6</td>\n",
       "    </tr>\n",
       "  </tbody>\n",
       "</table>\n",
       "</div>"
      ],
      "text/plain": [
       "                        median  count\n",
       "ALTURA_DEFAULT MODELO                \n",
       "31             1       0.06610      6\n",
       "               2       0.08395      6\n",
       "               3       0.06665      6\n",
       "               4       0.06170      6\n",
       "               5       0.06150      6\n",
       "               6       0.04940      6\n",
       "               7       0.08395      6"
      ]
     },
     "execution_count": 44,
     "metadata": {},
     "output_type": "execute_result"
    }
   ],
   "source": [
    "recupera_4.groupby(['ALTURA_DEFAULT','MODELO'])['REC_TEC'].agg(['median','count'])\n",
    "\n"
   ]
  }
 ],
 "metadata": {
  "kernelspec": {
   "display_name": "Python 3",
   "language": "python",
   "name": "python3"
  },
  "language_info": {
   "codemirror_mode": {
    "name": "ipython",
    "version": 3
   },
   "file_extension": ".py",
   "mimetype": "text/x-python",
   "name": "python",
   "nbconvert_exporter": "python",
   "pygments_lexer": "ipython3",
   "version": "3.7.4"
  }
 },
 "nbformat": 4,
 "nbformat_minor": 2
}
