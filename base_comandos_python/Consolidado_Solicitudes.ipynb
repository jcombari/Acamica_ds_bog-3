{
 "cells": [
  {
   "cell_type": "code",
   "execution_count": 166,
   "metadata": {},
   "outputs": [],
   "source": [
    "import pandas as pd #dataframe\n",
    "import os #direcciones\n",
    "import numpy as np #formato de variables la importar\n",
    "import glob# leer archivos con el mismo nombre de una ruta especifica\n",
    "import datetime as dt # hacer operaciones o convertir fecha \n",
    "pd.options.display.float_format = '{:.2f}'.format # Para quitar notación cientifica \n",
    "pd.set_option('display.max_colwidth', -1) # Muestre el print completo \n",
    "pd.set_option('display.max_columns', None) # Mirar las columnas completas "
   ]
  },
  {
   "cell_type": "code",
   "execution_count": 167,
   "metadata": {},
   "outputs": [],
   "source": [
    "path_input=r'\\\\192.168.0.16\\Gerencia de Riesgos\\Modelos de Riesgo\\00. AREA MODELOS\\48. BASES DE DATOS MODELOS\\Archivos Homologación'\n",
    "os.chdir(r'\\\\192.168.0.16\\Gerencia de Riesgos\\Modelos de Riesgo\\00. AREA MODELOS\\48. BASES DE DATOS MODELOS\\Archivos Homologación')"
   ]
  },
  {
   "cell_type": "code",
   "execution_count": 168,
   "metadata": {},
   "outputs": [],
   "source": [
    "homologa_id = {\"DIALOGO\":[1,2,4,5,9],\"IBS\":[\"CC\",\"NIT\",\"CE\",\"PAS\",\"RCN\"]}\n",
    "homologa_id_1 = pd.DataFrame(homologa_id)"
   ]
  },
  {
   "cell_type": "code",
   "execution_count": 169,
   "metadata": {},
   "outputs": [],
   "source": [
    "homologa_ciudad = pd.read_excel('ciudades222.xlsx',sep=' ', dtype= str)\n",
    "homologa_ciudad.columns = ['DIALOGO', 'IBS']"
   ]
  },
  {
   "cell_type": "code",
   "execution_count": 170,
   "metadata": {},
   "outputs": [],
   "source": [
    "homologa_genero = {\"DIALOGO\":['MASCULINO','FEMENINO'],\"IBS\":['M','F']}\n",
    "homologa_genero  = pd.DataFrame(homologa_genero)\n",
    "homologa_genero['DIALOGO']= homologa_genero['DIALOGO'].astype(str)"
   ]
  },
  {
   "cell_type": "code",
   "execution_count": 171,
   "metadata": {},
   "outputs": [],
   "source": [
    "homologa_estado_civil = {\"DIALOGO\":['CASADO','DIVORCIADO','SEPARADO','SOLTERO','UNION LIBRE','VIUDO','NaN'],\"IBS\":[2,3,3,1,5,4,9999]}\n",
    "homologa_estado_civil = pd.DataFrame(homologa_estado_civil)\n",
    "homologa_estado_civil['DIALOGO']= homologa_estado_civil['DIALOGO'].astype(str)\n",
    "homologa_estado_civil['IBS']= homologa_estado_civil['IBS'].astype(str)"
   ]
  },
  {
   "cell_type": "code",
   "execution_count": 172,
   "metadata": {},
   "outputs": [],
   "source": [
    "homologa_nivel_academico = {\"DIALOGO\":['NO INDICADO','PRIMARIA','SECUNDARIA','TECNICO','TECNOLOGO','UNIVERSITARIO','POSTGRADO','MAESTRIA','PHD','DOCTORADO','DIPLOMADO','PRE ESCOLAR','ESPECIALIZACION','ANALFABETO','NaN'],\"IBS\":[9999,101,201,600,700,301,401,501,502,502,402,2,403,1,9999]}\n",
    "homologa_nivel_academico = pd.DataFrame(homologa_nivel_academico)\n",
    "homologa_nivel_academico['DIALOGO']= homologa_nivel_academico['DIALOGO'].astype(str)\n",
    "homologa_nivel_academico['IBS']= homologa_nivel_academico['IBS'].astype(str)"
   ]
  },
  {
   "cell_type": "code",
   "execution_count": 173,
   "metadata": {},
   "outputs": [],
   "source": [
    "homologa_profesion = pd.read_excel('Profesion.xlsx', skipinitialspace=True, encoding= 'ansi', dtype = str )\n",
    "homologa_profesion.columns=['DIALOGO', 'IBS']\n",
    "homologa_profesion['DIALOGO']= homologa_profesion['DIALOGO'].astype(str)\n",
    "homologa_profesion['IBS']= homologa_profesion['IBS'].astype(str)"
   ]
  },
  {
   "cell_type": "code",
   "execution_count": 174,
   "metadata": {},
   "outputs": [],
   "source": [
    "homologa_barrio = pd.read_excel('barrios.xlsx',sep=' ', dtype= str)\n",
    "homologa_barrio.columns = ['DIALOGO', 'IBS']"
   ]
  },
  {
   "cell_type": "code",
   "execution_count": 175,
   "metadata": {},
   "outputs": [],
   "source": [
    "homologa_tipo_local = {\"DIALOGO\":['SIN DATO', 'PROPIA SIN HIPOTECA', 'PROPIO CON HIPOTECA', 'FAMILIAR', 'ARRENDADA','NaN'],\"IBS\":[9999,1,2,3,4,5]}\n",
    "homologa_tipo_local = pd.DataFrame(homologa_tipo_local)"
   ]
  },
  {
   "cell_type": "code",
   "execution_count": 176,
   "metadata": {},
   "outputs": [],
   "source": [
    "homologa_tipo_contrato = {\"DIALOGO\":['INDEFINIDO', 'POR SERVICIOS', 'SIN VINCULO', 'TEMPORAL', 'TERMINO FIJO','NaN','APRENDIZ'],\"IBS\":['INDEFINIDO','PRESTACION DE SERVICIOS', 'NaN', 'OBRA O LABOR CONTRATADA','FIJO', 'NaN', 'APRENDIZAJE']}\n",
    "homologa_tipo_contrato = pd.DataFrame(homologa_tipo_contrato)"
   ]
  },
  {
   "cell_type": "code",
   "execution_count": 177,
   "metadata": {},
   "outputs": [],
   "source": [
    "homologa_cobertura_salud =  {\"DIALOGO\":['EPS','ISS','NO POSEE','OTROS','SISBEN','PREPAGADA','PLAN COMPLEMENTARIO'],\"IBS\":[1,3,5,5,2,10,11]}\n",
    "homologa_cobertura_salud = pd.DataFrame(homologa_cobertura_salud)"
   ]
  },
  {
   "cell_type": "code",
   "execution_count": 178,
   "metadata": {},
   "outputs": [],
   "source": [
    "homologa_actividad = pd.read_excel('Actividades_V2.xlsx', skipinitialspace=True, encoding= 'ansi', dtype = str )\n",
    "homologa_actividad.columns=['DIALOGO', 'IBS']\n",
    "homologa_actividad['DIALOGO']= homologa_actividad['DIALOGO'].astype(str)\n",
    "homologa_actividad['IBS']= homologa_actividad['IBS'].astype(str)"
   ]
  },
  {
   "cell_type": "code",
   "execution_count": 179,
   "metadata": {},
   "outputs": [],
   "source": [
    "homologa_tipo_vivienda = {\"DIALOGO\":['SIN DATO', 'PROPIA SIN HIPOTECA', 'PROPIO CON HIPOTECA', 'FAMILIAR', 'ARRENDADA','NaN'],\"IBS\":[0,1,2,4,3,9999]}\n",
    "homologa_tipo_vivienda = pd.DataFrame(homologa_tipo_vivienda)"
   ]
  },
  {
   "cell_type": "code",
   "execution_count": 180,
   "metadata": {},
   "outputs": [],
   "source": [
    "homologa_linea = pd.read_excel('linea_credito_v2.xlsx', skipinitialspace=True, encoding= 'ansi', dtype = str )\n",
    "homologa_linea.columns=['DIALOGO', 'IBS']\n",
    "homologa_linea['DIALOGO']= homologa_linea['DIALOGO'].astype(float)\n",
    "homologa_linea['IBS']= homologa_linea['IBS'].astype(str)"
   ]
  },
  {
   "cell_type": "code",
   "execution_count": 181,
   "metadata": {},
   "outputs": [],
   "source": [
    "homologa_caja = pd.read_excel('caja_compensaci.xlsx', skipinitialspace=True, encoding= 'ansi', dtype = str )\n",
    "homologa_caja.columns=['DIALOGO', 'IBS']\n",
    "homologa_caja['DIALOGO']= homologa_caja['DIALOGO'].astype(str)\n",
    "homologa_caja['IBS']= homologa_caja['IBS'].astype(str)"
   ]
  },
  {
   "cell_type": "code",
   "execution_count": 182,
   "metadata": {},
   "outputs": [],
   "source": [
    "homologa_ocup_conyuge = pd.read_excel('ocup_conyuge.xlsx', skipinitialspace=True, encoding= 'ansi', dtype = str )\n",
    "homologa_ocup_conyuge.columns=['DIALOGO', 'IBS']\n",
    "homologa_ocup_conyuge['DIALOGO']= homologa_ocup_conyuge['DIALOGO'].astype(str)\n",
    "homologa_ocup_conyuge['IBS']= homologa_ocup_conyuge['IBS'].astype(str)"
   ]
  },
  {
   "cell_type": "code",
   "execution_count": 183,
   "metadata": {},
   "outputs": [],
   "source": [
    "homologa_cargo = pd.read_excel('cargo.xlsx', skipinitialspace=True, encoding= 'ansi', dtype = str )\n",
    "homologa_cargo.columns=['DIALOGO', 'IBS']\n",
    "homologa_cargo['DIALOGO']= homologa_cargo['DIALOGO'].astype(str)\n",
    "homologa_cargo['IBS']= homologa_cargo['IBS'].astype(str)"
   ]
  },
  {
   "cell_type": "code",
   "execution_count": 184,
   "metadata": {},
   "outputs": [],
   "source": [
    "homologa_departamento = pd.read_excel('Deptos.xlsx',sep=' ', dtype= str)\n",
    "homologa_departamento.columns = ['DIALOGO', 'IBS']"
   ]
  },
  {
   "cell_type": "code",
   "execution_count": 185,
   "metadata": {},
   "outputs": [
    {
     "name": "stdout",
     "output_type": "stream",
     "text": [
      "['SOLICITUDES_2007.txt', 'SOLICITUDES_2008.txt', 'SOLICITUDES_2009.txt', 'SOLICITUDES_2010.txt', 'SOLICITUDES_2011.txt', 'SOLICITUDES_201501.txt', 'SOLICITUDES_201502.txt', 'SOLICITUDES_201503.txt', 'SOLICITUDES_201504.txt', 'SOLICITUDES_201505.txt', 'SOLICITUDES_201506.txt', 'SOLICITUDES_201507.txt', 'SOLICITUDES_201508.txt', 'SOLICITUDES_201509.txt', 'SOLICITUDES_201510.txt', 'SOLICITUDES_201511.txt', 'SOLICITUDES_201512.txt', 'SOLICITUDES_201601.txt', 'SOLICITUDES_201602.txt', 'SOLICITUDES_201603.txt', 'SOLICITUDES_201604.txt', 'SOLICITUDES_201605.txt', 'SOLICITUDES_201606.txt', 'SOLICITUDES_201607.txt', 'SOLICITUDES_201608.txt', 'SOLICITUDES_201609.txt', 'SOLICITUDES_201610.txt', 'SOLICITUDES_201611.txt', 'SOLICITUDES_201612.txt', 'SOLICITUDES_201701.txt', 'SOLICITUDES_201702.txt', 'SOLICITUDES_201703.txt', 'SOLICITUDES_201704.txt', 'SOLICITUDES_201705.txt', 'SOLICITUDES_201706.txt', 'SOLICITUDES_201707.txt', 'SOLICITUDES_201708.txt', 'SOLICITUDES_201709.txt', 'SOLICITUDES_201710.txt', 'SOLICITUDES_201711.txt', 'SOLICITUDES_201712.txt', 'SOLICITUDES_201801.txt', 'SOLICITUDES_201802.txt', 'SOLICITUDES_201803.txt', 'SOLICITUDES_201804.txt', 'SOLICITUDES_201805.txt', 'SOLICITUDES_201806.txt', 'SOLICITUDES_201809.txt', 'SOLICITUDES_201810.txt', 'SOLICITUDES_201811.txt', 'SOLICITUDES_201812.txt', 'SOLICITUDES_201901.txt', 'SOLICITUDES_201902.txt', 'SOLICITUDES_201903.txt']\n"
     ]
    }
   ],
   "source": [
    "path_input=r'\\\\192.168.0.16\\Gerencia de Riesgos\\SARC de GESTION\\Informacion Coordinacion Tecnica\\2 Solicitudes'\n",
    "os.chdir(r'\\\\192.168.0.16\\Gerencia de Riesgos\\SARC de GESTION\\Informacion Coordinacion Tecnica\\2 Solicitudes')\n",
    "filenames=glob.glob('**/SOLICITUDES_**.txt', recursive=True)\n",
    "print(filenames)"
   ]
  },
  {
   "cell_type": "code",
   "execution_count": 186,
   "metadata": {},
   "outputs": [],
   "source": [
    "filenames =['SOLICITUDES_201709.txt', 'SOLICITUDES_201710.txt', 'SOLICITUDES_201711.txt', 'SOLICITUDES_201712.txt', 'SOLICITUDES_201801.txt', 'SOLICITUDES_201802.txt', 'SOLICITUDES_201803.txt','SOLICITUDES_201809.txt', 'SOLICITUDES_201810.txt', 'SOLICITUDES_201811.txt', 'SOLICITUDES_201812.txt']"
   ]
  },
  {
   "cell_type": "code",
   "execution_count": 187,
   "metadata": {},
   "outputs": [
    {
     "name": "stdout",
     "output_type": "stream",
     "text": [
      "SOLICITUDES_201709.txt\n",
      "(4330, 131)\n",
      "(4330, 131)\n",
      "(4330, 131)\n",
      "(4330, 131)\n",
      "(4330, 131)\n",
      "(4330, 131)\n",
      "(4330, 131)\n",
      "(4330, 131)\n",
      "(4330, 131)\n",
      "(4330, 131)\n",
      "(4330, 131)\n",
      "(4330, 131)\n",
      "(4330, 131)\n",
      "(4330, 131)\n",
      "(4330, 132)\n",
      "SOLICITUDES_201710.txt\n",
      "(4733, 131)\n",
      "(4733, 131)\n",
      "(4733, 131)\n",
      "(4733, 131)\n",
      "(4733, 131)\n",
      "(4733, 131)\n",
      "(4733, 131)\n",
      "(4733, 131)\n",
      "(4733, 131)\n",
      "(4733, 131)\n",
      "(4733, 131)\n",
      "(4733, 131)\n",
      "(4733, 131)\n",
      "(4733, 131)\n",
      "(4733, 132)\n",
      "SOLICITUDES_201711.txt\n",
      "(5387, 131)\n",
      "(5387, 131)\n",
      "(5387, 131)\n",
      "(5387, 131)\n",
      "(5387, 131)\n",
      "(5387, 131)\n",
      "(5387, 131)\n",
      "(5387, 131)\n",
      "(5387, 131)\n",
      "(5387, 131)\n",
      "(5387, 131)\n",
      "(5387, 131)\n",
      "(5387, 131)\n",
      "(5387, 131)\n",
      "(5387, 132)\n",
      "SOLICITUDES_201712.txt\n",
      "(4168, 131)\n",
      "(4168, 131)\n",
      "(4168, 131)\n",
      "(4168, 131)\n",
      "(4168, 131)\n",
      "(4168, 131)\n",
      "(4168, 131)\n",
      "(4168, 131)\n",
      "(4168, 131)\n",
      "(4168, 131)\n",
      "(4168, 131)\n",
      "(4168, 131)\n",
      "(4168, 131)\n",
      "(4168, 131)\n",
      "(4168, 132)\n",
      "SOLICITUDES_201801.txt\n",
      "(4404, 131)\n",
      "(4404, 131)\n",
      "(4404, 131)\n",
      "(4404, 131)\n",
      "(4404, 131)\n",
      "(4404, 131)\n",
      "(4404, 131)\n",
      "(4404, 131)\n",
      "(4404, 131)\n",
      "(4404, 131)\n",
      "(4404, 131)\n",
      "(4404, 131)\n",
      "(4404, 131)\n",
      "(4404, 131)\n",
      "(4404, 132)\n",
      "SOLICITUDES_201802.txt\n",
      "(4262, 131)\n",
      "(4262, 131)\n",
      "(4262, 131)\n",
      "(4262, 131)\n",
      "(4262, 131)\n",
      "(4262, 131)\n",
      "(4262, 131)\n",
      "(4262, 131)\n",
      "(4262, 131)\n",
      "(4262, 131)\n",
      "(4262, 131)\n",
      "(4262, 131)\n",
      "(4262, 131)\n",
      "(4262, 131)\n",
      "(4262, 132)\n",
      "SOLICITUDES_201803.txt\n",
      "(4196, 131)\n",
      "(4196, 131)\n",
      "(4196, 131)\n",
      "(4196, 131)\n",
      "(4196, 131)\n",
      "(4196, 131)\n",
      "(4196, 131)\n",
      "(4196, 131)\n",
      "(4196, 131)\n",
      "(4196, 131)\n",
      "(4196, 131)\n",
      "(4196, 131)\n",
      "(4196, 131)\n",
      "(4196, 131)\n",
      "(4196, 132)\n",
      "SOLICITUDES_201809.txt\n",
      "(3917, 131)\n",
      "(3917, 131)\n",
      "(3917, 131)\n",
      "(3917, 131)\n",
      "(3917, 131)\n",
      "(3917, 131)\n",
      "(3917, 131)\n",
      "(3917, 131)\n",
      "(3917, 131)\n",
      "(3917, 131)\n",
      "(3917, 131)\n",
      "(3917, 131)\n",
      "(3917, 131)\n",
      "(3917, 131)\n",
      "(3917, 132)\n",
      "SOLICITUDES_201810.txt\n",
      "(4420, 131)\n",
      "(4420, 131)\n",
      "(4420, 131)\n",
      "(4420, 131)\n",
      "(4420, 131)\n",
      "(4420, 131)\n",
      "(4420, 131)\n",
      "(4420, 131)\n",
      "(4420, 131)\n",
      "(4420, 131)\n",
      "(4420, 131)\n",
      "(4420, 131)\n",
      "(4420, 131)\n",
      "(4420, 131)\n",
      "(4420, 132)\n",
      "SOLICITUDES_201811.txt\n",
      "(4432, 131)\n",
      "(4432, 131)\n",
      "(4432, 131)\n",
      "(4432, 131)\n",
      "(4432, 131)\n",
      "(4432, 131)\n",
      "(4432, 131)\n",
      "(4432, 131)\n",
      "(4432, 131)\n",
      "(4432, 131)\n",
      "(4432, 131)\n",
      "(4432, 131)\n",
      "(4432, 131)\n",
      "(4432, 131)\n",
      "(4432, 132)\n",
      "SOLICITUDES_201812.txt\n",
      "(4069, 131)\n",
      "(4069, 131)\n",
      "(4069, 131)\n",
      "(4069, 131)\n",
      "(4069, 131)\n",
      "(4069, 131)\n",
      "(4069, 131)\n",
      "(4069, 131)\n",
      "(4069, 131)\n",
      "(4069, 131)\n",
      "(4069, 131)\n",
      "(4069, 131)\n",
      "(4069, 131)\n",
      "(4069, 131)\n",
      "(4069, 132)\n"
     ]
    }
   ],
   "source": [
    "for file in filenames: \n",
    "    print(file)\n",
    "    path_input=r'\\\\192.168.0.16\\Gerencia de Riesgos\\SARC de GESTION\\Informacion Coordinacion Tecnica\\2 Solicitudes'\n",
    "    os.chdir(r'\\\\192.168.0.16\\Gerencia de Riesgos\\SARC de GESTION\\Informacion Coordinacion Tecnica\\2 Solicitudes')\n",
    "    solicitudes = pd.read_csv(file, sep='\\t', encoding = 'ansi',dtype={'tipo_id':np.int64 ,'nro_id':np.object, 'estado_civil':np.object, 'genero':np.object,'cod_activ_experto2':np.object,'nivel_academico':np.object, 'profesion': np.object, 'ciudad_nacimiento': np.object, 'barrio_residencia':np.object, 'barrio_micro': np.object},float_precision = True, nrows=None)\n",
    "    solicitudes['corte']=file[12:18]\n",
    "    print(solicitudes.shape)\n",
    "    solicitudes_2=solicitudes.merge(homologa_id_1, how='left', left_on='tipo_id', right_on='DIALOGO')\n",
    "    solicitudes_2.tipo_id=solicitudes_2['IBS']\n",
    "    solicitudes_2.drop([ 'DIALOGO', 'IBS'], axis=1, inplace=True)\n",
    "    solicitudes_2.fillna('NaN', inplace=True)\n",
    "    solicitudes_3=solicitudes_2.merge(homologa_genero, how='left', left_on='genero', right_on='DIALOGO')\n",
    "    solicitudes_3.genero=solicitudes_3['IBS']\n",
    "    solicitudes_3.drop([ 'DIALOGO', 'IBS'], axis=1, inplace=True)\n",
    "    solicitudes_3.fillna('NaN', inplace=True)\n",
    "    solicitudes_4=solicitudes_3.merge(homologa_estado_civil, how='left', left_on='estado_civil', right_on='DIALOGO')\n",
    "    solicitudes_4.estado_civil=solicitudes_4['IBS']\n",
    "    solicitudes_4.drop([ 'DIALOGO', 'IBS'], axis=1, inplace=True)\n",
    "    solicitudes_4.fillna('NaN', inplace=True)\n",
    "    solicitudes_5=solicitudes_4.merge(homologa_nivel_academico, how='left', left_on='nivel_academico', right_on='DIALOGO')\n",
    "    solicitudes_5.nivel_academico=solicitudes_5['IBS']\n",
    "    solicitudes_5.drop([ 'DIALOGO', 'IBS'], axis=1, inplace=True)\n",
    "    solicitudes_5.fillna('NaN', inplace=True)\n",
    "    solicitudes_6=solicitudes_5.merge(homologa_profesion, how='left', left_on='profesion', right_on='DIALOGO')\n",
    "    solicitudes_6.profesion=solicitudes_6['IBS']\n",
    "    solicitudes_6.drop([ 'DIALOGO', 'IBS'], axis=1, inplace=True)\n",
    "    solicitudes_6.fillna('NaN', inplace=True)\n",
    "    #solicitudes_7=solicitudes_6.merge(homologa_barrio, how='left', left_on='barrio_residencia', right_on='DIALOGO')\n",
    "    #solicitudes_7.barrio_residencia=solicitudes_7['IBS']\n",
    "    #solicitudes_7.drop([ 'DIALOGO', 'IBS'], axis=1, inplace=True)\n",
    "    #solicitudes_7.fillna('NaN', inplace=True)\n",
    "    #solicitudes_9=solicitudes_8.merge(homologa_barrio, how='left', left_on='barrio_micro', right_on='DIALOGO')\n",
    "    #solicitudes_9.barrio_micro=solicitudes_9['IBS']\n",
    "    #solicitudes_9.drop([ 'DIALOGO', 'IBS'], axis=1, inplace=True)\n",
    "    #solicitudes_9.fillna('NaN', inplace=True)\n",
    "    solicitudes_10=solicitudes_6.merge(homologa_tipo_local, how='left', left_on='tipo_local', right_on='DIALOGO')\n",
    "    solicitudes_10.tipo_local=solicitudes_10['IBS']\n",
    "    solicitudes_10.drop([ 'DIALOGO', 'IBS'], axis=1, inplace=True)\n",
    "    solicitudes_10.fillna('NaN', inplace=True)\n",
    "    solicitudes_11=solicitudes_10.merge(homologa_tipo_contrato, how='left', left_on='tipo_contrato', right_on='DIALOGO')\n",
    "    solicitudes_11.tipo_contrato=solicitudes_11['IBS']\n",
    "    solicitudes_11.drop([ 'DIALOGO', 'IBS'], axis=1, inplace=True)\n",
    "    solicitudes_11.fillna('NaN', inplace=True)\n",
    "    solicitudes_12=solicitudes_11.merge(homologa_cobertura_salud, how='left', left_on='cobertura_salud', right_on='DIALOGO')\n",
    "    solicitudes_12.cobertura_salud=solicitudes_12['IBS']\n",
    "    solicitudes_12.drop([ 'DIALOGO', 'IBS'], axis=1, inplace=True)\n",
    "    solicitudes_12.fillna('NaN', inplace=True)\n",
    "    solicitudes_13=solicitudes_12.merge(homologa_actividad, how='left', left_on='actividad', right_on='DIALOGO')\n",
    "    solicitudes_13.actividad=solicitudes_13['IBS']\n",
    "    solicitudes_13.drop([ 'DIALOGO', 'IBS'], axis=1, inplace=True)\n",
    "    solicitudes_13.fillna('NaN', inplace=True)\n",
    "    solicitudes_14=solicitudes_13.merge(homologa_tipo_vivienda, how='left', left_on='tipo_vivienda', right_on='DIALOGO')\n",
    "    solicitudes_14.tipo_vivienda=solicitudes_14['IBS']\n",
    "    solicitudes_14.drop([ 'DIALOGO', 'IBS'], axis=1, inplace=True)\n",
    "    solicitudes_14.fillna('NaN', inplace=True)\n",
    "    solicitudes_15=solicitudes_14.merge(homologa_linea, how='left', left_on='cod_linea', right_on='DIALOGO')\n",
    "    solicitudes_15.cod_linea=solicitudes_15['IBS']\n",
    "    solicitudes_15.drop([ 'DIALOGO', 'IBS'], axis=1, inplace=True)\n",
    "    solicitudes_15.fillna('NaN', inplace=True)\n",
    "    solicitudes_16=solicitudes_15.merge(homologa_ocup_conyuge, how='left', left_on='ocupacion_conyuge', right_on='DIALOGO')\n",
    "    solicitudes_16.ocupacion_conyuge=solicitudes_16['IBS']\n",
    "    solicitudes_16.drop([ 'DIALOGO', 'IBS'], axis=1, inplace=True)\n",
    "    solicitudes_16.fillna('NaN', inplace=True)\n",
    "    solicitudes_17=solicitudes_16.merge(homologa_cargo, how='left', left_on='cargo', right_on='DIALOGO')\n",
    "    solicitudes_17.cargo=solicitudes_17['IBS']\n",
    "    solicitudes_17.drop([ 'DIALOGO', 'IBS'], axis=1, inplace=True)\n",
    "    solicitudes_17.fillna('NaN', inplace=True)\n",
    "    solicitudes_18=solicitudes_17.merge(homologa_departamento, how='left', left_on='depto_residencia', right_on='DIALOGO')\n",
    "    solicitudes_18.depto_residencia=solicitudes_18['IBS']\n",
    "    solicitudes_18.drop([ 'DIALOGO'], axis=1, inplace=True)\n",
    "    solicitudes_18.fillna('NaN', inplace=True)\n",
    "    print(solicitudes_2.shape)\n",
    "    print(solicitudes_3.shape)\n",
    "    print(solicitudes_4.shape)\n",
    "    print(solicitudes_5.shape)\n",
    "    print(solicitudes_6.shape)\n",
    "    print(solicitudes_10.shape)\n",
    "    print(solicitudes_11.shape)\n",
    "    print(solicitudes_12.shape)\n",
    "    print(solicitudes_13.shape)\n",
    "    print(solicitudes_14.shape)\n",
    "    print(solicitudes_15.shape)\n",
    "    print(solicitudes_16.shape)\n",
    "    print(solicitudes_17.shape)\n",
    "    print(solicitudes_18.shape)\n",
    "        \n",
    "\n",
    "    #solicitudes_19=solicitudes_18.merge(homologa_departamento, how='left', left_on='depto_micro', right_on='DIALOGO')\n",
    "    #solicitudes_19.depto_micro=solicitudes_19['IBS']\n",
    "    #solicitudes_19.drop([ 'DIALOGO'], axis=1, inplace=True)\n",
    "    #solicitudes_19.fillna('NaN', inplace=True)\n",
    "    \n",
    "    #solicitudes_14['fecha_desembolso2']= pd.to_datetime(solicitudes_14['fecha_desembolso'], errors='coerce').dt.date.astype(str)\n",
    "    #solicitudes_17['fecha_desembolso2']=np.where(solicitudes_17['fecha_desembolso']).isna(),solicitudes_17['fecha_desembolso'],solicitudes_17['fecha_desembolso2'].str.slice(0,4)+solicitudes_17['fecha_desembolso2'].str.slice(5,7))\n",
    "    os.chdir(r'\\\\192.168.0.16\\Gerencia de Riesgos\\SARC de GESTION\\MODELOS_SARC_GESTION_HOMOLOGADO\\ENTRADA_NEUROSCORE')\n",
    "    solicitudes_18.to_csv(file, index=False,  sep='\\t', encoding='ansi')"
   ]
  },
  {
   "cell_type": "code",
   "execution_count": 190,
   "metadata": {},
   "outputs": [],
   "source": [
    "os.chdir(r'\\\\192.168.0.16\\Gerencia de Riesgos\\SARC de GESTION\\MODELOS_SARC_GESTION_HOMOLOGADO\\ENTRADA_NEUROSCORE')\n",
    "base_solicitudes = pd.concat([pd.read_csv(file, sep='\\t', encoding ='ansi') for file in filenames ])"
   ]
  },
  {
   "cell_type": "code",
   "execution_count": 191,
   "metadata": {},
   "outputs": [
    {
     "data": {
      "text/plain": [
       "(48318, 132)"
      ]
     },
     "execution_count": 191,
     "metadata": {},
     "output_type": "execute_result"
    }
   ],
   "source": [
    "base_solicitudes.shape"
   ]
  },
  {
   "cell_type": "code",
   "execution_count": 192,
   "metadata": {},
   "outputs": [],
   "source": [
    "os.chdir(r'\\\\192.168.0.16\\Gerencia de Riesgos\\Modelos de Riesgo\\00. AREA MODELOS\\48. BASES DE DATOS MODELOS\\Data-Originación-Zuleyma')"
   ]
  },
  {
   "cell_type": "code",
   "execution_count": 193,
   "metadata": {},
   "outputs": [],
   "source": [
    "base_solicitudes.to_csv('base_solicitudes_201709_201803_09_12_v3.txt', index=False,  sep='\\t', encoding='ansi')"
   ]
  }
 ],
 "metadata": {
  "kernelspec": {
   "display_name": "Python 3",
   "language": "python",
   "name": "python3"
  },
  "language_info": {
   "codemirror_mode": {
    "name": "ipython",
    "version": 3
   },
   "file_extension": ".py",
   "mimetype": "text/x-python",
   "name": "python",
   "nbconvert_exporter": "python",
   "pygments_lexer": "ipython3",
   "version": "3.7.4"
  }
 },
 "nbformat": 4,
 "nbformat_minor": 2
}
