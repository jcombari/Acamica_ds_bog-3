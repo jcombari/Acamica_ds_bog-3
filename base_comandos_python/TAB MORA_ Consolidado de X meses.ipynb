{
 "cells": [
  {
   "cell_type": "markdown",
   "metadata": {},
   "source": [
    "<h1><center><font size =7 color=\"#B3172D\">TAB MORA</font> </center></h1>"
   ]
  },
  {
   "cell_type": "code",
   "execution_count": 274,
   "metadata": {},
   "outputs": [],
   "source": [
    "# Librerias\n",
    "import pandas as pd #dataframe\n",
    "import os #direcciones\n",
    "import numpy as np #formato de variables la importar\n",
    "import glob# leer archivos con el mismo nombre de una ruta especifica\n",
    "import matplotlib.pyplot as plt # Graficar\n",
    "import seaborn as sns \n",
    "pd.set_option('display.max_rows', None) \n",
    "import datetime as dt\n",
    "from matplotlib.pyplot import figure\n",
    "from seaborn import distplot \n",
    "pd.set_option('display.max_colwidth', -1)\n",
    "pd.set_option('display.width', -1)\n",
    "pd.set_option('display.max_columns',None)\n",
    "from datetime import datetime\n",
    "from dateutil.parser import parse\n",
    "import ctypes\n",
    "import dateutil.relativedelta"
   ]
  },
  {
   "cell_type": "code",
   "execution_count": 275,
   "metadata": {},
   "outputs": [
    {
     "name": "stdout",
     "output_type": "stream",
     "text": [
      "The jupyternotify extension is already loaded. To reload it, use:\n",
      "  %reload_ext jupyternotify\n"
     ]
    }
   ],
   "source": [
    "%load_ext jupyternotify"
   ]
  },
  {
   "cell_type": "code",
   "execution_count": 276,
   "metadata": {},
   "outputs": [],
   "source": [
    "import time\n",
    "start = time.time()"
   ]
  },
  {
   "cell_type": "markdown",
   "metadata": {
    "scrolled": true
   },
   "source": [
    "%load_ext jupyternotify #Comentar esta línea sí no se tiene instalada la libreria."
   ]
  },
  {
   "cell_type": "code",
   "execution_count": 277,
   "metadata": {},
   "outputs": [],
   "source": [
    "def Mbox(title, text, style):\n",
    "    return ctypes.windll.user32.MessageBoxW(0, text, title, style)"
   ]
  },
  {
   "cell_type": "markdown",
   "metadata": {},
   "source": [
    "###### Devuelve un mensaje cuando termina la ejecución del programa\n",
    "%%notify\n",
    "import time\n",
    "time.sleep(5)"
   ]
  },
  {
   "cell_type": "markdown",
   "metadata": {},
   "source": [
    "<h1><font size =7 color=\"#094C73\">Code starts from here</font> </h1>"
   ]
  },
  {
   "cell_type": "code",
   "execution_count": 278,
   "metadata": {},
   "outputs": [],
   "source": [
    "#Historia mensual No Homologado\n",
    "# path_input=(r'\\\\192.168.0.16\\Gerencia de Riesgos\\SARC de GESTION\\MODELOS_SARC_GESTION\\ENTRADA_BEHAVESCORE\\HISTORIA_MENSUAL')\n",
    "# os.chdir(r'\\\\192.168.0.16\\Gerencia de Riesgos\\SARC de GESTION\\MODELOS_SARC_GESTION\\ENTRADA_BEHAVESCORE\\HISTORIA_MENSUAL')"
   ]
  },
  {
   "cell_type": "code",
   "execution_count": 279,
   "metadata": {},
   "outputs": [],
   "source": [
    "#Ruta\n",
    "path_input=(r'\\Users\\migue\\Python\\behave_score\\HISTORIA_MENSUAL')\n",
    "os.chdir(r'\\Users\\migue\\Python\\behave_score\\HISTORIA_MENSUAL')\n",
    "filenames=glob.glob('**/Mora**.txt', recursive=True)"
   ]
  },
  {
   "cell_type": "code",
   "execution_count": 280,
   "metadata": {},
   "outputs": [
    {
     "name": "stdout",
     "output_type": "stream",
     "text": [
      "Ingrese la fecha de mora1 \"AAAAMM\": 201506\n"
     ]
    }
   ],
   "source": [
    "#Población objetivo mora1\n",
    "pob_objetivo = input('Ingrese la fecha de mora1 \"AAAAMM\": ')\n",
    "year = pob_objetivo[:4]\n",
    "month = pob_objetivo[4:6]\n",
    "date_pob = (year + '-' + month)\n",
    "my_date_pob = datetime.strptime(date_pob, \"%Y-%m\")\n",
    "file_name_mora1 = ('Mora_' + pob_objetivo + '.txt')"
   ]
  },
  {
   "cell_type": "code",
   "execution_count": 281,
   "metadata": {},
   "outputs": [],
   "source": [
    "if file_name_mora1 in filenames:\n",
    "    mora1= pd.read_csv(file_name_mora1, sep=None, engine='python')\n",
    "    mora1.columns = mora1.columns.str.strip().str.lower().str.replace(' ', '_').str.replace('(', '').str.replace(')', '').str.replace('@', '').str.replace('.', '').str.replace('á','a').str.replace('é','e').str.replace('í','i').str.replace('ó','o').str.replace('ú','u').str.replace(',','.')\n",
    "else:\n",
    "    Mbox('Error', 'El archivo ' + file_name_mora1 + ' no existe en el directorio actual:' + '\\n' + str(path_input), 0x1000)"
   ]
  },
  {
   "cell_type": "code",
   "execution_count": 282,
   "metadata": {
    "scrolled": true
   },
   "outputs": [
    {
     "data": {
      "text/html": [
       "<div>\n",
       "<style scoped>\n",
       "    .dataframe tbody tr th:only-of-type {\n",
       "        vertical-align: middle;\n",
       "    }\n",
       "\n",
       "    .dataframe tbody tr th {\n",
       "        vertical-align: top;\n",
       "    }\n",
       "\n",
       "    .dataframe thead th {\n",
       "        text-align: right;\n",
       "    }\n",
       "</style>\n",
       "<table border=\"1\" class=\"dataframe\">\n",
       "  <thead>\n",
       "    <tr style=\"text-align: right;\">\n",
       "      <th></th>\n",
       "      <th>id</th>\n",
       "      <th>obligacion</th>\n",
       "      <th>cod_credito</th>\n",
       "      <th>mora1</th>\n",
       "    </tr>\n",
       "  </thead>\n",
       "  <tbody>\n",
       "    <tr>\n",
       "      <td>0</td>\n",
       "      <td>74300362</td>\n",
       "      <td>200000252372</td>\n",
       "      <td>2001</td>\n",
       "      <td>0</td>\n",
       "    </tr>\n",
       "    <tr>\n",
       "      <td>1</td>\n",
       "      <td>87433209</td>\n",
       "      <td>200000019555</td>\n",
       "      <td>2001</td>\n",
       "      <td>1</td>\n",
       "    </tr>\n",
       "    <tr>\n",
       "      <td>2</td>\n",
       "      <td>19115492</td>\n",
       "      <td>200000467714</td>\n",
       "      <td>2001</td>\n",
       "      <td>0</td>\n",
       "    </tr>\n",
       "    <tr>\n",
       "      <td>3</td>\n",
       "      <td>30971295</td>\n",
       "      <td>200000014085</td>\n",
       "      <td>2001</td>\n",
       "      <td>0</td>\n",
       "    </tr>\n",
       "    <tr>\n",
       "      <td>4</td>\n",
       "      <td>19344384</td>\n",
       "      <td>200000099019</td>\n",
       "      <td>2001</td>\n",
       "      <td>0</td>\n",
       "    </tr>\n",
       "  </tbody>\n",
       "</table>\n",
       "</div>"
      ],
      "text/plain": [
       "         id  \\\n",
       "0  74300362   \n",
       "1  87433209   \n",
       "2  19115492   \n",
       "3  30971295   \n",
       "4  19344384   \n",
       "\n",
       "     obligacion  \\\n",
       "0  200000252372   \n",
       "1  200000019555   \n",
       "2  200000467714   \n",
       "3  200000014085   \n",
       "4  200000099019   \n",
       "\n",
       "   cod_credito  \\\n",
       "0  2001          \n",
       "1  2001          \n",
       "2  2001          \n",
       "3  2001          \n",
       "4  2001          \n",
       "\n",
       "   mora1  \n",
       "0  0      \n",
       "1  1      \n",
       "2  0      \n",
       "3  0      \n",
       "4  0      "
      ]
     },
     "execution_count": 282,
     "metadata": {},
     "output_type": "execute_result"
    }
   ],
   "source": [
    "mora1_copy = mora1.copy()\n",
    "mora1_copy = mora1_copy.drop(mora1_copy.columns[[4,0]], axis=1)\n",
    "tab_mora = mora1_copy.copy()\n",
    "tab_mora.dropna(thresh=1000 ,axis=1, inplace=True)\n",
    "tab_mora.columns = (['id', 'obligacion', 'cod_credito', 'mora1'])\n",
    "tab_mora.head()"
   ]
  },
  {
   "cell_type": "markdown",
   "metadata": {},
   "source": [
    "###### Cantidad de meses => cant_mes_tab = 36"
   ]
  },
  {
   "cell_type": "code",
   "execution_count": 283,
   "metadata": {},
   "outputs": [],
   "source": [
    "#Pide al usuario la cantidad de meses para construir el vector\n",
    "# cant_mes_tab = input('Ingrese la cantidad de meses hacia atrás para la construcción del TAB_MORA: ')\n",
    "cant_mes_tab =  17\n",
    "lista = []\n",
    "date=[]\n",
    "for i in np.arange(1,int(cant_mes_tab)+1,1):\n",
    "    lista.append(my_date_pob + dateutil.relativedelta.relativedelta(months=-int(i))) \n",
    "for item in lista:\n",
    "    date.append('Mora_' + item.strftime('%Y%m') + '.txt')"
   ]
  },
  {
   "cell_type": "code",
   "execution_count": 284,
   "metadata": {
    "scrolled": true
   },
   "outputs": [
    {
     "name": "stdout",
     "output_type": "stream",
     "text": [
      "Archivos proximos a cargar:\n",
      "Mora_201505.txt\n",
      "Mora_201504.txt\n",
      "Mora_201503.txt\n",
      "Mora_201502.txt\n",
      "Mora_201501.txt\n",
      "Mora_201412.txt\n",
      "Mora_201411.txt\n",
      "Mora_201410.txt\n",
      "Mora_201409.txt\n",
      "Mora_201408.txt\n",
      "Mora_201407.txt\n",
      "Mora_201406.txt\n",
      "Mora_201405.txt\n",
      "Mora_201404.txt\n",
      "Mora_201403.txt\n",
      "Mora_201402.txt\n",
      "Mora_201401.txt\n"
     ]
    }
   ],
   "source": [
    "#Archivos cargados\n",
    "print('Archivos proximos a cargar:')\n",
    "for item in date:\n",
    "    if item in filenames:\n",
    "        print(item)\n",
    "    else:\n",
    "        Mbox('Error', 'El archivo ' + item + ' no existe en el directorio actual:' + '\\n' + str(path_input), 0x1000)\n",
    "        print('El archivo ' + item + ' no se cargó correctamente')"
   ]
  },
  {
   "cell_type": "code",
   "execution_count": 285,
   "metadata": {
    "scrolled": true
   },
   "outputs": [],
   "source": [
    "dataframes = []\n",
    "for date in date:\n",
    "    dataframes.append(pd.read_csv(date, sep=None, engine='python'))\n",
    "for df in dataframes:\n",
    "    df.drop(df.columns[[3,4]], axis=1, inplace=True)\n",
    "    df.columns = df.columns.str.strip().str.lower().str.replace(' ', '_').str.replace('(', '').str.replace(')', '').str.replace('@', '').str.replace('.', '').str.replace('á','a').str.replace('é','e').str.replace('í','i').str.replace('ó','o').str.replace('ú','u').str.replace(',','.')"
   ]
  },
  {
   "cell_type": "code",
   "execution_count": 286,
   "metadata": {},
   "outputs": [],
   "source": [
    "num_mora_mes = []\n",
    "i=0\n",
    "for df in dataframes:\n",
    "    df.dropna(thresh=1000 ,axis=1, inplace=True)\n",
    "    num_mora_mes.append('mora' + str(i+2))\n",
    "    df.columns = (['tipoid', 'id', 'obligacion', num_mora_mes[i]])\n",
    "    i=i+1"
   ]
  },
  {
   "cell_type": "code",
   "execution_count": 287,
   "metadata": {
    "scrolled": false
   },
   "outputs": [
    {
     "data": {
      "text/html": [
       "<div>\n",
       "<style scoped>\n",
       "    .dataframe tbody tr th:only-of-type {\n",
       "        vertical-align: middle;\n",
       "    }\n",
       "\n",
       "    .dataframe tbody tr th {\n",
       "        vertical-align: top;\n",
       "    }\n",
       "\n",
       "    .dataframe thead th {\n",
       "        text-align: right;\n",
       "    }\n",
       "</style>\n",
       "<table border=\"1\" class=\"dataframe\">\n",
       "  <thead>\n",
       "    <tr style=\"text-align: right;\">\n",
       "      <th></th>\n",
       "      <th>id</th>\n",
       "      <th>obligacion</th>\n",
       "      <th>cod_credito</th>\n",
       "      <th>mora18</th>\n",
       "      <th>mora17</th>\n",
       "      <th>mora16</th>\n",
       "      <th>mora15</th>\n",
       "      <th>mora14</th>\n",
       "      <th>mora13</th>\n",
       "      <th>mora12</th>\n",
       "      <th>mora11</th>\n",
       "      <th>mora10</th>\n",
       "      <th>mora9</th>\n",
       "      <th>mora8</th>\n",
       "      <th>mora7</th>\n",
       "      <th>mora6</th>\n",
       "      <th>mora5</th>\n",
       "      <th>mora4</th>\n",
       "      <th>mora3</th>\n",
       "      <th>mora2</th>\n",
       "      <th>mora1</th>\n",
       "    </tr>\n",
       "  </thead>\n",
       "  <tbody>\n",
       "    <tr>\n",
       "      <td>0</td>\n",
       "      <td>74300362</td>\n",
       "      <td>200000252372</td>\n",
       "      <td>2001</td>\n",
       "      <td>-1.0</td>\n",
       "      <td>0.0</td>\n",
       "      <td>0.0</td>\n",
       "      <td>3.0</td>\n",
       "      <td>0.0</td>\n",
       "      <td>1.0</td>\n",
       "      <td>0.0</td>\n",
       "      <td>1.0</td>\n",
       "      <td>3.0</td>\n",
       "      <td>0.0</td>\n",
       "      <td>1.0</td>\n",
       "      <td>4.0</td>\n",
       "      <td>11.0</td>\n",
       "      <td>4.0</td>\n",
       "      <td>4.0</td>\n",
       "      <td>3.0</td>\n",
       "      <td>1.0</td>\n",
       "      <td>0</td>\n",
       "    </tr>\n",
       "    <tr>\n",
       "      <td>1</td>\n",
       "      <td>87433209</td>\n",
       "      <td>200000019555</td>\n",
       "      <td>2001</td>\n",
       "      <td>-1.0</td>\n",
       "      <td>-1.0</td>\n",
       "      <td>-1.0</td>\n",
       "      <td>-1.0</td>\n",
       "      <td>0.0</td>\n",
       "      <td>0.0</td>\n",
       "      <td>0.0</td>\n",
       "      <td>0.0</td>\n",
       "      <td>0.0</td>\n",
       "      <td>0.0</td>\n",
       "      <td>3.0</td>\n",
       "      <td>0.0</td>\n",
       "      <td>0.0</td>\n",
       "      <td>0.0</td>\n",
       "      <td>0.0</td>\n",
       "      <td>4.0</td>\n",
       "      <td>0.0</td>\n",
       "      <td>1</td>\n",
       "    </tr>\n",
       "    <tr>\n",
       "      <td>2</td>\n",
       "      <td>19115492</td>\n",
       "      <td>200000467714</td>\n",
       "      <td>2001</td>\n",
       "      <td>-1.0</td>\n",
       "      <td>-1.0</td>\n",
       "      <td>-1.0</td>\n",
       "      <td>-1.0</td>\n",
       "      <td>-1.0</td>\n",
       "      <td>-1.0</td>\n",
       "      <td>0.0</td>\n",
       "      <td>0.0</td>\n",
       "      <td>0.0</td>\n",
       "      <td>0.0</td>\n",
       "      <td>0.0</td>\n",
       "      <td>0.0</td>\n",
       "      <td>0.0</td>\n",
       "      <td>0.0</td>\n",
       "      <td>0.0</td>\n",
       "      <td>0.0</td>\n",
       "      <td>0.0</td>\n",
       "      <td>0</td>\n",
       "    </tr>\n",
       "    <tr>\n",
       "      <td>3</td>\n",
       "      <td>30971295</td>\n",
       "      <td>200000014085</td>\n",
       "      <td>2001</td>\n",
       "      <td>-1.0</td>\n",
       "      <td>-1.0</td>\n",
       "      <td>-1.0</td>\n",
       "      <td>-1.0</td>\n",
       "      <td>-1.0</td>\n",
       "      <td>-1.0</td>\n",
       "      <td>-1.0</td>\n",
       "      <td>-1.0</td>\n",
       "      <td>-1.0</td>\n",
       "      <td>-1.0</td>\n",
       "      <td>0.0</td>\n",
       "      <td>0.0</td>\n",
       "      <td>0.0</td>\n",
       "      <td>0.0</td>\n",
       "      <td>0.0</td>\n",
       "      <td>2.0</td>\n",
       "      <td>4.0</td>\n",
       "      <td>0</td>\n",
       "    </tr>\n",
       "    <tr>\n",
       "      <td>4</td>\n",
       "      <td>19344384</td>\n",
       "      <td>200000099019</td>\n",
       "      <td>2001</td>\n",
       "      <td>-1.0</td>\n",
       "      <td>-1.0</td>\n",
       "      <td>-1.0</td>\n",
       "      <td>-1.0</td>\n",
       "      <td>-1.0</td>\n",
       "      <td>-1.0</td>\n",
       "      <td>-1.0</td>\n",
       "      <td>-1.0</td>\n",
       "      <td>-1.0</td>\n",
       "      <td>-1.0</td>\n",
       "      <td>-1.0</td>\n",
       "      <td>-1.0</td>\n",
       "      <td>0.0</td>\n",
       "      <td>0.0</td>\n",
       "      <td>0.0</td>\n",
       "      <td>0.0</td>\n",
       "      <td>0.0</td>\n",
       "      <td>0</td>\n",
       "    </tr>\n",
       "  </tbody>\n",
       "</table>\n",
       "</div>"
      ],
      "text/plain": [
       "         id  \\\n",
       "0  74300362   \n",
       "1  87433209   \n",
       "2  19115492   \n",
       "3  30971295   \n",
       "4  19344384   \n",
       "\n",
       "     obligacion  \\\n",
       "0  200000252372   \n",
       "1  200000019555   \n",
       "2  200000467714   \n",
       "3  200000014085   \n",
       "4  200000099019   \n",
       "\n",
       "   cod_credito  \\\n",
       "0  2001          \n",
       "1  2001          \n",
       "2  2001          \n",
       "3  2001          \n",
       "4  2001          \n",
       "\n",
       "   mora18  \\\n",
       "0 -1.0      \n",
       "1 -1.0      \n",
       "2 -1.0      \n",
       "3 -1.0      \n",
       "4 -1.0      \n",
       "\n",
       "   mora17  \\\n",
       "0  0.0      \n",
       "1 -1.0      \n",
       "2 -1.0      \n",
       "3 -1.0      \n",
       "4 -1.0      \n",
       "\n",
       "   mora16  \\\n",
       "0  0.0      \n",
       "1 -1.0      \n",
       "2 -1.0      \n",
       "3 -1.0      \n",
       "4 -1.0      \n",
       "\n",
       "   mora15  \\\n",
       "0  3.0      \n",
       "1 -1.0      \n",
       "2 -1.0      \n",
       "3 -1.0      \n",
       "4 -1.0      \n",
       "\n",
       "   mora14  \\\n",
       "0  0.0      \n",
       "1  0.0      \n",
       "2 -1.0      \n",
       "3 -1.0      \n",
       "4 -1.0      \n",
       "\n",
       "   mora13  \\\n",
       "0  1.0      \n",
       "1  0.0      \n",
       "2 -1.0      \n",
       "3 -1.0      \n",
       "4 -1.0      \n",
       "\n",
       "   mora12  \\\n",
       "0  0.0      \n",
       "1  0.0      \n",
       "2  0.0      \n",
       "3 -1.0      \n",
       "4 -1.0      \n",
       "\n",
       "   mora11  \\\n",
       "0  1.0      \n",
       "1  0.0      \n",
       "2  0.0      \n",
       "3 -1.0      \n",
       "4 -1.0      \n",
       "\n",
       "   mora10  \\\n",
       "0  3.0      \n",
       "1  0.0      \n",
       "2  0.0      \n",
       "3 -1.0      \n",
       "4 -1.0      \n",
       "\n",
       "   mora9  \\\n",
       "0  0.0     \n",
       "1  0.0     \n",
       "2  0.0     \n",
       "3 -1.0     \n",
       "4 -1.0     \n",
       "\n",
       "   mora8  \\\n",
       "0  1.0     \n",
       "1  3.0     \n",
       "2  0.0     \n",
       "3  0.0     \n",
       "4 -1.0     \n",
       "\n",
       "   mora7  \\\n",
       "0  4.0     \n",
       "1  0.0     \n",
       "2  0.0     \n",
       "3  0.0     \n",
       "4 -1.0     \n",
       "\n",
       "   mora6  \\\n",
       "0  11.0    \n",
       "1  0.0     \n",
       "2  0.0     \n",
       "3  0.0     \n",
       "4  0.0     \n",
       "\n",
       "   mora5  \\\n",
       "0  4.0     \n",
       "1  0.0     \n",
       "2  0.0     \n",
       "3  0.0     \n",
       "4  0.0     \n",
       "\n",
       "   mora4  \\\n",
       "0  4.0     \n",
       "1  0.0     \n",
       "2  0.0     \n",
       "3  0.0     \n",
       "4  0.0     \n",
       "\n",
       "   mora3  \\\n",
       "0  3.0     \n",
       "1  4.0     \n",
       "2  0.0     \n",
       "3  2.0     \n",
       "4  0.0     \n",
       "\n",
       "   mora2  \\\n",
       "0  1.0     \n",
       "1  0.0     \n",
       "2  0.0     \n",
       "3  4.0     \n",
       "4  0.0     \n",
       "\n",
       "   mora1  \n",
       "0  0      \n",
       "1  1      \n",
       "2  0      \n",
       "3  0      \n",
       "4  0      "
      ]
     },
     "execution_count": 287,
     "metadata": {},
     "output_type": "execute_result"
    }
   ],
   "source": [
    "#Creación del Tab_mora\n",
    "i=0\n",
    "tab_mora_final = tab_mora.copy()\n",
    "for i in reversed(range(int(cant_mes_tab))):\n",
    "    tab_mora_final = pd.merge(tab_mora_final, dataframes[i][['obligacion', num_mora_mes[i]]], on='obligacion', how='left')\n",
    "cols = tab_mora_final.columns.tolist()\n",
    "cols = cols[0:3] + cols[4:len(num_mora_mes)+4] + cols[3:4]\n",
    "tab_mora_final = tab_mora_final[cols]\n",
    "tab_mora_final2 = tab_mora_final.fillna(-1)\n",
    "tab_mora_final2.head()"
   ]
  },
  {
   "cell_type": "markdown",
   "metadata": {},
   "source": [
    "---"
   ]
  },
  {
   "cell_type": "markdown",
   "metadata": {},
   "source": [
    "---"
   ]
  },
  {
   "cell_type": "markdown",
   "metadata": {},
   "source": [
    "<h1><center><font size =7 color=\"#B3172D\">Imputación</font> </center></h1>"
   ]
  },
  {
   "cell_type": "markdown",
   "metadata": {},
   "source": [
    "---"
   ]
  },
  {
   "cell_type": "markdown",
   "metadata": {},
   "source": [
    "---"
   ]
  },
  {
   "cell_type": "markdown",
   "metadata": {},
   "source": [
    "### Realizado para toda la población"
   ]
  },
  {
   "cell_type": "code",
   "execution_count": 288,
   "metadata": {},
   "outputs": [],
   "source": [
    "tab_mora_imputado = tab_mora_final2.copy()"
   ]
  },
  {
   "cell_type": "code",
   "execution_count": 289,
   "metadata": {},
   "outputs": [
    {
     "data": {
      "text/plain": [
       "range(18, 2, -1)"
      ]
     },
     "execution_count": 289,
     "metadata": {},
     "output_type": "execute_result"
    }
   ],
   "source": [
    "range(int(cant_mes_tab)+1,2,-1)"
   ]
  },
  {
   "cell_type": "code",
   "execution_count": 290,
   "metadata": {
    "scrolled": true
   },
   "outputs": [],
   "source": [
    "for pos in range(int(cant_mes_tab)+1,2,-1):\n",
    "    tab_mora_imputado['mora'+str(pos-1)] = tab_mora_imputado.apply(lambda x: np.median([x['mora' + str(pos)], x['mora' + str(pos-2)]]) if abs(x['mora'+str(pos)]-x['mora'+str(pos-2)])<60 and\n",
    "                                           x['mora'+str(pos)]!=-1 and x['mora'+str(pos-2)]!=-1 and x['mora'+str(pos-1)]==-1\n",
    "                                           else (x['mora'+str(pos-1)]), axis=1)\n",
    "    tab_mora_imputado['mora'+str(pos-1)] = tab_mora_imputado.apply(lambda x: x['mora'+str(pos)] if abs(x['mora'+str(pos)]-x['mora'+str(pos-2)])>60 and\n",
    "                                           x['mora'+str(pos)]!=-1 and x['mora'+str(pos-2)]!=-1 and x['mora'+str(pos-1)]==-1\n",
    "                                           else (x['mora'+str(pos-1)]), axis=1)\n",
    "    tab_mora_imputado['mora'+str(pos-2)] = tab_mora_imputado.apply(lambda x: x['mora'+str(pos-1)] if \n",
    "                                           x['mora'+str(pos)]==-1 and x['mora'+str(pos-2)]==-1 and x['mora'+str(pos-1)]!=-1\n",
    "                                           else (x['mora'+str(pos-2)]), axis=1)\n",
    "    tab_mora_imputado['mora'+str(pos-2)] = tab_mora_imputado.apply(lambda x: x['mora'+str(pos-1)] if \n",
    "                                       x['mora'+str(pos)]!=-1 and x['mora'+str(pos-1)]!=-1 and x['mora'+str(pos-2)]==-1\n",
    "                                       else x['mora'+str(pos-2)], axis=1)"
   ]
  },
  {
   "cell_type": "code",
   "execution_count": 291,
   "metadata": {
    "scrolled": false
   },
   "outputs": [
    {
     "data": {
      "text/html": [
       "<div>\n",
       "<style scoped>\n",
       "    .dataframe tbody tr th:only-of-type {\n",
       "        vertical-align: middle;\n",
       "    }\n",
       "\n",
       "    .dataframe tbody tr th {\n",
       "        vertical-align: top;\n",
       "    }\n",
       "\n",
       "    .dataframe thead th {\n",
       "        text-align: right;\n",
       "    }\n",
       "</style>\n",
       "<table border=\"1\" class=\"dataframe\">\n",
       "  <thead>\n",
       "    <tr style=\"text-align: right;\">\n",
       "      <th></th>\n",
       "      <th>id</th>\n",
       "      <th>obligacion</th>\n",
       "      <th>cod_credito</th>\n",
       "      <th>mora18</th>\n",
       "      <th>mora17</th>\n",
       "      <th>mora16</th>\n",
       "      <th>mora15</th>\n",
       "      <th>mora14</th>\n",
       "      <th>mora13</th>\n",
       "      <th>mora12</th>\n",
       "      <th>mora11</th>\n",
       "      <th>mora10</th>\n",
       "      <th>mora9</th>\n",
       "      <th>mora8</th>\n",
       "      <th>mora7</th>\n",
       "      <th>mora6</th>\n",
       "      <th>mora5</th>\n",
       "      <th>mora4</th>\n",
       "      <th>mora3</th>\n",
       "      <th>mora2</th>\n",
       "      <th>mora1</th>\n",
       "    </tr>\n",
       "  </thead>\n",
       "  <tbody>\n",
       "    <tr>\n",
       "      <td>0</td>\n",
       "      <td>74300362</td>\n",
       "      <td>200000252372</td>\n",
       "      <td>2001</td>\n",
       "      <td>-1.0</td>\n",
       "      <td>0.0</td>\n",
       "      <td>0.0</td>\n",
       "      <td>3.0</td>\n",
       "      <td>0.0</td>\n",
       "      <td>1.0</td>\n",
       "      <td>0.0</td>\n",
       "      <td>1.0</td>\n",
       "      <td>3.0</td>\n",
       "      <td>0.0</td>\n",
       "      <td>1.0</td>\n",
       "      <td>4.0</td>\n",
       "      <td>11.0</td>\n",
       "      <td>4.0</td>\n",
       "      <td>4.0</td>\n",
       "      <td>3.0</td>\n",
       "      <td>1.0</td>\n",
       "      <td>0.0</td>\n",
       "    </tr>\n",
       "    <tr>\n",
       "      <td>1</td>\n",
       "      <td>87433209</td>\n",
       "      <td>200000019555</td>\n",
       "      <td>2001</td>\n",
       "      <td>-1.0</td>\n",
       "      <td>-1.0</td>\n",
       "      <td>-1.0</td>\n",
       "      <td>-1.0</td>\n",
       "      <td>0.0</td>\n",
       "      <td>0.0</td>\n",
       "      <td>0.0</td>\n",
       "      <td>0.0</td>\n",
       "      <td>0.0</td>\n",
       "      <td>0.0</td>\n",
       "      <td>3.0</td>\n",
       "      <td>0.0</td>\n",
       "      <td>0.0</td>\n",
       "      <td>0.0</td>\n",
       "      <td>0.0</td>\n",
       "      <td>4.0</td>\n",
       "      <td>0.0</td>\n",
       "      <td>1.0</td>\n",
       "    </tr>\n",
       "    <tr>\n",
       "      <td>2</td>\n",
       "      <td>19115492</td>\n",
       "      <td>200000467714</td>\n",
       "      <td>2001</td>\n",
       "      <td>-1.0</td>\n",
       "      <td>-1.0</td>\n",
       "      <td>-1.0</td>\n",
       "      <td>-1.0</td>\n",
       "      <td>-1.0</td>\n",
       "      <td>-1.0</td>\n",
       "      <td>0.0</td>\n",
       "      <td>0.0</td>\n",
       "      <td>0.0</td>\n",
       "      <td>0.0</td>\n",
       "      <td>0.0</td>\n",
       "      <td>0.0</td>\n",
       "      <td>0.0</td>\n",
       "      <td>0.0</td>\n",
       "      <td>0.0</td>\n",
       "      <td>0.0</td>\n",
       "      <td>0.0</td>\n",
       "      <td>0.0</td>\n",
       "    </tr>\n",
       "    <tr>\n",
       "      <td>3</td>\n",
       "      <td>30971295</td>\n",
       "      <td>200000014085</td>\n",
       "      <td>2001</td>\n",
       "      <td>-1.0</td>\n",
       "      <td>-1.0</td>\n",
       "      <td>-1.0</td>\n",
       "      <td>-1.0</td>\n",
       "      <td>-1.0</td>\n",
       "      <td>-1.0</td>\n",
       "      <td>-1.0</td>\n",
       "      <td>-1.0</td>\n",
       "      <td>-1.0</td>\n",
       "      <td>-1.0</td>\n",
       "      <td>0.0</td>\n",
       "      <td>0.0</td>\n",
       "      <td>0.0</td>\n",
       "      <td>0.0</td>\n",
       "      <td>0.0</td>\n",
       "      <td>2.0</td>\n",
       "      <td>4.0</td>\n",
       "      <td>0.0</td>\n",
       "    </tr>\n",
       "    <tr>\n",
       "      <td>4</td>\n",
       "      <td>19344384</td>\n",
       "      <td>200000099019</td>\n",
       "      <td>2001</td>\n",
       "      <td>-1.0</td>\n",
       "      <td>-1.0</td>\n",
       "      <td>-1.0</td>\n",
       "      <td>-1.0</td>\n",
       "      <td>-1.0</td>\n",
       "      <td>-1.0</td>\n",
       "      <td>-1.0</td>\n",
       "      <td>-1.0</td>\n",
       "      <td>-1.0</td>\n",
       "      <td>-1.0</td>\n",
       "      <td>-1.0</td>\n",
       "      <td>-1.0</td>\n",
       "      <td>0.0</td>\n",
       "      <td>0.0</td>\n",
       "      <td>0.0</td>\n",
       "      <td>0.0</td>\n",
       "      <td>0.0</td>\n",
       "      <td>0.0</td>\n",
       "    </tr>\n",
       "  </tbody>\n",
       "</table>\n",
       "</div>"
      ],
      "text/plain": [
       "         id  \\\n",
       "0  74300362   \n",
       "1  87433209   \n",
       "2  19115492   \n",
       "3  30971295   \n",
       "4  19344384   \n",
       "\n",
       "     obligacion  \\\n",
       "0  200000252372   \n",
       "1  200000019555   \n",
       "2  200000467714   \n",
       "3  200000014085   \n",
       "4  200000099019   \n",
       "\n",
       "   cod_credito  \\\n",
       "0  2001          \n",
       "1  2001          \n",
       "2  2001          \n",
       "3  2001          \n",
       "4  2001          \n",
       "\n",
       "   mora18  \\\n",
       "0 -1.0      \n",
       "1 -1.0      \n",
       "2 -1.0      \n",
       "3 -1.0      \n",
       "4 -1.0      \n",
       "\n",
       "   mora17  \\\n",
       "0  0.0      \n",
       "1 -1.0      \n",
       "2 -1.0      \n",
       "3 -1.0      \n",
       "4 -1.0      \n",
       "\n",
       "   mora16  \\\n",
       "0  0.0      \n",
       "1 -1.0      \n",
       "2 -1.0      \n",
       "3 -1.0      \n",
       "4 -1.0      \n",
       "\n",
       "   mora15  \\\n",
       "0  3.0      \n",
       "1 -1.0      \n",
       "2 -1.0      \n",
       "3 -1.0      \n",
       "4 -1.0      \n",
       "\n",
       "   mora14  \\\n",
       "0  0.0      \n",
       "1  0.0      \n",
       "2 -1.0      \n",
       "3 -1.0      \n",
       "4 -1.0      \n",
       "\n",
       "   mora13  \\\n",
       "0  1.0      \n",
       "1  0.0      \n",
       "2 -1.0      \n",
       "3 -1.0      \n",
       "4 -1.0      \n",
       "\n",
       "   mora12  \\\n",
       "0  0.0      \n",
       "1  0.0      \n",
       "2  0.0      \n",
       "3 -1.0      \n",
       "4 -1.0      \n",
       "\n",
       "   mora11  \\\n",
       "0  1.0      \n",
       "1  0.0      \n",
       "2  0.0      \n",
       "3 -1.0      \n",
       "4 -1.0      \n",
       "\n",
       "   mora10  \\\n",
       "0  3.0      \n",
       "1  0.0      \n",
       "2  0.0      \n",
       "3 -1.0      \n",
       "4 -1.0      \n",
       "\n",
       "   mora9  \\\n",
       "0  0.0     \n",
       "1  0.0     \n",
       "2  0.0     \n",
       "3 -1.0     \n",
       "4 -1.0     \n",
       "\n",
       "   mora8  \\\n",
       "0  1.0     \n",
       "1  3.0     \n",
       "2  0.0     \n",
       "3  0.0     \n",
       "4 -1.0     \n",
       "\n",
       "   mora7  \\\n",
       "0  4.0     \n",
       "1  0.0     \n",
       "2  0.0     \n",
       "3  0.0     \n",
       "4 -1.0     \n",
       "\n",
       "   mora6  \\\n",
       "0  11.0    \n",
       "1  0.0     \n",
       "2  0.0     \n",
       "3  0.0     \n",
       "4  0.0     \n",
       "\n",
       "   mora5  \\\n",
       "0  4.0     \n",
       "1  0.0     \n",
       "2  0.0     \n",
       "3  0.0     \n",
       "4  0.0     \n",
       "\n",
       "   mora4  \\\n",
       "0  4.0     \n",
       "1  0.0     \n",
       "2  0.0     \n",
       "3  0.0     \n",
       "4  0.0     \n",
       "\n",
       "   mora3  \\\n",
       "0  3.0     \n",
       "1  4.0     \n",
       "2  0.0     \n",
       "3  2.0     \n",
       "4  0.0     \n",
       "\n",
       "   mora2  \\\n",
       "0  1.0     \n",
       "1  0.0     \n",
       "2  0.0     \n",
       "3  4.0     \n",
       "4  0.0     \n",
       "\n",
       "   mora1  \n",
       "0  0.0    \n",
       "1  1.0    \n",
       "2  0.0    \n",
       "3  0.0    \n",
       "4  0.0    "
      ]
     },
     "execution_count": 291,
     "metadata": {},
     "output_type": "execute_result"
    }
   ],
   "source": [
    "tab_mora_imputado.head()"
   ]
  },
  {
   "cell_type": "code",
   "execution_count": 292,
   "metadata": {},
   "outputs": [],
   "source": [
    "path_input=(r'\\Users\\migue\\Python\\behave_score\\TAB_mora_Miguel')\n",
    "os.chdir(r'\\Users\\migue\\Python\\behave_score\\TAB_mora_Miguel')"
   ]
  },
  {
   "cell_type": "code",
   "execution_count": 293,
   "metadata": {},
   "outputs": [],
   "source": [
    "#Guarda el TAB_MORA \n",
    "tab_mora_imputado.to_csv('TAB_mora_' + pob_objetivo + '.txt', header=True, index=False, sep='\\t', mode='a')"
   ]
  },
  {
   "cell_type": "code",
   "execution_count": 294,
   "metadata": {
    "scrolled": true
   },
   "outputs": [
    {
     "data": {
      "application/javascript": [
       "$(document).ready(\n",
       "    function() {\n",
       "        function appendUniqueDiv(){\n",
       "            // append a div with our uuid so we can check that it's already\n",
       "            // been sent and avoid duplicates on page reload\n",
       "            var notifiedDiv = document.createElement(\"div\")\n",
       "            notifiedDiv.id = \"6a587e93-56e6-4f94-bcb8-25af639ff156\"\n",
       "            element.append(notifiedDiv)\n",
       "        }\n",
       "\n",
       "        // only send notifications if the pageload is complete; this will\n",
       "        // help stop extra notifications when a saved notebook is loaded,\n",
       "        // which during testing gives us state \"interactive\", not \"complete\"\n",
       "        if (document.readyState === 'complete') {\n",
       "            // check for the div that signifies that the notification\n",
       "            // was already sent\n",
       "            if (document.getElementById(\"6a587e93-56e6-4f94-bcb8-25af639ff156\") === null) {\n",
       "                var notificationPayload = {\"requireInteraction\": false, \"icon\": \"/static/base/images/favicon.ico\", \"body\": \"Cell execution has finished!\"};\n",
       "                if (Notification.permission !== 'denied') {\n",
       "                    if (Notification.permission !== 'granted') { \n",
       "                        Notification.requestPermission(function (permission) {\n",
       "                            if(!('permission' in Notification)) {\n",
       "                                Notification.permission = permission\n",
       "                            }\n",
       "                        })\n",
       "                    }\n",
       "                    if (Notification.permission === 'granted') {\n",
       "                    var notification = new Notification(\"Jupyter Notebook\", notificationPayload)\n",
       "                    appendUniqueDiv()\n",
       "                    notification.onclick = function () {\n",
       "                        window.focus();\n",
       "                        this.close();\n",
       "                        };\n",
       "                    } \n",
       "                }     \n",
       "            }\n",
       "        }\n",
       "    }\n",
       ")\n"
      ],
      "text/plain": [
       "<IPython.core.display.Javascript object>"
      ]
     },
     "metadata": {},
     "output_type": "display_data"
    },
    {
     "name": "stdout",
     "output_type": "stream",
     "text": [
      "406.9958200454712 s\n"
     ]
    }
   ],
   "source": [
    "#Comentar esta línea si no se tiene la libreria instalada\n",
    "%notify\n",
    "time.sleep(1)\n",
    "end = time.time()\n",
    "print(str(end - start) + ' s')"
   ]
  },
  {
   "cell_type": "markdown",
   "metadata": {},
   "source": [
    "---"
   ]
  },
  {
   "cell_type": "markdown",
   "metadata": {},
   "source": [
    "---"
   ]
  },
  {
   "cell_type": "markdown",
   "metadata": {},
   "source": [
    "<h1><center><font size =7 color=\"#B3172D\">Verificaciones</font> </center></h1>"
   ]
  },
  {
   "cell_type": "markdown",
   "metadata": {},
   "source": [
    "<h2><center><font size =7 color=\"#094C73\">Verificación antes de imputar valores</font> </center></h2>"
   ]
  },
  {
   "cell_type": "markdown",
   "metadata": {},
   "source": [
    "---"
   ]
  },
  {
   "cell_type": "markdown",
   "metadata": {},
   "source": [
    "---"
   ]
  },
  {
   "cell_type": "code",
   "execution_count": null,
   "metadata": {},
   "outputs": [],
   "source": [
    "#BEHAVESCORE\n",
    "path_input=(r'\\Users\\migue\\Python\\behave_score')\n",
    "os.chdir(r'\\Users\\migue\\Python\\behave_score')\n",
    "filenames_tab_mora=glob.glob('**/TAB_mora**.txt', recursive=True)"
   ]
  },
  {
   "cell_type": "code",
   "execution_count": null,
   "metadata": {},
   "outputs": [],
   "source": [
    "#Leer el archivo de TAB_mora para comparar\n",
    "file_name_tab_mora = ('TAB_mora_' + pob_objetivo + '.txt')\n",
    "print(file_name_tab_mora)\n",
    "if file_name_tab_mora in filenames_tab_mora:\n",
    "    tab_mora_compare = pd.read_csv(file_name_mora1, sep=None, engine='python')\n",
    "else:\n",
    "    Mbox('Error', 'El archivo ' + file_name_tab_mora + ' no existe en el directorio actual:' + '\\n' + str(path_input), 0x1000)"
   ]
  },
  {
   "cell_type": "code",
   "execution_count": null,
   "metadata": {},
   "outputs": [],
   "source": [
    "tab_mora_compare_copy = tab_mora_compare.copy()\n",
    "tab_mora_compare_sincorte = tab_mora_compare.copy()\n",
    "tab_mora_compare_sincorte.drop('corte', axis=1, inplace=True)"
   ]
  },
  {
   "cell_type": "code",
   "execution_count": null,
   "metadata": {},
   "outputs": [],
   "source": [
    "tab_mora_compare.sort_values('obligacion', ascending=True, inplace=True)\n",
    "tab_mora_final2.sort_values('obligacion', ascending=True, inplace=True)\n",
    "tab_mora_compare_copy.sort_values('obligacion', ascending=True, inplace=True)"
   ]
  },
  {
   "cell_type": "code",
   "execution_count": null,
   "metadata": {},
   "outputs": [],
   "source": [
    "mora_compare=[]\n",
    "for item in num_mora_mes:\n",
    "    mora_compare.append(item)\n",
    "mora_compare.insert(0,\"mora1\")\n",
    "for i in mora_compare:                                                                              #1 comparación no coincide\n",
    "    tab_mora_compare_copy[i+'_ver'] = np.where(tab_mora_compare_copy[i] == tab_mora_final2[i], 0, 1) #0 comparación correcta\n",
    "tab_mora_compare_copy['marca']=1\n",
    "columns = tab_mora_compare_copy.columns.tolist()\n",
    "columns = columns[0:4] + columns[22:23]  + columns[-1:] + columns[23:41]  + columns [4:22] \n",
    "tab_mora_validacion = tab_mora_compare_copy[columns]\n",
    "tab_mora_validacion.drop(tab_mora_validacion.columns[[24,25,26,27,28,29,30,31,32,33,34,35,36,37,38,39,40,41]], axis=1, inplace=True)\n",
    "tab_mora_validacion.head()"
   ]
  },
  {
   "cell_type": "code",
   "execution_count": null,
   "metadata": {},
   "outputs": [],
   "source": [
    "lista=['mora1_ver','mora2_ver','mora3_ver','mora4_ver','mora5_ver','mora6_ver','mora7_ver','mora8_ver','mora9_ver','mora10_ver','mora11_ver',\n",
    "       'mora12_ver','mora13_ver','mora14_ver','mora17_ver','mora18_ver']\n",
    "tab_mora_validacion.groupby(['marca'])[lista].agg('sum')"
   ]
  },
  {
   "cell_type": "code",
   "execution_count": null,
   "metadata": {
    "scrolled": true
   },
   "outputs": [],
   "source": [
    "tab_mora_validacion[tab_mora_validacion['mora5_ver']==1].head(10)"
   ]
  },
  {
   "cell_type": "markdown",
   "metadata": {},
   "source": [
    "---"
   ]
  },
  {
   "cell_type": "code",
   "execution_count": null,
   "metadata": {
    "scrolled": true
   },
   "outputs": [],
   "source": [
    "display(tab_mora_final2.loc[tab_mora_final2['obligacion'] == 200000196540])\n",
    "display(tab_mora_compare.loc[tab_mora_validacion['obligacion'] == 200000196540])"
   ]
  },
  {
   "cell_type": "markdown",
   "metadata": {},
   "source": [
    "---"
   ]
  },
  {
   "cell_type": "code",
   "execution_count": null,
   "metadata": {
    "scrolled": true
   },
   "outputs": [],
   "source": [
    "display(tab_mora_final2.loc[tab_mora_final2['obligacion'] == 200000230983])\n",
    "display(tab_mora_compare.loc[tab_mora_validacion['obligacion'] == 200000230983])"
   ]
  },
  {
   "cell_type": "markdown",
   "metadata": {},
   "source": [
    "---"
   ]
  },
  {
   "cell_type": "markdown",
   "metadata": {},
   "source": [
    "###### Inconsistencia entre el TAB_mora y el archivo mora 202002-202001-201912"
   ]
  },
  {
   "cell_type": "code",
   "execution_count": null,
   "metadata": {
    "scrolled": false
   },
   "outputs": [],
   "source": [
    "tab_mora_final2.loc[tab_mora_final2['obligacion'] == 22011042001598]"
   ]
  },
  {
   "cell_type": "code",
   "execution_count": null,
   "metadata": {
    "scrolled": true
   },
   "outputs": [],
   "source": [
    "tab_mora_compare.loc[tab_mora_validacion['obligacion'] == 22011042001598]"
   ]
  },
  {
   "cell_type": "markdown",
   "metadata": {},
   "source": [
    "---"
   ]
  },
  {
   "cell_type": "markdown",
   "metadata": {},
   "source": [
    "---"
   ]
  },
  {
   "cell_type": "markdown",
   "metadata": {},
   "source": [
    "<h2><center><font size =7 color=\"#094C73\">Verificación despúes de imputar valores</font> </center></h2>"
   ]
  },
  {
   "cell_type": "markdown",
   "metadata": {},
   "source": [
    "---"
   ]
  },
  {
   "cell_type": "markdown",
   "metadata": {},
   "source": [
    "---"
   ]
  },
  {
   "cell_type": "code",
   "execution_count": null,
   "metadata": {},
   "outputs": [],
   "source": [
    "display(tab_mora_compare_copy.head())\n",
    "display(tab_mora_compare_copy.shape)\n",
    "display(tab_mora_imputado.head())\n",
    "display(tab_mora_imputado.shape)"
   ]
  },
  {
   "cell_type": "code",
   "execution_count": null,
   "metadata": {},
   "outputs": [],
   "source": [
    "display(type(tab_mora_compare_copy[i])) #== tab_mora_imputado[i]\n",
    "display(type(tab_mora_imputado[i]))"
   ]
  },
  {
   "cell_type": "code",
   "execution_count": null,
   "metadata": {
    "scrolled": false
   },
   "outputs": [],
   "source": [
    "tab_mora_compare_imputado_validacion = tab_mora_imputado.copy()\n",
    "for i in mora_compare:\n",
    "                                                                                                                        #1 comparación no coincide\n",
    "    tab_mora_compare_imputado_validacion[i+'_ver'] = np.where(tab_mora_compare_copy[i] == tab_mora_imputado[i], 0, 1) #0 comparación correcta\n",
    "tab_mora_compare_imputado_validacion['marca']=1\n",
    "columnas = tab_mora_compare_imputado_validacion.columns.tolist()\n",
    "columnas = columnas[0:3] + columnas[21:39] + columnas[3:21] + columnas[-1:]\n",
    "tab_mora_compare_imputado_validacion2 = tab_mora_compare_imputado_validacion[columnas]\n",
    "tab_mora_compare_imputado_validacion2.drop(tab_mora_compare_imputado_validacion2.columns[[21,22,23,24,25,26,27,28,29,30,31,32,33,34,35,36,37,38]], axis=1, inplace=True)\n",
    "tab_mora_compare_imputado_validacion2.head()"
   ]
  },
  {
   "cell_type": "code",
   "execution_count": null,
   "metadata": {},
   "outputs": [],
   "source": [
    "lista=['mora1_ver','mora2_ver','mora3_ver','mora4_ver','mora5_ver','mora6_ver','mora7_ver','mora8_ver','mora9_ver','mora10_ver','mora11_ver',\n",
    "       'mora12_ver','mora13_ver','mora14_ver','mora17_ver','mora18_ver']\n",
    "tab_mora_validacion.groupby(['marca'])[lista].agg('sum')"
   ]
  },
  {
   "cell_type": "code",
   "execution_count": null,
   "metadata": {
    "scrolled": false
   },
   "outputs": [],
   "source": [
    "tab_mora_compare_imputado_validacion2.groupby(['marca'])[lista].agg('sum')"
   ]
  },
  {
   "cell_type": "code",
   "execution_count": null,
   "metadata": {
    "scrolled": true
   },
   "outputs": [],
   "source": [
    "tab_mora_compare_imputado_validacion2[tab_mora_compare_imputado_validacion2['mora6_ver']==1].head(10)"
   ]
  },
  {
   "cell_type": "code",
   "execution_count": null,
   "metadata": {
    "scrolled": true
   },
   "outputs": [],
   "source": [
    "#Muestra la mora de cada me dentro del vector por separado de un crédito\n",
    "for i in np.arange(0,17,1):\n",
    "    display(dataframes[i].loc[dataframes[i]['obligacion']==220002833887])"
   ]
  },
  {
   "cell_type": "code",
   "execution_count": null,
   "metadata": {},
   "outputs": [],
   "source": [
    "#Créditos los cuales la mora18 y la mora 1 es diferente de -1, por lo tanto, no tienen -1 dentro del vector\n",
    "creditos_vigentes = tab_mora_imputado.loc[(tab_mora_imputado['mora18'] != -1) & (tab_mora_imputado['mora1'] !=-1)]\n",
    "print('Cantidad de créditos sin ningún valor -1 en el vector construido del TAB_mora es: ' + str(creditos_vigentes.shape[0]) + ' de un total de: ' + str(tab_mora_imputado.shape[0]) + '\\n')\n",
    "print('Equivalente a un: ' + str(round(creditos_vigentes.shape[0]/tab_mora_imputado.shape[0]*100)) + '% de los créditos' + '\\n')\n",
    "print('Porcentaje de créditos que presentan error luego de las imputaciones: '+ str(round(7197/tab_mora_imputado.shape[0]*100)) + '%'+ ('\\n')*2)\n",
    "print('Créditos los cuales la mora18 y la mora 1 es diferente de -1, por lo tanto, no tienen -1 dentro del vector'+'\\n')\n",
    "for i in mora_compare:\n",
    "    print('La cantidad de clientes en el TAB_mora luego de las imputaciones, con valor -1 en ' + i + ' es igual a: ' + str((creditos_vigentes[i].values == -1).sum()) + '\\n')"
   ]
  },
  {
   "cell_type": "markdown",
   "metadata": {},
   "source": [
    "---"
   ]
  },
  {
   "cell_type": "markdown",
   "metadata": {},
   "source": [
    "---"
   ]
  },
  {
   "cell_type": "markdown",
   "metadata": {},
   "source": [
    "### Pruebas con clientes que no coinciden en mora2\n",
    "#### en mora 1 ambos dataframes son iguales"
   ]
  },
  {
   "cell_type": "raw",
   "metadata": {},
   "source": [
    "CEDULAS\n",
    "200000196540\n",
    "210000086584\n",
    "210000092572\n",
    "210000189189\n",
    "220001614062\n",
    "220001988554\n",
    "220002248448\n",
    "220002833887"
   ]
  },
  {
   "cell_type": "code",
   "execution_count": null,
   "metadata": {
    "scrolled": true
   },
   "outputs": [],
   "source": [
    "display(tab_mora_compare_sincorte.loc[tab_mora_compare_sincorte['obligacion'] == 200000196540])\n",
    "display(tab_mora_final2.loc[tab_mora_final2['obligacion'] == 200000196540])\n",
    "display(tab_mora_imputado.loc[tab_mora_imputado['obligacion'] == 200000196540])"
   ]
  },
  {
   "cell_type": "code",
   "execution_count": null,
   "metadata": {
    "scrolled": true
   },
   "outputs": [],
   "source": [
    "display(tab_mora_compare_sincorte.loc[tab_mora_compare_sincorte['obligacion'] == 210000086584])\n",
    "display(tab_mora_final2.loc[tab_mora_final2['obligacion'] == 210000086584])\n",
    "display(tab_mora_imputado.loc[tab_mora_imputado['obligacion'] == 210000086584])"
   ]
  },
  {
   "cell_type": "code",
   "execution_count": null,
   "metadata": {
    "scrolled": true
   },
   "outputs": [],
   "source": [
    "display(tab_mora_compare_sincorte.loc[tab_mora_compare_sincorte['obligacion'] == 210000092572])\n",
    "display(tab_mora_final2.loc[tab_mora_final2['obligacion'] == 210000092572])\n",
    "display(tab_mora_imputado.loc[tab_mora_imputado['obligacion'] == 210000092572])"
   ]
  },
  {
   "cell_type": "code",
   "execution_count": null,
   "metadata": {
    "scrolled": true
   },
   "outputs": [],
   "source": [
    "display(tab_mora_compare_sincorte.loc[tab_mora_compare_sincorte['obligacion'] == 210000189189])\n",
    "display(tab_mora_final2.loc[tab_mora_final2['obligacion'] == 210000189189])\n",
    "display(tab_mora_imputado.loc[tab_mora_imputado['obligacion'] == 210000189189])"
   ]
  },
  {
   "cell_type": "code",
   "execution_count": null,
   "metadata": {
    "scrolled": true
   },
   "outputs": [],
   "source": [
    "display(tab_mora_compare_sincorte.loc[tab_mora_compare_sincorte['obligacion'] == 220001614062])\n",
    "display(tab_mora_final2.loc[tab_mora_final2['obligacion'] == 220001614062])\n",
    "display(tab_mora_imputado.loc[tab_mora_imputado['obligacion'] == 220001614062])"
   ]
  },
  {
   "cell_type": "code",
   "execution_count": null,
   "metadata": {
    "scrolled": false
   },
   "outputs": [],
   "source": [
    "display(tab_mora_compare_sincorte.loc[tab_mora_compare_sincorte['obligacion'] == 220001988554])\n",
    "display(tab_mora_final2.loc[tab_mora_final2['obligacion'] == 220001988554])\n",
    "display(tab_mora_imputado.loc[tab_mora_imputado['obligacion'] == 220001988554])"
   ]
  },
  {
   "cell_type": "code",
   "execution_count": null,
   "metadata": {
    "scrolled": false
   },
   "outputs": [],
   "source": [
    "display(tab_mora_compare_sincorte.loc[tab_mora_compare_sincorte['obligacion'] == 220002248448])\n",
    "display(tab_mora_final2.loc[tab_mora_final2['obligacion'] == 220002248448])\n",
    "display(tab_mora_imputado.loc[tab_mora_imputado['obligacion'] == 220002248448])"
   ]
  },
  {
   "cell_type": "code",
   "execution_count": null,
   "metadata": {
    "scrolled": true
   },
   "outputs": [],
   "source": [
    "display(tab_mora_compare_sincorte.loc[tab_mora_compare_sincorte['obligacion'] == 220002833887])\n",
    "display(tab_mora_final2.loc[tab_mora_final2['obligacion'] == 220002833887])\n",
    "display(tab_mora_imputado.loc[tab_mora_imputado['obligacion'] == 220002833887])"
   ]
  },
  {
   "cell_type": "code",
   "execution_count": null,
   "metadata": {
    "scrolled": true
   },
   "outputs": [],
   "source": [
    "display(tab_mora_compare_sincorte.loc[tab_mora_compare_sincorte['obligacion'] == 210000189189])\n",
    "display(tab_mora_final2.loc[tab_mora_final2['obligacion'] == 210000189189])\n",
    "display(tab_mora_imputado.loc[tab_mora_imputado['obligacion'] == 210000189189])"
   ]
  },
  {
   "cell_type": "markdown",
   "metadata": {},
   "source": [
    "### Pruebas con clientes que no coinciden en mora18"
   ]
  },
  {
   "cell_type": "code",
   "execution_count": null,
   "metadata": {
    "scrolled": true
   },
   "outputs": [],
   "source": [
    "#CEDULAS\n",
    "numero = 0\n",
    "cedulas = [131688,200000004329,200000034874, 200000798584,220002833887,\n",
    "           200000798600,200000784328,200000784239,200000784060,200000783536,\n",
    "           220002833887,210000189189,220001988554,210000189189,220002248448]\n",
    "for i in cedulas:\n",
    "    if numero < 5:\n",
    "        print('Franklin')\n",
    "        numero = numero +1\n",
    "    elif numero<10:\n",
    "        print('Zuleyma')\n",
    "        numero = numero +1\n",
    "    elif numero<15:\n",
    "        print('Jennyfer')\n",
    "        numero = numero +1 \n",
    "    print('Número del crédito: ' + str(i) + '\\n')\n",
    "    print('TAB_mora homologado')\n",
    "    display(tab_mora_compare_sincorte.loc[tab_mora_compare_sincorte['obligacion'] == i])\n",
    "    print('\\n')\n",
    "    print('TAB_mora imputado')\n",
    "    display(tab_mora_imputado.loc[tab_mora_imputado['obligacion'] == i])\n",
    "    print('\\n')\n",
    "    print('-------------------------------------------------------------------------------------------------------------------------------')\n",
    "    print('\\n')"
   ]
  },
  {
   "cell_type": "code",
   "execution_count": null,
   "metadata": {},
   "outputs": [],
   "source": [
    "display(tab_mora_compare_sincorte.loc[tab_mora_compare_sincorte['obligacion'] == 131688])\n",
    "display(tab_mora_final2.loc[tab_mora_final2['obligacion'] == 131688])\n",
    "display(tab_mora_imputado.loc[tab_mora_imputado['obligacion'] == 131688])"
   ]
  },
  {
   "cell_type": "code",
   "execution_count": null,
   "metadata": {
    "scrolled": true
   },
   "outputs": [],
   "source": [
    "display(tab_mora_compare_sincorte.loc[tab_mora_compare_sincorte['obligacion'] == 200000004329])\n",
    "display(tab_mora_final2.loc[tab_mora_final2['obligacion'] == 200000004329])\n",
    "display(tab_mora_imputado.loc[tab_mora_imputado['obligacion'] == 200000004329])"
   ]
  },
  {
   "cell_type": "code",
   "execution_count": null,
   "metadata": {
    "scrolled": true
   },
   "outputs": [],
   "source": [
    "display(tab_mora_compare_sincorte.loc[tab_mora_compare_sincorte['obligacion'] == 200000007026])\n",
    "display(tab_mora_final2.loc[tab_mora_final2['obligacion'] == 200000007026])\n",
    "display(tab_mora_imputado.loc[tab_mora_imputado['obligacion'] == 200000007026])"
   ]
  },
  {
   "cell_type": "code",
   "execution_count": null,
   "metadata": {
    "scrolled": true
   },
   "outputs": [],
   "source": [
    "display(tab_mora_compare_sincorte.loc[tab_mora_compare_sincorte['obligacion'] == 200000008159])\n",
    "display(tab_mora_final2.loc[tab_mora_final2['obligacion'] == 200000008159])\n",
    "display(tab_mora_imputado.loc[tab_mora_imputado['obligacion'] == 200000008159])"
   ]
  },
  {
   "cell_type": "code",
   "execution_count": null,
   "metadata": {
    "scrolled": false
   },
   "outputs": [],
   "source": [
    "display(tab_mora_compare_sincorte.loc[tab_mora_compare_sincorte['obligacion'] == 200000011501])\n",
    "display(tab_mora_final2.loc[tab_mora_final2['obligacion'] == 200000011501])\n",
    "display(tab_mora_imputado.loc[tab_mora_imputado['obligacion'] == 200000011501])"
   ]
  },
  {
   "cell_type": "markdown",
   "metadata": {},
   "source": [
    "<h4><center><font size =5 color=\"#094C73\">FIN</font></center> </h4>"
   ]
  },
  {
   "cell_type": "markdown",
   "metadata": {},
   "source": [
    "---"
   ]
  },
  {
   "cell_type": "markdown",
   "metadata": {},
   "source": [
    "---"
   ]
  }
 ],
 "metadata": {
  "kernelspec": {
   "display_name": "Python 3",
   "language": "python",
   "name": "python3"
  },
  "language_info": {
   "codemirror_mode": {
    "name": "ipython",
    "version": 3
   },
   "file_extension": ".py",
   "mimetype": "text/x-python",
   "name": "python",
   "nbconvert_exporter": "python",
   "pygments_lexer": "ipython3",
   "version": "3.7.4"
  }
 },
 "nbformat": 4,
 "nbformat_minor": 2
}
