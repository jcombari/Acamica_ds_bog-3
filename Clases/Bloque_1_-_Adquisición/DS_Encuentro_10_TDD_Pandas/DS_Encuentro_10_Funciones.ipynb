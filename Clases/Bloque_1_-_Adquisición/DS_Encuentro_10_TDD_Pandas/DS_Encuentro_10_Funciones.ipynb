{
 "cells": [
  {
   "cell_type": "markdown",
   "metadata": {},
   "source": [
    "# Funciones\n",
    "\n",
    "Una función es un bloque de código que sólo corre cuando es llamado."
   ]
  },
  {
   "cell_type": "code",
   "execution_count": null,
   "metadata": {},
   "outputs": [],
   "source": [
    "def par_o_impar(numero):\n",
    "    if numero %2 == 0:\n",
    "        print('Es par')\n",
    "    else:\n",
    "        print('Es impar')"
   ]
  },
  {
   "cell_type": "markdown",
   "metadata": {},
   "source": [
    "Notar que si ejecutamos la celda no ocurre nada apreciable. Si llamamos a la función"
   ]
  },
  {
   "cell_type": "code",
   "execution_count": null,
   "metadata": {},
   "outputs": [],
   "source": [
    "par_o_impar"
   ]
  },
  {
   "cell_type": "markdown",
   "metadata": {},
   "source": [
    "Python nos dice, de una forma no muy clara, que se trata de una función. Las funciones se llaman con paréntesis:"
   ]
  },
  {
   "cell_type": "code",
   "execution_count": null,
   "metadata": {},
   "outputs": [],
   "source": [
    "par_o_impar()"
   ]
  },
  {
   "cell_type": "markdown",
   "metadata": {},
   "source": [
    "Y en este caso, arroja un error porque falta un argumento, `numero`. Las dos siguientes son equivalentes:"
   ]
  },
  {
   "cell_type": "code",
   "execution_count": null,
   "metadata": {},
   "outputs": [],
   "source": [
    "par_o_impar(numero = 9)\n",
    "par_o_impar(9)"
   ]
  },
  {
   "cell_type": "markdown",
   "metadata": {},
   "source": [
    "Al tener un solo argumento, en este caso no hay mucho lugar a confusión, pero las funciones pueden tener muchos argumentos:"
   ]
  },
  {
   "cell_type": "code",
   "execution_count": null,
   "metadata": {},
   "outputs": [],
   "source": [
    "def division(dividendo, divisor):\n",
    "    print(dividendo/divisor)"
   ]
  },
  {
   "cell_type": "markdown",
   "metadata": {},
   "source": [
    "Entonces podemos llamar a la función pasándole los argumentos en orden, o explicitando el valor de cada argumento:"
   ]
  },
  {
   "cell_type": "code",
   "execution_count": null,
   "metadata": {},
   "outputs": [],
   "source": [
    "division(4,2)\n",
    "division(divisor = 4, dividendo = 2)  #notar que asi no nos tenemos que preocupar por el orden"
   ]
  },
  {
   "cell_type": "markdown",
   "metadata": {},
   "source": [
    "También, pueden tener argumentos *por default*, que si no explicitamos, toman un valor predefinido:"
   ]
  },
  {
   "cell_type": "code",
   "execution_count": null,
   "metadata": {},
   "outputs": [],
   "source": [
    "def division(dividendo, divisor = 2):\n",
    "    print(dividendo/divisor)"
   ]
  },
  {
   "cell_type": "code",
   "execution_count": null,
   "metadata": {},
   "outputs": [],
   "source": [
    "division(9)\n",
    "division(9, 3) \n",
    "division(dividendo = 9, divisor = 3) \n",
    "division(9, divisor = 3) "
   ]
  },
  {
   "cell_type": "markdown",
   "metadata": {},
   "source": [
    "### `return`\n",
    "\n",
    "Las funciones pueden devolver resultados"
   ]
  },
  {
   "cell_type": "code",
   "execution_count": null,
   "metadata": {},
   "outputs": [],
   "source": [
    "def division(dividendo, divisor = 2):\n",
    "    variable_auxiliar = dividendo/divisor\n",
    "    return variable_auxiliar"
   ]
  },
  {
   "cell_type": "code",
   "execution_count": null,
   "metadata": {},
   "outputs": [],
   "source": [
    "resultado_division = division(9,3)"
   ]
  },
  {
   "cell_type": "code",
   "execution_count": null,
   "metadata": {},
   "outputs": [],
   "source": [
    "print(resultado_division)"
   ]
  },
  {
   "cell_type": "markdown",
   "metadata": {},
   "source": [
    "Y, si lo necesitamos, podemos hacer que devuelvan más de un resultado"
   ]
  },
  {
   "cell_type": "code",
   "execution_count": null,
   "metadata": {},
   "outputs": [],
   "source": [
    "def division_y_producto(numero_1,numero_2):\n",
    "    div = numero_1/numero_2\n",
    "    prod = numero_1*numero_2\n",
    "    return div, prod\n",
    "\n",
    "### Son equivalentes\n",
    "# def division_y_producto(numero_1,numero_2):\n",
    "#     return numero_1/numero_2, numero_1*numero_2"
   ]
  },
  {
   "cell_type": "code",
   "execution_count": null,
   "metadata": {},
   "outputs": [],
   "source": [
    "resultados = division_y_producto(10,5)\n",
    "print(resultados)"
   ]
  },
  {
   "cell_type": "markdown",
   "metadata": {},
   "source": [
    "Notar la diferencia"
   ]
  },
  {
   "cell_type": "code",
   "execution_count": null,
   "metadata": {},
   "outputs": [],
   "source": [
    "resultado_1, resultado_2 = division_y_producto(10,5)\n",
    "print(resultado_1, resultado_2)"
   ]
  },
  {
   "cell_type": "markdown",
   "metadata": {},
   "source": [
    "### Namespaces and Scope\n",
    "\n",
    "Encontrar la diferencia entre las siguientes celdas:"
   ]
  },
  {
   "cell_type": "code",
   "execution_count": null,
   "metadata": {},
   "outputs": [],
   "source": [
    "def division(dividendo, divisor = 2):\n",
    "    variable_auxiliar = dividendo/divisor\n",
    "    return variable_auxiliar\n",
    "print(division(50))\n",
    "print(divisor)"
   ]
  },
  {
   "cell_type": "code",
   "execution_count": null,
   "metadata": {},
   "outputs": [],
   "source": [
    "divisor = 5\n",
    "def division(dividendo):\n",
    "    variable_auxiliar = dividendo/divisor\n",
    "    return variable_auxiliar\n",
    "print(division(50))\n",
    "print(divisor)"
   ]
  },
  {
   "cell_type": "code",
   "execution_count": null,
   "metadata": {},
   "outputs": [],
   "source": [
    "divisor = 5\n",
    "def division(dividendo, divisor = 2):\n",
    "    variable_auxiliar = dividendo/divisor\n",
    "    return variable_auxiliar\n",
    "print(division(50))\n",
    "print(divisor)"
   ]
  },
  {
   "cell_type": "markdown",
   "metadata": {},
   "source": [
    "**Investigar:** ¿qué es una variable global?¿Y una variable loca?¿Qué es un Namespace?"
   ]
  },
  {
   "cell_type": "markdown",
   "metadata": {},
   "source": [
    "### Funciones Lambda (Anónimas)\n",
    "\n",
    "Una función `lambda` es una forma conveniente de crear una función en una sola línea. También se las conoce como funciones anónimas, ya que no tienen nombre, sino que se asignan a una variable."
   ]
  },
  {
   "cell_type": "code",
   "execution_count": null,
   "metadata": {},
   "outputs": [],
   "source": [
    "lambda_division = lambda x,y: x/y\n",
    "lambda_division(80,10)"
   ]
  },
  {
   "cell_type": "markdown",
   "metadata": {},
   "source": [
    "Algunas características:\n",
    "1. Pueden tener cualquier cantidad de argumentos, pero solo una expresión\n",
    "1. No necesitan un return\n",
    "1. Muy cómodas para crear funciones rápido\n",
    "1. Se combinan muy bien con funciones como `map()`, `filter()`, `apply()`, `applymap()`, etc.\n",
    "\n",
    "Existen algunas diferencias sutiles entre una función creada con `def` y una función lambda, pero para nuestros objetivos basta con saber que una función lambda es una forma rápida de crear funciones sencillas."
   ]
  },
  {
   "cell_type": "markdown",
   "metadata": {},
   "source": [
    "### Extra: documentando funciones\n",
    "\n",
    "Cuando creemos funciones es conveniente decumentarlas, así si volvemos meses después a nuestro código, o se lo compartimos a alguien, podemos entender qué hace sin tener que leer y entenderlo completamente. Es decir, de la misma forma que hacemos con muchas de las funciones de las librerías que venimos usando. Hay muchos formatos para documentar una función, pero en general incluyen: qué hace la función, cuales son sus argumentos, y cuáles son sus returns. A veces, también algún ejemplo mostrando cómo se usa. El grado de detalle depende del tiempo y de la complejidad de la función. Recomendamos siempre documentar las funciones, aunque sea de forma breve.\n",
    "\n",
    "Dejamos un formato de documentación a modo de ejemplo. En general, se estila documentar en inglés, pero vamos a hacer una excepción."
   ]
  },
  {
   "cell_type": "code",
   "execution_count": null,
   "metadata": {},
   "outputs": [],
   "source": [
    "def division_y_producto(numero_1,numero_2):\n",
    "    '''\n",
    "    Dados dos numeros, devuelve su division\n",
    "    y su producto.\n",
    "    \n",
    "    Arguments:\n",
    "    numero_1 -- dividendo, primer multiplicando\n",
    "    numero_2 -- divisor, segundo multiplicando\n",
    "    \n",
    "    Returns:\n",
    "    div -- la division entre los dos numeros\n",
    "    prod -- el producto entre los dos numeros\n",
    "    '''\n",
    "    \n",
    "    div = numero_1/numero_2\n",
    "    prod = numero_1*numero_2\n",
    "    return div, prod"
   ]
  },
  {
   "cell_type": "markdown",
   "metadata": {},
   "source": [
    "Notar que si ahora ponemos `help()` de nuestra función, devuelve la documentación que creamos."
   ]
  },
  {
   "cell_type": "code",
   "execution_count": null,
   "metadata": {},
   "outputs": [],
   "source": [
    "help(division_y_producto)"
   ]
  },
  {
   "cell_type": "markdown",
   "metadata": {},
   "source": [
    "También, si usamos shift+tab como hacemos con las otras funciones de las librerías."
   ]
  },
  {
   "cell_type": "markdown",
   "metadata": {},
   "source": [
    "**Ejercicio**\n",
    "\n",
    "1. Crear una función que tome como entrada dos arreglos de Numpy. Luego, que chequee si tienen el mismo tamaño; si no es así, que imprima un mensaje indicando que no tienen el mismo tamaño. Si tienen el mismo tamaño, que haga las siguientes operaciones:\n",
    "    1. Crear un nuevo arreglo con el resultado de las resta de los dos arreglos originales.\n",
    "    1. Elevar al cuadrado ese arreglo.\n",
    "    1. Sumar todos los elementos y dividir por la cantidad de elementos.\n",
    "    1. Devuelva la raiz de ese resultado.\n"
   ]
  },
  {
   "cell_type": "code",
   "execution_count": null,
   "metadata": {},
   "outputs": [],
   "source": [
    "import numpy as np\n",
    "\n",
    "def RMSE(arreglo_1, arreglo_2):\n",
    "    #Completar\n"
   ]
  },
  {
   "cell_type": "markdown",
   "metadata": {},
   "source": [
    "Testeamos el resultados"
   ]
  },
  {
   "cell_type": "code",
   "execution_count": null,
   "metadata": {},
   "outputs": [],
   "source": [
    "np.random.seed(10)  # que hace esta linea?\n",
    "arreglo_1 = np.random.randint(-10,10, 50)\n",
    "arreglo_2 = np.random.randint(-10,10, 50)\n",
    "print(arreglo_1)\n",
    "print(arreglo_2)"
   ]
  },
  {
   "cell_type": "code",
   "execution_count": null,
   "metadata": {},
   "outputs": [],
   "source": [
    "RMSE(arreglo_1, arreglo_2)"
   ]
  },
  {
   "cell_type": "markdown",
   "metadata": {},
   "source": [
    "Debería dar como resultado 7.48732"
   ]
  },
  {
   "cell_type": "code",
   "execution_count": null,
   "metadata": {},
   "outputs": [],
   "source": [
    "np.random.seed(10)  # que hace esta linea?\n",
    "arreglo_1 = np.random.randint(-10,10, 25)\n",
    "arreglo_2 = np.random.randint(-10,10, 50)\n",
    "print(arreglo_1)\n",
    "print(arreglo_2)"
   ]
  },
  {
   "cell_type": "code",
   "execution_count": null,
   "metadata": {},
   "outputs": [],
   "source": [
    "RMSE(arreglo_1, arreglo_2)"
   ]
  },
  {
   "cell_type": "markdown",
   "metadata": {},
   "source": [
    "Debería dar como resultado un mensaje indicando que no tienen el mismo tamaño."
   ]
  },
  {
   "cell_type": "markdown",
   "metadata": {},
   "source": [
    "2. Documentar brevemente la función creada."
   ]
  }
 ],
 "metadata": {
  "kernelspec": {
   "display_name": "Python 3",
   "language": "python",
   "name": "python3"
  },
  "language_info": {
   "codemirror_mode": {
    "name": "ipython",
    "version": 3
   },
   "file_extension": ".py",
   "mimetype": "text/x-python",
   "name": "python",
   "nbconvert_exporter": "python",
   "pygments_lexer": "ipython3",
   "version": "3.7.3"
  }
 },
 "nbformat": 4,
 "nbformat_minor": 4
}
