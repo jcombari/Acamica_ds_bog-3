{
 "cells": [
  {
   "cell_type": "code",
   "execution_count": 1,
   "metadata": {},
   "outputs": [],
   "source": [
    "# Librerías a utilizar\n",
    "import pandas as pd #dataframe\n",
    "import os #direcciones\n",
    "import numpy as np\n"
   ]
  },
  {
   "cell_type": "code",
   "execution_count": 2,
   "metadata": {},
   "outputs": [],
   "source": [
    "os.getcwd()\n",
    "\n",
    "path='C:\\\\Users\\\\nereida.combariza\\\\Documents\\\\cosas de python\\\\original'\n",
    "\n",
    "os.chdir(path)"
   ]
  },
  {
   "cell_type": "code",
   "execution_count": 3,
   "metadata": {},
   "outputs": [
    {
     "data": {
      "text/plain": [
       "'C:\\\\Users\\\\nereida.combariza\\\\Documents\\\\cosas de python\\\\original'"
      ]
     },
     "execution_count": 3,
     "metadata": {},
     "output_type": "execute_result"
    }
   ],
   "source": [
    "os.getcwd()"
   ]
  },
  {
   "cell_type": "code",
   "execution_count": 4,
   "metadata": {},
   "outputs": [
    {
     "data": {
      "text/html": [
       "<div>\n",
       "<style scoped>\n",
       "    .dataframe tbody tr th:only-of-type {\n",
       "        vertical-align: middle;\n",
       "    }\n",
       "\n",
       "    .dataframe tbody tr th {\n",
       "        vertical-align: top;\n",
       "    }\n",
       "\n",
       "    .dataframe thead th {\n",
       "        text-align: right;\n",
       "    }\n",
       "</style>\n",
       "<table border=\"1\" class=\"dataframe\">\n",
       "  <thead>\n",
       "    <tr style=\"text-align: right;\">\n",
       "      <th></th>\n",
       "      <th>Grupo_linea</th>\n",
       "      <th>GRUPO_CREDITO</th>\n",
       "      <th>C_Nombre_Plan</th>\n",
       "      <th>GrupoModelo</th>\n",
       "    </tr>\n",
       "  </thead>\n",
       "  <tbody>\n",
       "    <tr>\n",
       "      <td>0</td>\n",
       "      <td>2001</td>\n",
       "      <td>CONSUMO ORDINARIO</td>\n",
       "      <td>CONSUMO ORDINARIO</td>\n",
       "      <td>7</td>\n",
       "    </tr>\n",
       "    <tr>\n",
       "      <td>1</td>\n",
       "      <td>2002</td>\n",
       "      <td>CONSUMO CUPO ROTATIVO“TARJETA FE”</td>\n",
       "      <td>TARJETA</td>\n",
       "      <td>3</td>\n",
       "    </tr>\n",
       "  </tbody>\n",
       "</table>\n",
       "</div>"
      ],
      "text/plain": [
       "   Grupo_linea                      GRUPO_CREDITO      C_Nombre_Plan  \\\n",
       "0         2001                  CONSUMO ORDINARIO  CONSUMO ORDINARIO   \n",
       "1         2002  CONSUMO CUPO ROTATIVO“TARJETA FE”            TARJETA   \n",
       "\n",
       "   GrupoModelo  \n",
       "0            7  \n",
       "1            3  "
      ]
     },
     "execution_count": 4,
     "metadata": {},
     "output_type": "execute_result"
    }
   ],
   "source": [
    "tabla_modelos = pd.read_csv('TABLA_MODELOS.txt',encoding = 'ansi', sep='\\t')\n",
    "tabla_modelos.head(2) #Para ver el encabezado"
   ]
  },
  {
   "cell_type": "code",
   "execution_count": 5,
   "metadata": {},
   "outputs": [
    {
     "data": {
      "text/plain": [
       "(231, 4)"
      ]
     },
     "execution_count": 5,
     "metadata": {},
     "output_type": "execute_result"
    }
   ],
   "source": [
    "tabla_modelos.shape"
   ]
  },
  {
   "cell_type": "code",
   "execution_count": 6,
   "metadata": {},
   "outputs": [
    {
     "data": {
      "text/plain": [
       "pandas.core.frame.DataFrame"
      ]
     },
     "execution_count": 6,
     "metadata": {},
     "output_type": "execute_result"
    }
   ],
   "source": [
    "type(tabla_modelos)"
   ]
  },
  {
   "cell_type": "code",
   "execution_count": 7,
   "metadata": {},
   "outputs": [
    {
     "data": {
      "text/plain": [
       "Grupo_linea       int64\n",
       "GRUPO_CREDITO    object\n",
       "C_Nombre_Plan    object\n",
       "GrupoModelo       int64\n",
       "dtype: object"
      ]
     },
     "execution_count": 7,
     "metadata": {},
     "output_type": "execute_result"
    }
   ],
   "source": [
    "tabla_modelos.dtypes"
   ]
  },
  {
   "cell_type": "code",
   "execution_count": 8,
   "metadata": {},
   "outputs": [],
   "source": [
    "path='C:\\\\Users\\\\nereida.combariza\\\\Documents\\\\cosas de python'\n",
    "os.chdir(path)"
   ]
  },
  {
   "cell_type": "code",
   "execution_count": 9,
   "metadata": {},
   "outputs": [
    {
     "data": {
      "text/plain": [
       "Linea de Credito              int64\n",
       "Tipo de Linea (Modalidad)    object\n",
       "Descripción de la Linea      object\n",
       "COD PRODUCTO                 object\n",
       "NOMBRE PRODUCTO              object\n",
       "MODALIDAD                    object\n",
       "dtype: object"
      ]
     },
     "execution_count": 9,
     "metadata": {},
     "output_type": "execute_result"
    }
   ],
   "source": [
    "tabla_productos = pd.read_csv('Tabla Productos 16_05_2019.txt',encoding = 'ansi', sep='\\t')\n",
    "tabla_productos.dtypes"
   ]
  },
  {
   "cell_type": "code",
   "execution_count": 10,
   "metadata": {},
   "outputs": [
    {
     "data": {
      "text/html": [
       "<div>\n",
       "<style scoped>\n",
       "    .dataframe tbody tr th:only-of-type {\n",
       "        vertical-align: middle;\n",
       "    }\n",
       "\n",
       "    .dataframe tbody tr th {\n",
       "        vertical-align: top;\n",
       "    }\n",
       "\n",
       "    .dataframe thead th {\n",
       "        text-align: right;\n",
       "    }\n",
       "</style>\n",
       "<table border=\"1\" class=\"dataframe\">\n",
       "  <thead>\n",
       "    <tr style=\"text-align: right;\">\n",
       "      <th></th>\n",
       "      <th>Linea de Credito</th>\n",
       "      <th>Tipo de Linea (Modalidad)</th>\n",
       "      <th>Descripción de la Linea</th>\n",
       "      <th>COD PRODUCTO</th>\n",
       "      <th>NOMBRE PRODUCTO</th>\n",
       "      <th>MODALIDAD</th>\n",
       "    </tr>\n",
       "  </thead>\n",
       "  <tbody>\n",
       "    <tr>\n",
       "      <td>0</td>\n",
       "      <td>2001</td>\n",
       "      <td>Consumo</td>\n",
       "      <td>CONSUMO ORDINARIO</td>\n",
       "      <td>CN18</td>\n",
       "      <td>ORDINARIO</td>\n",
       "      <td>CONSUMO</td>\n",
       "    </tr>\n",
       "    <tr>\n",
       "      <td>1</td>\n",
       "      <td>2002</td>\n",
       "      <td>Consumo</td>\n",
       "      <td>TARJETA</td>\n",
       "      <td>CN56</td>\n",
       "      <td>CONSUMO ROTATIVO MIGRADO</td>\n",
       "      <td>CONSUMO</td>\n",
       "    </tr>\n",
       "    <tr>\n",
       "      <td>2</td>\n",
       "      <td>2003</td>\n",
       "      <td>Consumo</td>\n",
       "      <td>LIBRANZA</td>\n",
       "      <td>CN21</td>\n",
       "      <td>LIBRANZA</td>\n",
       "      <td>CONSUMO</td>\n",
       "    </tr>\n",
       "    <tr>\n",
       "      <td>3</td>\n",
       "      <td>2004</td>\n",
       "      <td>Consumo</td>\n",
       "      <td>EMPLEADOS FINAM.  VIVIENDA</td>\n",
       "      <td>CN18</td>\n",
       "      <td>ORDINARIO</td>\n",
       "      <td>CONSUMO</td>\n",
       "    </tr>\n",
       "    <tr>\n",
       "      <td>4</td>\n",
       "      <td>2005</td>\n",
       "      <td>Consumo</td>\n",
       "      <td>CONSUMO MICROFINANZAS</td>\n",
       "      <td>CN14</td>\n",
       "      <td>CONSUMO MICROFINANZAS</td>\n",
       "      <td>CONSUMO</td>\n",
       "    </tr>\n",
       "    <tr>\n",
       "      <td>5</td>\n",
       "      <td>2006</td>\n",
       "      <td>Consumo</td>\n",
       "      <td>POLIZA EXEQUIAL</td>\n",
       "      <td>CN18</td>\n",
       "      <td>ORDINARIO</td>\n",
       "      <td>CONSUMO</td>\n",
       "    </tr>\n",
       "    <tr>\n",
       "      <td>6</td>\n",
       "      <td>2007</td>\n",
       "      <td>Consumo</td>\n",
       "      <td>EMPLEADOS FINAM. CONSUMO</td>\n",
       "      <td>N/A</td>\n",
       "      <td>N/A</td>\n",
       "      <td>N/A</td>\n",
       "    </tr>\n",
       "    <tr>\n",
       "      <td>7</td>\n",
       "      <td>2008</td>\n",
       "      <td>Consumo</td>\n",
       "      <td>CONSUMO PROVEEDORES</td>\n",
       "      <td>CN18</td>\n",
       "      <td>ORDINARIO</td>\n",
       "      <td>CONSUMO</td>\n",
       "    </tr>\n",
       "    <tr>\n",
       "      <td>8</td>\n",
       "      <td>2009</td>\n",
       "      <td>Consumo</td>\n",
       "      <td>VEHICULO</td>\n",
       "      <td>CN11</td>\n",
       "      <td>VEHICULO</td>\n",
       "      <td>CONSUMO</td>\n",
       "    </tr>\n",
       "    <tr>\n",
       "      <td>9</td>\n",
       "      <td>2010</td>\n",
       "      <td>Consumo</td>\n",
       "      <td>EXTRACUPO CONSUMO</td>\n",
       "      <td>CN18</td>\n",
       "      <td>ORDINARIO</td>\n",
       "      <td>CONSUMO</td>\n",
       "    </tr>\n",
       "  </tbody>\n",
       "</table>\n",
       "</div>"
      ],
      "text/plain": [
       "   Linea de Credito Tipo de Linea (Modalidad)     Descripción de la Linea  \\\n",
       "0              2001                   Consumo           CONSUMO ORDINARIO   \n",
       "1              2002                   Consumo                     TARJETA   \n",
       "2              2003                   Consumo                    LIBRANZA   \n",
       "3              2004                   Consumo  EMPLEADOS FINAM.  VIVIENDA   \n",
       "4              2005                   Consumo       CONSUMO MICROFINANZAS   \n",
       "5              2006                   Consumo             POLIZA EXEQUIAL   \n",
       "6              2007                   Consumo    EMPLEADOS FINAM. CONSUMO   \n",
       "7              2008                   Consumo         CONSUMO PROVEEDORES   \n",
       "8              2009                   Consumo                    VEHICULO   \n",
       "9              2010                   Consumo           EXTRACUPO CONSUMO   \n",
       "\n",
       "  COD PRODUCTO             NOMBRE PRODUCTO  MODALIDAD  \n",
       "0        CN18                   ORDINARIO    CONSUMO   \n",
       "1        CN56    CONSUMO ROTATIVO MIGRADO    CONSUMO   \n",
       "2        CN21                    LIBRANZA    CONSUMO   \n",
       "3        CN18                   ORDINARIO    CONSUMO   \n",
       "4        CN14       CONSUMO MICROFINANZAS    CONSUMO   \n",
       "5        CN18                   ORDINARIO    CONSUMO   \n",
       "6         N/A                         N/A        N/A   \n",
       "7        CN18                   ORDINARIO    CONSUMO   \n",
       "8        CN11                    VEHICULO    CONSUMO   \n",
       "9        CN18                   ORDINARIO    CONSUMO   "
      ]
     },
     "execution_count": 10,
     "metadata": {},
     "output_type": "execute_result"
    }
   ],
   "source": [
    "tabla_productos.head(10)"
   ]
  },
  {
   "cell_type": "code",
   "execution_count": 11,
   "metadata": {},
   "outputs": [
    {
     "data": {
      "text/plain": [
       "Index(['Linea de Credito', 'Tipo de Linea (Modalidad)',\n",
       "       'Descripción de la Linea', 'COD PRODUCTO', 'NOMBRE PRODUCTO',\n",
       "       'MODALIDAD'],\n",
       "      dtype='object')"
      ]
     },
     "execution_count": 11,
     "metadata": {},
     "output_type": "execute_result"
    }
   ],
   "source": [
    "tabla_productos.columns"
   ]
  },
  {
   "cell_type": "code",
   "execution_count": 12,
   "metadata": {},
   "outputs": [],
   "source": [
    "tabla_productos=tabla_productos[['Linea de Credito', 'COD PRODUCTO']]"
   ]
  },
  {
   "cell_type": "code",
   "execution_count": 13,
   "metadata": {},
   "outputs": [
    {
     "data": {
      "text/html": [
       "<div>\n",
       "<style scoped>\n",
       "    .dataframe tbody tr th:only-of-type {\n",
       "        vertical-align: middle;\n",
       "    }\n",
       "\n",
       "    .dataframe tbody tr th {\n",
       "        vertical-align: top;\n",
       "    }\n",
       "\n",
       "    .dataframe thead th {\n",
       "        text-align: right;\n",
       "    }\n",
       "</style>\n",
       "<table border=\"1\" class=\"dataframe\">\n",
       "  <thead>\n",
       "    <tr style=\"text-align: right;\">\n",
       "      <th></th>\n",
       "      <th>Linea de Credito</th>\n",
       "      <th>COD PRODUCTO</th>\n",
       "    </tr>\n",
       "  </thead>\n",
       "  <tbody>\n",
       "    <tr>\n",
       "      <td>0</td>\n",
       "      <td>2001</td>\n",
       "      <td>CN18</td>\n",
       "    </tr>\n",
       "    <tr>\n",
       "      <td>1</td>\n",
       "      <td>2002</td>\n",
       "      <td>CN56</td>\n",
       "    </tr>\n",
       "    <tr>\n",
       "      <td>2</td>\n",
       "      <td>2003</td>\n",
       "      <td>CN21</td>\n",
       "    </tr>\n",
       "    <tr>\n",
       "      <td>3</td>\n",
       "      <td>2004</td>\n",
       "      <td>CN18</td>\n",
       "    </tr>\n",
       "    <tr>\n",
       "      <td>4</td>\n",
       "      <td>2005</td>\n",
       "      <td>CN14</td>\n",
       "    </tr>\n",
       "  </tbody>\n",
       "</table>\n",
       "</div>"
      ],
      "text/plain": [
       "   Linea de Credito COD PRODUCTO\n",
       "0              2001        CN18 \n",
       "1              2002        CN56 \n",
       "2              2003        CN21 \n",
       "3              2004        CN18 \n",
       "4              2005        CN14 "
      ]
     },
     "execution_count": 13,
     "metadata": {},
     "output_type": "execute_result"
    }
   ],
   "source": [
    "tabla_productos.head()"
   ]
  },
  {
   "cell_type": "code",
   "execution_count": 14,
   "metadata": {},
   "outputs": [],
   "source": [
    "tabla_productos.columns=['linea', 'producto']"
   ]
  },
  {
   "cell_type": "code",
   "execution_count": 15,
   "metadata": {},
   "outputs": [
    {
     "data": {
      "text/html": [
       "<div>\n",
       "<style scoped>\n",
       "    .dataframe tbody tr th:only-of-type {\n",
       "        vertical-align: middle;\n",
       "    }\n",
       "\n",
       "    .dataframe tbody tr th {\n",
       "        vertical-align: top;\n",
       "    }\n",
       "\n",
       "    .dataframe thead th {\n",
       "        text-align: right;\n",
       "    }\n",
       "</style>\n",
       "<table border=\"1\" class=\"dataframe\">\n",
       "  <thead>\n",
       "    <tr style=\"text-align: right;\">\n",
       "      <th></th>\n",
       "      <th>linea</th>\n",
       "      <th>producto</th>\n",
       "    </tr>\n",
       "  </thead>\n",
       "  <tbody>\n",
       "    <tr>\n",
       "      <td>0</td>\n",
       "      <td>2001</td>\n",
       "      <td>CN18</td>\n",
       "    </tr>\n",
       "    <tr>\n",
       "      <td>1</td>\n",
       "      <td>2002</td>\n",
       "      <td>CN56</td>\n",
       "    </tr>\n",
       "    <tr>\n",
       "      <td>2</td>\n",
       "      <td>2003</td>\n",
       "      <td>CN21</td>\n",
       "    </tr>\n",
       "    <tr>\n",
       "      <td>3</td>\n",
       "      <td>2004</td>\n",
       "      <td>CN18</td>\n",
       "    </tr>\n",
       "    <tr>\n",
       "      <td>4</td>\n",
       "      <td>2005</td>\n",
       "      <td>CN14</td>\n",
       "    </tr>\n",
       "  </tbody>\n",
       "</table>\n",
       "</div>"
      ],
      "text/plain": [
       "   linea producto\n",
       "0   2001    CN18 \n",
       "1   2002    CN56 \n",
       "2   2003    CN21 \n",
       "3   2004    CN18 \n",
       "4   2005    CN14 "
      ]
     },
     "execution_count": 15,
     "metadata": {},
     "output_type": "execute_result"
    }
   ],
   "source": [
    "tabla_productos.head()"
   ]
  },
  {
   "cell_type": "code",
   "execution_count": null,
   "metadata": {},
   "outputs": [],
   "source": [
    "??merge"
   ]
  },
  {
   "cell_type": "code",
   "execution_count": 16,
   "metadata": {},
   "outputs": [
    {
     "data": {
      "text/plain": [
       "Index(['Grupo_linea', 'GRUPO_CREDITO', 'C_Nombre_Plan', 'GrupoModelo'], dtype='object')"
      ]
     },
     "execution_count": 16,
     "metadata": {},
     "output_type": "execute_result"
    }
   ],
   "source": [
    "tabla_modelos.columns"
   ]
  },
  {
   "cell_type": "code",
   "execution_count": 28,
   "metadata": {},
   "outputs": [],
   "source": [
    "tabla_modelos2=tabla_modelos.merge(tabla_productos, how='left' , left_on='Grupo_linea', right_on='linea')\n",
    "print(tabla_modelos.shape)\n",
    "print(tabla_modelos2.shape)"
   ]
  },
  {
   "cell_type": "code",
   "execution_count": 29,
   "metadata": {},
   "outputs": [
    {
     "data": {
      "text/html": [
       "<div>\n",
       "<style scoped>\n",
       "    .dataframe tbody tr th:only-of-type {\n",
       "        vertical-align: middle;\n",
       "    }\n",
       "\n",
       "    .dataframe tbody tr th {\n",
       "        vertical-align: top;\n",
       "    }\n",
       "\n",
       "    .dataframe thead th {\n",
       "        text-align: right;\n",
       "    }\n",
       "</style>\n",
       "<table border=\"1\" class=\"dataframe\">\n",
       "  <thead>\n",
       "    <tr style=\"text-align: right;\">\n",
       "      <th></th>\n",
       "      <th>Grupo_linea</th>\n",
       "      <th>GRUPO_CREDITO</th>\n",
       "      <th>C_Nombre_Plan</th>\n",
       "      <th>GrupoModelo</th>\n",
       "      <th>linea</th>\n",
       "      <th>producto</th>\n",
       "    </tr>\n",
       "  </thead>\n",
       "  <tbody>\n",
       "    <tr>\n",
       "      <td>0</td>\n",
       "      <td>2001</td>\n",
       "      <td>CONSUMO ORDINARIO</td>\n",
       "      <td>CONSUMO ORDINARIO</td>\n",
       "      <td>7</td>\n",
       "      <td>2001</td>\n",
       "      <td>CN18</td>\n",
       "    </tr>\n",
       "    <tr>\n",
       "      <td>1</td>\n",
       "      <td>2002</td>\n",
       "      <td>CONSUMO CUPO ROTATIVO“TARJETA FE”</td>\n",
       "      <td>TARJETA</td>\n",
       "      <td>3</td>\n",
       "      <td>2002</td>\n",
       "      <td>CN56</td>\n",
       "    </tr>\n",
       "    <tr>\n",
       "      <td>2</td>\n",
       "      <td>2003</td>\n",
       "      <td>LIBRANZA'</td>\n",
       "      <td>LIBRANZA</td>\n",
       "      <td>7</td>\n",
       "      <td>2003</td>\n",
       "      <td>CN21</td>\n",
       "    </tr>\n",
       "    <tr>\n",
       "      <td>3</td>\n",
       "      <td>2005</td>\n",
       "      <td>CONSUMO MICROFINANZAS'</td>\n",
       "      <td>CONSUMO MICROFINANZAS</td>\n",
       "      <td>4</td>\n",
       "      <td>2005</td>\n",
       "      <td>CN14</td>\n",
       "    </tr>\n",
       "    <tr>\n",
       "      <td>4</td>\n",
       "      <td>2009</td>\n",
       "      <td>VEHÍCULO</td>\n",
       "      <td>VEHICULO</td>\n",
       "      <td>5</td>\n",
       "      <td>2009</td>\n",
       "      <td>CN11</td>\n",
       "    </tr>\n",
       "  </tbody>\n",
       "</table>\n",
       "</div>"
      ],
      "text/plain": [
       "   Grupo_linea                      GRUPO_CREDITO          C_Nombre_Plan  \\\n",
       "0         2001                  CONSUMO ORDINARIO      CONSUMO ORDINARIO   \n",
       "1         2002  CONSUMO CUPO ROTATIVO“TARJETA FE”                TARJETA   \n",
       "2         2003                          LIBRANZA'               LIBRANZA   \n",
       "3         2005             CONSUMO MICROFINANZAS'  CONSUMO MICROFINANZAS   \n",
       "4         2009                           VEHÍCULO               VEHICULO   \n",
       "\n",
       "   GrupoModelo  linea producto  \n",
       "0            7   2001    CN18   \n",
       "1            3   2002    CN56   \n",
       "2            7   2003    CN21   \n",
       "3            4   2005    CN14   \n",
       "4            5   2009    CN11   "
      ]
     },
     "execution_count": 29,
     "metadata": {},
     "output_type": "execute_result"
    }
   ],
   "source": [
    "tabla_modelos2.head()"
   ]
  },
  {
   "cell_type": "code",
   "execution_count": 30,
   "metadata": {},
   "outputs": [],
   "source": [
    "tabla_modelos2=tabla_modelos2.drop(['Grupo_linea'], axis=1)"
   ]
  },
  {
   "cell_type": "code",
   "execution_count": 31,
   "metadata": {},
   "outputs": [
    {
     "data": {
      "text/html": [
       "<div>\n",
       "<style scoped>\n",
       "    .dataframe tbody tr th:only-of-type {\n",
       "        vertical-align: middle;\n",
       "    }\n",
       "\n",
       "    .dataframe tbody tr th {\n",
       "        vertical-align: top;\n",
       "    }\n",
       "\n",
       "    .dataframe thead th {\n",
       "        text-align: right;\n",
       "    }\n",
       "</style>\n",
       "<table border=\"1\" class=\"dataframe\">\n",
       "  <thead>\n",
       "    <tr style=\"text-align: right;\">\n",
       "      <th></th>\n",
       "      <th>GRUPO_CREDITO</th>\n",
       "      <th>C_Nombre_Plan</th>\n",
       "      <th>GrupoModelo</th>\n",
       "      <th>linea</th>\n",
       "      <th>producto</th>\n",
       "    </tr>\n",
       "  </thead>\n",
       "  <tbody>\n",
       "    <tr>\n",
       "      <td>0</td>\n",
       "      <td>CONSUMO ORDINARIO</td>\n",
       "      <td>CONSUMO ORDINARIO</td>\n",
       "      <td>7</td>\n",
       "      <td>2001</td>\n",
       "      <td>CN18</td>\n",
       "    </tr>\n",
       "    <tr>\n",
       "      <td>1</td>\n",
       "      <td>CONSUMO CUPO ROTATIVO“TARJETA FE”</td>\n",
       "      <td>TARJETA</td>\n",
       "      <td>3</td>\n",
       "      <td>2002</td>\n",
       "      <td>CN56</td>\n",
       "    </tr>\n",
       "    <tr>\n",
       "      <td>2</td>\n",
       "      <td>LIBRANZA'</td>\n",
       "      <td>LIBRANZA</td>\n",
       "      <td>7</td>\n",
       "      <td>2003</td>\n",
       "      <td>CN21</td>\n",
       "    </tr>\n",
       "    <tr>\n",
       "      <td>3</td>\n",
       "      <td>CONSUMO MICROFINANZAS'</td>\n",
       "      <td>CONSUMO MICROFINANZAS</td>\n",
       "      <td>4</td>\n",
       "      <td>2005</td>\n",
       "      <td>CN14</td>\n",
       "    </tr>\n",
       "    <tr>\n",
       "      <td>4</td>\n",
       "      <td>VEHÍCULO</td>\n",
       "      <td>VEHICULO</td>\n",
       "      <td>5</td>\n",
       "      <td>2009</td>\n",
       "      <td>CN11</td>\n",
       "    </tr>\n",
       "  </tbody>\n",
       "</table>\n",
       "</div>"
      ],
      "text/plain": [
       "                       GRUPO_CREDITO          C_Nombre_Plan  GrupoModelo  \\\n",
       "0                  CONSUMO ORDINARIO      CONSUMO ORDINARIO            7   \n",
       "1  CONSUMO CUPO ROTATIVO“TARJETA FE”                TARJETA            3   \n",
       "2                          LIBRANZA'               LIBRANZA            7   \n",
       "3             CONSUMO MICROFINANZAS'  CONSUMO MICROFINANZAS            4   \n",
       "4                           VEHÍCULO               VEHICULO            5   \n",
       "\n",
       "   linea producto  \n",
       "0   2001    CN18   \n",
       "1   2002    CN56   \n",
       "2   2003    CN21   \n",
       "3   2005    CN14   \n",
       "4   2009    CN11   "
      ]
     },
     "execution_count": 31,
     "metadata": {},
     "output_type": "execute_result"
    }
   ],
   "source": [
    "tabla_modelos2.head()"
   ]
  },
  {
   "cell_type": "code",
   "execution_count": 36,
   "metadata": {},
   "outputs": [],
   "source": [
    "new_order = [4,0,1,2,3]\n",
    "tabla_modelos2=tabla_modelos2[tabla_modelos2.columns[new_order]] "
   ]
  },
  {
   "cell_type": "code",
   "execution_count": 37,
   "metadata": {},
   "outputs": [
    {
     "data": {
      "text/html": [
       "<div>\n",
       "<style scoped>\n",
       "    .dataframe tbody tr th:only-of-type {\n",
       "        vertical-align: middle;\n",
       "    }\n",
       "\n",
       "    .dataframe tbody tr th {\n",
       "        vertical-align: top;\n",
       "    }\n",
       "\n",
       "    .dataframe thead th {\n",
       "        text-align: right;\n",
       "    }\n",
       "</style>\n",
       "<table border=\"1\" class=\"dataframe\">\n",
       "  <thead>\n",
       "    <tr style=\"text-align: right;\">\n",
       "      <th></th>\n",
       "      <th>producto</th>\n",
       "      <th>GRUPO_CREDITO</th>\n",
       "      <th>C_Nombre_Plan</th>\n",
       "      <th>GrupoModelo</th>\n",
       "      <th>linea</th>\n",
       "    </tr>\n",
       "  </thead>\n",
       "  <tbody>\n",
       "    <tr>\n",
       "      <td>0</td>\n",
       "      <td>CN18</td>\n",
       "      <td>CONSUMO ORDINARIO</td>\n",
       "      <td>CONSUMO ORDINARIO</td>\n",
       "      <td>7</td>\n",
       "      <td>2001</td>\n",
       "    </tr>\n",
       "    <tr>\n",
       "      <td>1</td>\n",
       "      <td>CN56</td>\n",
       "      <td>CONSUMO CUPO ROTATIVO“TARJETA FE”</td>\n",
       "      <td>TARJETA</td>\n",
       "      <td>3</td>\n",
       "      <td>2002</td>\n",
       "    </tr>\n",
       "    <tr>\n",
       "      <td>2</td>\n",
       "      <td>CN21</td>\n",
       "      <td>LIBRANZA'</td>\n",
       "      <td>LIBRANZA</td>\n",
       "      <td>7</td>\n",
       "      <td>2003</td>\n",
       "    </tr>\n",
       "    <tr>\n",
       "      <td>3</td>\n",
       "      <td>CN14</td>\n",
       "      <td>CONSUMO MICROFINANZAS'</td>\n",
       "      <td>CONSUMO MICROFINANZAS</td>\n",
       "      <td>4</td>\n",
       "      <td>2005</td>\n",
       "    </tr>\n",
       "    <tr>\n",
       "      <td>4</td>\n",
       "      <td>CN11</td>\n",
       "      <td>VEHÍCULO</td>\n",
       "      <td>VEHICULO</td>\n",
       "      <td>5</td>\n",
       "      <td>2009</td>\n",
       "    </tr>\n",
       "  </tbody>\n",
       "</table>\n",
       "</div>"
      ],
      "text/plain": [
       "  producto                      GRUPO_CREDITO          C_Nombre_Plan  \\\n",
       "0    CN18                   CONSUMO ORDINARIO      CONSUMO ORDINARIO   \n",
       "1    CN56   CONSUMO CUPO ROTATIVO“TARJETA FE”                TARJETA   \n",
       "2    CN21                           LIBRANZA'               LIBRANZA   \n",
       "3    CN14              CONSUMO MICROFINANZAS'  CONSUMO MICROFINANZAS   \n",
       "4    CN11                            VEHÍCULO               VEHICULO   \n",
       "\n",
       "   GrupoModelo  linea  \n",
       "0            7   2001  \n",
       "1            3   2002  \n",
       "2            7   2003  \n",
       "3            4   2005  \n",
       "4            5   2009  "
      ]
     },
     "execution_count": 37,
     "metadata": {},
     "output_type": "execute_result"
    }
   ],
   "source": [
    "tabla_modelos2.head()"
   ]
  },
  {
   "cell_type": "code",
   "execution_count": 38,
   "metadata": {},
   "outputs": [
    {
     "data": {
      "text/plain": [
       "Index(['producto', 'GRUPO_CREDITO', 'C_Nombre_Plan', 'GrupoModelo', 'linea'], dtype='object')"
      ]
     },
     "execution_count": 38,
     "metadata": {},
     "output_type": "execute_result"
    }
   ],
   "source": [
    "tabla_modelos2.columns"
   ]
  },
  {
   "cell_type": "code",
   "execution_count": 49,
   "metadata": {},
   "outputs": [],
   "source": [
    "path_out='C:\\\\Users\\\\nereida.combariza\\\\Documents\\\\cosas de python\\\\homologado'\n",
    "os.chdir(path_out)"
   ]
  },
  {
   "cell_type": "code",
   "execution_count": 51,
   "metadata": {},
   "outputs": [],
   "source": [
    "tabla_modelos2.to_csv('TABLA_MODELOS.txt', index=False, sep='\\t')"
   ]
  }
 ],
 "metadata": {
  "kernelspec": {
   "display_name": "Python 3",
   "language": "python",
   "name": "python3"
  },
  "language_info": {
   "codemirror_mode": {
    "name": "ipython",
    "version": 3
   },
   "file_extension": ".py",
   "mimetype": "text/x-python",
   "name": "python",
   "nbconvert_exporter": "python",
   "pygments_lexer": "ipython3",
   "version": "3.7.4"
  }
 },
 "nbformat": 4,
 "nbformat_minor": 2
}
