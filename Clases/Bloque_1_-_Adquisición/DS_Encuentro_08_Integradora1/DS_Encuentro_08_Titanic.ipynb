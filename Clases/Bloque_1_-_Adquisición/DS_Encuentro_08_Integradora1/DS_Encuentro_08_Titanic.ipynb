{
 "cells": [
  {
   "cell_type": "markdown",
   "metadata": {},
   "source": [
    "# Titanic - Exploración de datos\n",
    "\n",
    "El objetivo del siguiente notebook es hacer una exploración de los datos del Dataset del Titanic (\"DS_Clase_05_titanic.csv\").\n",
    "\n",
    "Pueden encontrar más información al respecto en el siguiente link:\n",
    "\n",
    "https://www.kaggle.com/c/titanic\n",
    "\n",
    "Más adelante hablaremos más acerca de Kaggle, pero por ahora les comentamos que es una página donde se suben Dataset y la gente los analiza. En general los datasets están bastante curados y la gente sube los \"Kernels\" (Notebooks) que usaron para analizarlos. La página está buenísima, recomendamos que exploren los kernels de análisis del Titanic - al menos los de mayor puntaje - y miren las competencias que hay.\n",
    "\n",
    "## 1. Análisis Exploratorio de Datos\n",
    "\n",
    "La idea del siguiente análisis es que sea lo menos guiado posible. De todas formas, dejamos una serie de preguntas y pistas que no deberían faltar:\n",
    "\n",
    "1. ¿Qué forma tiene el dataset? Hacer una descripción rápida. Pista: `.describe()`\n",
    "2. ¿De qué tipo son las variables y qué valores toman? Pista: `.info()`\n",
    "3. ¿En qué columnas hay valores faltantes?¿Cuántos? Pista: `.info(), .isna(), sum()`\n",
    "4. ¿Cómo son las distribuciones y las relaciones entre variables?¿Son informativos esos gráficos? Concentrarse en las variables más relevantes: género, edad, clase, etc. Pista: `pairplot()`\n",
    "5. ¿Cómo están correlacionadas las variables?\n",
    "\n",
    "## 2. Extrayendo información\n",
    "\n",
    "\"Mujeres y niños primero\". ¿Será cierto? Intentemos fundamentar (o no) esa afirmación con la información disponible en el dataset. Para ello, responder las siguientes preguntas:\n",
    "\n",
    "1. ¿Cuántos hombres y mujeres sobrevivieron a la tragedia?¿Alcanza con esa información para afirmar que las mujeres tenían mayor probabilidad de supervivencia o necesitamos algo más?\n",
    "2. ¿Cuál era la distribución de edades en el Titanic?¿Es la misma para hombres y mujeres?\n",
    "3. ¿Cuál era la distribución de edades en el Titanic?¿Es la misma para hombres y mujeres?\n",
    "\n",
    "Recuerden, siempre que puedan, hacer un lindo gráfico. \n"
   ]
  }
 ],
 "metadata": {
  "kernelspec": {
   "display_name": "Python 3",
   "language": "python",
   "name": "python3"
  },
  "language_info": {
   "codemirror_mode": {
    "name": "ipython",
    "version": 3
   },
   "file_extension": ".py",
   "mimetype": "text/x-python",
   "name": "python",
   "nbconvert_exporter": "python",
   "pygments_lexer": "ipython3",
   "version": "3.7.0"
  }
 },
 "nbformat": 4,
 "nbformat_minor": 4
}
