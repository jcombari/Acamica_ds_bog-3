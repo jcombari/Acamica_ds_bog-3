{
 "cells": [
  {
   "cell_type": "markdown",
   "metadata": {
    "colab_type": "text",
    "id": "aDaMLDnAPBMf"
   },
   "source": [
    "# Introducción a Python\n",
    "\n",
    "En este notebook vamos a recorrer algunos de los conceptos básicos de programación en general y Python en particular. Recomendamos ir haciéndolo con las diapositivas de la clase a mano como guía y con el buscador de Google como su mejor amigo. Existen muchísimos recursos de libre acceso disponibles para ayudarnos, recomendamos https://learnxinyminutes.com/docs/python3/ .\n",
    "\n",
    "\n",
    "## Recomendación:\n",
    "Además de realizar los ejercicios, les sugerimos fuertemente que vayan probando y modificando el código presente en este notebook. La mejor manera de aprender es meter mano, 'romper' el código e intentar entender porque dejó de funcionar. ¡No hay nada irreversible, no tengan miedo!\n",
    "\n",
    "## 1. Variables, Tipos de Datos y Operaciones\n",
    "\n",
    "### 1.1 Variables\n",
    "Son los datos u obejetos que que definimos para trabajar en nuestro programa. Cada variable debe llevar un nombre a través del cual nos referimos a ella, los nombres deben ser únicos y, en lo posible, ser lo mas explícitos posibles para evitar confusiones.\n",
    "\n",
    "Usando el `=` se asigna un valor a una variable. No es un igual matemático/lógico, pueden pensarlo como una flecha (<--) que asigna lo que hay del lado derecho a lo que hay del lado izquierdo."
   ]
  },
  {
   "cell_type": "code",
   "execution_count": 1,
   "metadata": {
    "colab": {},
    "colab_type": "code",
    "id": "Ejj7jqb9PBMk"
   },
   "outputs": [
    {
     "name": "stdout",
     "output_type": "stream",
     "text": [
      "3\n"
     ]
    }
   ],
   "source": [
    "# Asignamos el valor 3 a una variable que creamos, de nombre x\n",
    "x = 3\n",
    "\n",
    "# Evaluamos e imprimimos en pantalla el resultado\n",
    "print(x)"
   ]
  },
  {
   "cell_type": "code",
   "execution_count": 2,
   "metadata": {
    "colab": {},
    "colab_type": "code",
    "id": "G0_JnDgrPBMu"
   },
   "outputs": [
    {
     "name": "stdout",
     "output_type": "stream",
     "text": [
      "15.7\n"
     ]
    }
   ],
   "source": [
    "# Asignamos el valor 15.7 a una nueva variable, de nombre y\n",
    "y = 15.7\n",
    "\n",
    "print(y)"
   ]
  },
  {
   "cell_type": "code",
   "execution_count": 3,
   "metadata": {
    "colab": {},
    "colab_type": "code",
    "id": "1sVjKnS8PBM0"
   },
   "outputs": [
    {
     "name": "stdout",
     "output_type": "stream",
     "text": [
      "18.7\n"
     ]
    }
   ],
   "source": [
    "# Podemos definir una nueva variable como la suma de dos anteriores\n",
    "z = x + y\n",
    "\n",
    "print(z)"
   ]
  },
  {
   "cell_type": "code",
   "execution_count": 4,
   "metadata": {
    "colab": {},
    "colab_type": "code",
    "id": "n-OyQw00PBM6",
    "outputId": "79ee50f4-25aa-4590-9caf-e5ee1cd42128"
   },
   "outputs": [
    {
     "name": "stdout",
     "output_type": "stream",
     "text": [
      "HOLA!\n"
     ]
    }
   ],
   "source": [
    "# Se peude tambier asignar un valor de texto otra variable\n",
    "un_texto = 'HOLA!'\n",
    "\n",
    "print(un_texto)"
   ]
  },
  {
   "cell_type": "code",
   "execution_count": 5,
   "metadata": {
    "colab": {},
    "colab_type": "code",
    "id": "Dj_DJGDOPBNB",
    "outputId": "5cf4bb95-ab77-458f-cc66-b52a655187a4"
   },
   "outputs": [
    {
     "ename": "NameError",
     "evalue": "name 'un_texto' is not defined",
     "output_type": "error",
     "traceback": [
      "\u001b[1;31m---------------------------------------------------------------------------\u001b[0m",
      "\u001b[1;31mNameError\u001b[0m                                 Traceback (most recent call last)",
      "\u001b[1;32m<ipython-input-5-2a71609bbca8>\u001b[0m in \u001b[0;36m<module>\u001b[1;34m\u001b[0m\n\u001b[0;32m      1\u001b[0m \u001b[1;31m# Si queremos, podemos borrar alguna variable que ya no la utilizaremos mas\u001b[0m\u001b[1;33m\u001b[0m\u001b[1;33m\u001b[0m\u001b[1;33m\u001b[0m\u001b[0m\n\u001b[0;32m      2\u001b[0m \u001b[1;32mdel\u001b[0m\u001b[1;33m(\u001b[0m\u001b[0mun_texto\u001b[0m\u001b[1;33m)\u001b[0m\u001b[1;33m\u001b[0m\u001b[1;33m\u001b[0m\u001b[0m\n\u001b[1;32m----> 3\u001b[1;33m \u001b[0mprint\u001b[0m\u001b[1;33m(\u001b[0m\u001b[0mun_texto\u001b[0m\u001b[1;33m)\u001b[0m\u001b[1;33m\u001b[0m\u001b[1;33m\u001b[0m\u001b[0m\n\u001b[0m",
      "\u001b[1;31mNameError\u001b[0m: name 'un_texto' is not defined"
     ]
    }
   ],
   "source": [
    "# Si queremos, podemos borrar alguna variable que ya no la utilizaremos mas\n",
    "del(un_texto)\n",
    "print(un_texto)"
   ]
  },
  {
   "cell_type": "markdown",
   "metadata": {
    "colab_type": "text",
    "id": "x3UOib9UPBNG"
   },
   "source": [
    "### Nota importante:\n",
    "Al correr esta íltima linea, deben ver un mensaje de error. Los mensajes de error son MUY IMPORTANTES. Nos brindan información muy valiosa cuando nuestro código no funciona. En este caso, nos está avisando que no puede imprimir la variable `un_texto`, ya que la eliminamos y no está definida."
   ]
  },
  {
   "cell_type": "markdown",
   "metadata": {
    "colab_type": "text",
    "id": "520n2L18PBNH"
   },
   "source": [
    "### 1.2 Tipos de Datos\n",
    "Cuando definimos una variable, dependiendo el contenido que le asignamos, la misma será de un determinado tipo. Los tipos de datos más comunes de variables son: `int`,`float`,`string` y `boolean`. Veamos algunos ejemplos de cada tipo."
   ]
  },
  {
   "cell_type": "code",
   "execution_count": 6,
   "metadata": {
    "colab": {},
    "colab_type": "code",
    "id": "5MQYEBApPBNK",
    "outputId": "51c47596-49eb-4e6a-f54a-98cdac24fe04"
   },
   "outputs": [
    {
     "name": "stdout",
     "output_type": "stream",
     "text": [
      "<class 'int'>\n"
     ]
    }
   ],
   "source": [
    "a = 42\n",
    "print(type(a))"
   ]
  },
  {
   "cell_type": "code",
   "execution_count": 7,
   "metadata": {
    "colab": {},
    "colab_type": "code",
    "id": "E0g87gVfPBNP",
    "outputId": "6a52d178-222f-49db-c5d6-b4498bbfe495"
   },
   "outputs": [
    {
     "name": "stdout",
     "output_type": "stream",
     "text": [
      "<class 'float'>\n"
     ]
    }
   ],
   "source": [
    "b = 7.8\n",
    "print(type(b))"
   ]
  },
  {
   "cell_type": "code",
   "execution_count": 8,
   "metadata": {
    "colab": {},
    "colab_type": "code",
    "id": "6SFdLEFIPBNW",
    "outputId": "15bb6e93-217a-4b77-afe9-e26f0db04b20"
   },
   "outputs": [
    {
     "name": "stdout",
     "output_type": "stream",
     "text": [
      "<class 'bool'>\n"
     ]
    }
   ],
   "source": [
    "c = True\n",
    "print(type(c))"
   ]
  },
  {
   "cell_type": "code",
   "execution_count": 9,
   "metadata": {
    "colab": {},
    "colab_type": "code",
    "id": "i_cCG-iYPBNb",
    "outputId": "4c3e98d4-d323-41c9-9e77-801841200434"
   },
   "outputs": [
    {
     "name": "stdout",
     "output_type": "stream",
     "text": [
      "<class 'str'>\n",
      "<class 'str'>\n"
     ]
    }
   ],
   "source": [
    "t1 = 'hola'\n",
    "print(type(\"hola\"))\n",
    "\n",
    "t2 = '523'\n",
    "print(type('t2'))"
   ]
  },
  {
   "cell_type": "markdown",
   "metadata": {
    "colab_type": "text",
    "id": "fAiC3ranPBNh"
   },
   "source": [
    "**Nota**: a pesar de ser un número, la variable `t2` es de tipo `string`. Esto se debe a que lo pusimos entre comillas."
   ]
  },
  {
   "cell_type": "code",
   "execution_count": 10,
   "metadata": {
    "colab": {},
    "colab_type": "code",
    "id": "erSdYVqhPBNj",
    "outputId": "e82b746f-0c99-4343-8a3d-8b054a4d9f7a"
   },
   "outputs": [
    {
     "name": "stdout",
     "output_type": "stream",
     "text": [
      "<class 'NoneType'>\n"
     ]
    }
   ],
   "source": [
    "# Este es un tipo especial de variable, que se utiliza para simbolizar algo 'vacio'\n",
    "d = None\n",
    "print(type(d))"
   ]
  },
  {
   "cell_type": "markdown",
   "metadata": {
    "colab_type": "text",
    "id": "WhJ_nLaCPBNo"
   },
   "source": [
    "Si por algun motivo (ya veremos que esto es algo que suele suceder), uno desea explicitar el tipo de variable y no dejar que python lo asuma por si solo, esto también es posible."
   ]
  },
  {
   "cell_type": "code",
   "execution_count": 11,
   "metadata": {
    "colab": {},
    "colab_type": "code",
    "id": "AvUDAvtpPBNp",
    "outputId": "42624ea9-4420-4f64-fd9e-7ab26c1845d5"
   },
   "outputs": [
    {
     "name": "stdout",
     "output_type": "stream",
     "text": [
      "<class 'int'>\n",
      "<class 'float'>\n",
      "<class 'str'>\n"
     ]
    }
   ],
   "source": [
    "numero = 45\n",
    "print(type(numero))\n",
    "\n",
    "# Quiero que sea un 'float' y no un int\n",
    "numero = float(45)\n",
    "print(type(numero))\n",
    "\n",
    "# Quiero que sea un 'string' y no un int\n",
    "numero = str(45)\n",
    "print(type(numero))"
   ]
  },
  {
   "cell_type": "code",
   "execution_count": 12,
   "metadata": {
    "colab": {},
    "colab_type": "code",
    "id": "r6B6f_oOPBNv",
    "outputId": "83866742-e621-4fc8-e016-0ead17e13c07"
   },
   "outputs": [
    {
     "name": "stdout",
     "output_type": "stream",
     "text": [
      "<class 'float'>\n",
      "<class 'int'>\n"
     ]
    }
   ],
   "source": [
    "otro_numero = 45.0\n",
    "print(type(otro_numero))\n",
    "\n",
    "# Quiero que sea un 'int' y no un 'float'\n",
    "otro_numero = int(45.0)\n",
    "print(type(otro_numero))"
   ]
  },
  {
   "cell_type": "markdown",
   "metadata": {
    "colab_type": "text",
    "id": "4EMswXwbPjLD"
   },
   "source": [
    "**Ejercicio**: Cambiar el tipo de la variable 'numero' a float."
   ]
  },
  {
   "cell_type": "code",
   "execution_count": 13,
   "metadata": {
    "colab": {
     "base_uri": "https://localhost:8080/",
     "height": 34
    },
    "colab_type": "code",
    "executionInfo": {
     "elapsed": 2247,
     "status": "ok",
     "timestamp": 1568039700066,
     "user": {
      "displayName": "Gonzalo Uribarri",
      "photoUrl": "https://lh3.googleusercontent.com/a-/AAuE7mDQw9cg7217pGPu2svh3_rPZlIF6LtgpmR-NfO0Dw=s64",
      "userId": "17825563747069699654"
     },
     "user_tz": 180
    },
    "id": "g6o0UHSbPuZu",
    "outputId": "817050b9-41be-4d84-debc-497d357ff933"
   },
   "outputs": [
    {
     "name": "stdout",
     "output_type": "stream",
     "text": [
      "Correcto!\n"
     ]
    }
   ],
   "source": [
    "numero = '5'\n",
    "\n",
    "#numero = COMPLETAR\n",
    "numero = float(numero)\n",
    "\n",
    "if type(numero) is float:\n",
    "    print('Correcto!')\n",
    "else:\n",
    "    print('Convierta la valable a tipo float')"
   ]
  },
  {
   "cell_type": "markdown",
   "metadata": {
    "colab_type": "text",
    "id": "Zip2yREWPBN0"
   },
   "source": [
    "### 1.3 Operaciones\n",
    "Con las variables que definimos, podemos realizar distintas operaciones. Dependiendo el tipo de variable, hay diferentes operaciones diponibles.\n",
    "\n",
    "#### 1.3.1 Operaciones con números"
   ]
  },
  {
   "cell_type": "code",
   "execution_count": 14,
   "metadata": {
    "colab": {},
    "colab_type": "code",
    "id": "QbeN4rjGPBN2",
    "outputId": "11936930-62d9-478f-8412-a76bd1c42a44"
   },
   "outputs": [
    {
     "name": "stdout",
     "output_type": "stream",
     "text": [
      "24\n",
      "16\n"
     ]
    }
   ],
   "source": [
    "# Se pueden realizar las operaciones basicas entre numeros\n",
    "a = 20\n",
    "b = 4\n",
    "print(a+b)\n",
    "print(a-b)"
   ]
  },
  {
   "cell_type": "code",
   "execution_count": 15,
   "metadata": {
    "colab": {},
    "colab_type": "code",
    "id": "x7NDD_tJPBN6",
    "outputId": "0ed7e62c-8b1c-4076-802b-db325aea7560"
   },
   "outputs": [
    {
     "name": "stdout",
     "output_type": "stream",
     "text": [
      "24.5\n",
      "15.5\n"
     ]
    }
   ],
   "source": [
    "# Se pueden realizar las operaciones incluso entre distintos tipos de variables\n",
    "a = 20\n",
    "b = 4.5\n",
    "\n",
    "c = a+b\n",
    "d = a-b\n",
    "\n",
    "print(c)\n",
    "print(d)"
   ]
  },
  {
   "cell_type": "code",
   "execution_count": null,
   "metadata": {
    "colab": {},
    "colab_type": "code",
    "id": "yZLqW2ZYPBN_",
    "outputId": "08ecb592-1c6a-4d66-e701-62ed6414c036"
   },
   "outputs": [],
   "source": [
    "# Notemos que estos resultados son de tipo float\n",
    "print(type(c))\n",
    "print(type(d))"
   ]
  },
  {
   "cell_type": "code",
   "execution_count": null,
   "metadata": {
    "colab": {},
    "colab_type": "code",
    "id": "z9kq2lEVPBOF",
    "outputId": "cd3c46b6-789f-496e-993b-b9377291cef1"
   },
   "outputs": [],
   "source": [
    "# Podemos dividir dos numeros\n",
    "x = 10\n",
    "y = 3\n",
    "z = x/y\n",
    "print(z)"
   ]
  },
  {
   "cell_type": "code",
   "execution_count": null,
   "metadata": {
    "colab": {},
    "colab_type": "code",
    "id": "IgJQDZ7MPBOI",
    "outputId": "c2928a3d-0ca3-4dd1-d91f-1cccba7c94fe"
   },
   "outputs": [],
   "source": [
    "# Notemos que, a pesar de venir de una operación entre dos enteros,\n",
    "# z es de tipo float\n",
    "print(type(z))"
   ]
  },
  {
   "cell_type": "code",
   "execution_count": null,
   "metadata": {
    "colab": {},
    "colab_type": "code",
    "id": "tZWn26P9PBON",
    "outputId": "21bc6ec8-8f64-42ac-cef3-8f14468189a8"
   },
   "outputs": [],
   "source": [
    "# Esta operación es muy usada en computación, nos devuelve el resto de la división\n",
    "x = 10\n",
    "y = 3\n",
    "print(x%y)\n",
    "print(type(x%y))"
   ]
  },
  {
   "cell_type": "markdown",
   "metadata": {
    "colab_type": "text",
    "id": "-5X5DceISQ-O"
   },
   "source": [
    "**Ejercicio**: Calcular el porcentaje que representa el valor 17 sobre un total de 54 y guardarlo en una variable llamada 'porcentaje'."
   ]
  },
  {
   "cell_type": "code",
   "execution_count": null,
   "metadata": {
    "colab_type": "text",
    "id": "qUnNrBQMTIMb"
   },
   "outputs": [],
   "source": [
    "porcentaje = 17*100/54\n",
    "print(porcentaje)"
   ]
  },
  {
   "cell_type": "markdown",
   "metadata": {
    "colab_type": "text",
    "id": "Eq2Zw2imPBOQ"
   },
   "source": [
    "#### Operaciones con Texto"
   ]
  },
  {
   "cell_type": "code",
   "execution_count": null,
   "metadata": {
    "colab": {},
    "colab_type": "code",
    "id": "MvMmHUutPBOR",
    "outputId": "83fb1d19-489e-4090-8660-234f13457f7f"
   },
   "outputs": [],
   "source": [
    "txt_1 = 'Los textos'\n",
    "txt_2 = ' se concatenan.'\n",
    "print(txt_1 + txt_2)"
   ]
  },
  {
   "cell_type": "code",
   "execution_count": null,
   "metadata": {
    "colab": {},
    "colab_type": "code",
    "id": "tFVge951PBOW"
   },
   "outputs": [],
   "source": [
    "txt_3 = 'Los textos se multiplican. '\n",
    "print(txt_3 * 2)"
   ]
  },
  {
   "cell_type": "code",
   "execution_count": null,
   "metadata": {
    "colab": {},
    "colab_type": "code",
    "id": "eowEHnQxPBOh",
    "outputId": "e7610cd8-9d67-4fa0-f442-eeeb7b2313b9"
   },
   "outputs": [],
   "source": [
    "b = 'Los textos'\n",
    "c = ' no se restan.'\n",
    "print(b - c)"
   ]
  },
  {
   "cell_type": "markdown",
   "metadata": {
    "colab_type": "text",
    "id": "IADvs1-uPBOm"
   },
   "source": [
    "**Nota**: No nos cansaremos de decirles que presten atención a los mensajes de error."
   ]
  },
  {
   "cell_type": "code",
   "execution_count": null,
   "metadata": {
    "colab": {},
    "colab_type": "code",
    "id": "14fD4pOGPBOn",
    "outputId": "d6afa2f0-6a69-46f4-e6aa-e073a2013ab2"
   },
   "outputs": [],
   "source": [
    "# Que pasa si queremos sumar un número al texto?\n",
    "b = 'Mi edad es '\n",
    "c = 28\n",
    "print(b + c)"
   ]
  },
  {
   "cell_type": "markdown",
   "metadata": {
    "colab_type": "text",
    "id": "AdySRkr3PBOp"
   },
   "source": [
    "El error nos dice que a los 'string' solo se le pueden concatenar otros 'strings' (no enteros). La manera correcta sería entonces:"
   ]
  },
  {
   "cell_type": "code",
   "execution_count": null,
   "metadata": {
    "colab": {},
    "colab_type": "code",
    "id": "zWPtmEdFPBOr",
    "outputId": "6c7445f2-8241-4582-8686-de2fb1d0be20"
   },
   "outputs": [],
   "source": [
    "# Que pasa si queremos sumar un número al texto?\n",
    "b = 'Mi edad es '\n",
    "c = 28\n",
    "print(b + str(c))"
   ]
  },
  {
   "cell_type": "markdown",
   "metadata": {
    "colab_type": "text",
    "id": "Cpb9WziZTUcO"
   },
   "source": [
    "**Ejercicio**: Armar la frase 'El gran gran gran gran gran castillo mide 50 metros.' a partir de operar con las siguientes variables (viene con trampita):"
   ]
  },
  {
   "cell_type": "code",
   "execution_count": null,
   "metadata": {
    "colab": {},
    "colab_type": "code",
    "id": "4K9QTbTMT8gE"
   },
   "outputs": [],
   "source": [
    "txt1 = 'gran '\n",
    "txt2 = 'El '\n",
    "tet3 = 'mide '\n",
    "txt4 = ' metros.'\n",
    "numero = 50\n",
    "\n",
    "frase = txt2 + 5*txt1 + 'castillo '+ tet3 + str(numero) + txt4\n",
    "print(frase)"
   ]
  },
  {
   "cell_type": "markdown",
   "metadata": {
    "colab_type": "text",
    "id": "tY9du3p-PBOt"
   },
   "source": [
    "#### 1.3.3 Operaciones Lógicas"
   ]
  },
  {
   "cell_type": "code",
   "execution_count": null,
   "metadata": {
    "colab": {},
    "colab_type": "code",
    "id": "mHPhaiiJPBOv",
    "outputId": "233add10-5ef8-4512-c53c-dcd73ba11a6e"
   },
   "outputs": [],
   "source": [
    "variable_1 = True\n",
    "variable_2 = False\n",
    "print(variable_1 or variable_2)"
   ]
  },
  {
   "cell_type": "code",
   "execution_count": null,
   "metadata": {
    "colab": {},
    "colab_type": "code",
    "id": "kv2eNRpePBOy",
    "outputId": "354f1f5a-3c36-48c3-865a-27c54046383f"
   },
   "outputs": [],
   "source": [
    "print(not(variable_1))"
   ]
  },
  {
   "cell_type": "code",
   "execution_count": null,
   "metadata": {
    "colab": {},
    "colab_type": "code",
    "id": "i9QxO0SgPBO3",
    "outputId": "ce1f57f7-67c9-46bc-8ced-59e1dd1c977e"
   },
   "outputs": [],
   "source": [
    "variable_3 = variable_1 and variable_2\n",
    "print(variable_3)"
   ]
  },
  {
   "cell_type": "markdown",
   "metadata": {
    "colab_type": "text",
    "id": "Rdo5rRsdPBO7"
   },
   "source": [
    "## 2. Listas, Loops y Condicionales\n",
    "\n",
    "### 2.1 Listas\n",
    "\n",
    "Son un objeto central en el lenguaje Python. Están compuestas por una sucesión de objetos en un orden determinado. Se definen mediante corchetes '[ ]', y los objetos dentro de ellas se separan por comas ','."
   ]
  },
  {
   "cell_type": "code",
   "execution_count": null,
   "metadata": {
    "colab": {},
    "colab_type": "code",
    "id": "vA9XBz5mPBO8",
    "outputId": "9f6e7292-2737-433a-903f-35fc1317acd5"
   },
   "outputs": [],
   "source": [
    "lista_1 = [42, 4.7, True, 'Texto']\n",
    "print(lista_1)"
   ]
  },
  {
   "cell_type": "code",
   "execution_count": null,
   "metadata": {
    "colab": {},
    "colab_type": "code",
    "id": "D4nWSXKSPBO_",
    "outputId": "ae4b4067-6bc3-4838-fa8a-1045d85cb4f3"
   },
   "outputs": [],
   "source": [
    "# Podemos inspeccionar el largo de una lista, o sea, su cantidad de elementos\n",
    "len(lista_1)"
   ]
  },
  {
   "cell_type": "markdown",
   "metadata": {
    "colab_type": "text",
    "id": "b0wCmLL2PBPC"
   },
   "source": [
    "Podemos inspeccionar elementos de una lista accediendo a una determinada posición de la misma. Los índices de las posiciones empiezan en 0, y se especifican poniendo corchetes con el índice dentro luego del nombre de la lista:"
   ]
  },
  {
   "cell_type": "code",
   "execution_count": null,
   "metadata": {
    "colab": {},
    "colab_type": "code",
    "id": "Jepw64oFPBPC",
    "outputId": "cbefee19-9905-4ffd-9c3b-954186550efc"
   },
   "outputs": [],
   "source": [
    "print(lista_1[0])\n",
    "print(type(lista_1[0]))"
   ]
  },
  {
   "cell_type": "code",
   "execution_count": null,
   "metadata": {
    "colab": {},
    "colab_type": "code",
    "id": "84_TXl15PBPE",
    "outputId": "1e122dc6-cf43-455e-f066-303039263dab"
   },
   "outputs": [],
   "source": [
    "print(lista_1[3])\n",
    "print(type(lista_1[3]))"
   ]
  },
  {
   "cell_type": "code",
   "execution_count": null,
   "metadata": {
    "colab": {},
    "colab_type": "code",
    "id": "E95aE3TaPBPH",
    "outputId": "616d0714-572a-4606-ddec-49c75cbb84ca"
   },
   "outputs": [],
   "source": [
    "print(lista_1[2])\n",
    "print(type(lista_1[2]))"
   ]
  },
  {
   "cell_type": "code",
   "execution_count": null,
   "metadata": {
    "colab": {},
    "colab_type": "code",
    "id": "mVfn1mYHPBPK",
    "outputId": "a0eb5ff1-1c52-43dc-ad97-2c3631e6a5d4"
   },
   "outputs": [],
   "source": [
    "# Tambien podemos selecciona una porción de lista\n",
    "#(ya veremos esto en detalle mas adelante)\n",
    "print(lista_1[0:3])"
   ]
  },
  {
   "cell_type": "code",
   "execution_count": null,
   "metadata": {
    "colab": {},
    "colab_type": "code",
    "id": "-nQ_FGfNPBPM",
    "outputId": "b56833bd-1b09-4858-da4d-b6619ee99ea3"
   },
   "outputs": [],
   "source": [
    "# Definimos una segunda lista\n",
    "lista_2 = [0, lista_1, 'Mas texto']\n",
    "print(lista_2)\n",
    "print(len(lista_2))"
   ]
  },
  {
   "cell_type": "markdown",
   "metadata": {
    "colab_type": "text",
    "id": "5YSBWt8tPBPP"
   },
   "source": [
    "Notemos que en esta segunda lista, agregamos dentro la primera. Toda la primer lista cuenta como un único elemento."
   ]
  },
  {
   "cell_type": "code",
   "execution_count": null,
   "metadata": {
    "colab": {},
    "colab_type": "code",
    "id": "3WYr5rJQPBPQ",
    "outputId": "1f451d1b-c84e-447e-9fe0-01aaaaea0117"
   },
   "outputs": [],
   "source": [
    "# Un elemento de la lista_2 es la lista_1\n",
    "print(lista_2[1])"
   ]
  },
  {
   "cell_type": "markdown",
   "metadata": {
    "colab_type": "text",
    "id": "ZbA1JYFxPBPR"
   },
   "source": [
    "Podemos crear listas vacias, e ir agregándole elementos con el método 'append()'"
   ]
  },
  {
   "cell_type": "code",
   "execution_count": null,
   "metadata": {
    "colab": {},
    "colab_type": "code",
    "id": "7VWvo-GwPBPT",
    "outputId": "81184949-719c-4423-b268-3d0119142496"
   },
   "outputs": [],
   "source": [
    "lista_vacia = []\n",
    "len(lista_vacia)"
   ]
  },
  {
   "cell_type": "code",
   "execution_count": null,
   "metadata": {
    "colab": {},
    "colab_type": "code",
    "id": "pmlQp8PEPBPV",
    "outputId": "714ee032-ef13-4be3-fa97-bd0728f2bd2b"
   },
   "outputs": [],
   "source": [
    "lista_vacia.append(42)\n",
    "lista_vacia.append('un segundo item')\n",
    "print(lista_vacia)\n",
    "print(len(lista_vacia))"
   ]
  },
  {
   "cell_type": "markdown",
   "metadata": {
    "colab_type": "text",
    "id": "sU-6LA63PBPX"
   },
   "source": [
    "Prueben qué pasa si corren nuevamente la celda anterior (justo arriba de esta)."
   ]
  },
  {
   "cell_type": "markdown",
   "metadata": {
    "colab_type": "text",
    "id": "EPJNCI0tUvsl"
   },
   "source": [
    "**Ejercicio**: Defina una lista vacia llamada 'lista_nueva' y agréguele (`append()`) los elementos a, b y c."
   ]
  },
  {
   "cell_type": "code",
   "execution_count": null,
   "metadata": {
    "colab": {},
    "colab_type": "code",
    "id": "jXs-Rkh6VF8K"
   },
   "outputs": [],
   "source": [
    "a = 8\n",
    "b = 'world'\n",
    "c = [12,24.5,66]\n",
    "\n",
    "lista_nueva = []\n",
    "lista_nueva.append(a)\n",
    "lista_nueva.append(b)\n",
    "lista_nueva.append(c)\n",
    "print(lista_nueva)"
   ]
  },
  {
   "cell_type": "markdown",
   "metadata": {},
   "source": [
    "**Detalle muy importante:** copiado de listas (que vale para listas, arreglos de Numpy y dataframes de Pandas)"
   ]
  },
  {
   "cell_type": "code",
   "execution_count": null,
   "metadata": {},
   "outputs": [],
   "source": [
    "lista_1 = [1,2,3,4]\n",
    "lista_2 = lista_1  #lista_2 ahora es igual a lista_1\n",
    "lista_2[-1] = 100 #el ultimo elemento de la lista ahora es 100, con -1 seleccionamos el ultimo elemento de la lista\n",
    "print(lista_1, lista_2)"
   ]
  },
  {
   "cell_type": "markdown",
   "metadata": {},
   "source": [
    "¡Se modificaron ambas listas!"
   ]
  },
  {
   "cell_type": "code",
   "execution_count": null,
   "metadata": {},
   "outputs": [],
   "source": [
    "lista_1 = [1,2,3,4]\n",
    "lista_2 = lista_1.copy()\n",
    "lista_2[-1] = 100\n",
    "print(lista_1, lista_2)"
   ]
  },
  {
   "cell_type": "markdown",
   "metadata": {},
   "source": [
    "Ahora no!"
   ]
  },
  {
   "cell_type": "markdown",
   "metadata": {
    "colab_type": "text",
    "id": "oGW0jo5hPBPZ"
   },
   "source": [
    "### 2.2 Loops\n",
    "Los **Loops** son estructuras de codigo fundamentales en cualquier lenguaje de programación. Son bloques de código que se repiten dada una cierta cantidad de veces dada una condición.\n",
    "\n",
    "#### 2.2.1 For\n",
    "El For es un loop en el que un bloque de código se repite tantas veces como elementos haya en una determinada lista. En cada iteración (repetición) hay una variable que va tomando el valor de uno de los elementos en esta lista."
   ]
  },
  {
   "cell_type": "code",
   "execution_count": null,
   "metadata": {
    "colab": {},
    "colab_type": "code",
    "id": "hZw979QmPBPa",
    "outputId": "a82be6a9-6bc5-460f-adb2-5ae397d44fac"
   },
   "outputs": [],
   "source": [
    "lista_numeros = [3,55,1,876,12]\n",
    "\n",
    "# Definimos el codigo dentro del for mediante la indentación\n",
    "# (Todo lo que este corrido un 'tab' a la derecha)\n",
    "for elemento in lista_numeros:\n",
    "    print(elemento)"
   ]
  },
  {
   "cell_type": "code",
   "execution_count": null,
   "metadata": {
    "colab": {},
    "colab_type": "code",
    "id": "kpqiAZb-PBPd",
    "outputId": "c8bf04a6-43cf-44f0-e8b6-4967cda78333"
   },
   "outputs": [],
   "source": [
    "# Repitamos los mismo que la celda anteriro\n",
    "# pero ahora agregemos una variable i \n",
    "# que cuente la cantidad de veces que ese corre el codigo \n",
    "\n",
    "lista_numeros = [3,55,1,876,12]\n",
    "\n",
    "# La iniciamos en cero\n",
    "i = 0\n",
    "\n",
    "for elemento in lista_numeros:\n",
    "    \n",
    "    # Le sumamos 1 cada vez que entra\n",
    "    i = i+1\n",
    "    print(elemento)"
   ]
  },
  {
   "cell_type": "code",
   "execution_count": null,
   "metadata": {
    "colab": {},
    "colab_type": "code",
    "id": "hsb4LLSdPBPh",
    "outputId": "d0bea540-8c45-4a71-d10a-bda1bec508df"
   },
   "outputs": [],
   "source": [
    "print(i)"
   ]
  },
  {
   "cell_type": "markdown",
   "metadata": {
    "colab_type": "text",
    "id": "Qbz2a3orPBPl"
   },
   "source": [
    "También podemos recorrer listas de texto. Presten atencion al siguiente codigo, e intenten precedir el resultado antes de correr la celda."
   ]
  },
  {
   "cell_type": "code",
   "execution_count": null,
   "metadata": {
    "colab": {},
    "colab_type": "code",
    "id": "z1jQ13uzPBPm",
    "outputId": "5e2a3a2a-f824-4512-d3a9-3e982f73a889"
   },
   "outputs": [],
   "source": [
    "lista_nombres = ['Ernesto', 'Camilo', 'Violeta']\n",
    "nueva_lista = []\n",
    "\n",
    "for item in lista_nombres:\n",
    "    oracion = 'Mi nombre es ' + item\n",
    "    nueva_lista.append(oracion)\n",
    "\n",
    "# Este print esta fuera del for, no está indentado\n",
    "print(nueva_lista)"
   ]
  },
  {
   "cell_type": "markdown",
   "metadata": {
    "colab_type": "text",
    "id": "565EnFNTVU3V"
   },
   "source": [
    "**Ejercicio**: Genere una lista llamada 'numerotes' que contenga el cuadrado de cada elemento en la lista 'numeritos'."
   ]
  },
  {
   "cell_type": "code",
   "execution_count": null,
   "metadata": {
    "colab": {},
    "colab_type": "code",
    "id": "YB0EcpVqV3hY"
   },
   "outputs": [],
   "source": [
    "numeritos = [3,1,5,7,12,10,17,4,22]\n",
    "\n",
    "numerotes = []\n",
    "\n",
    "for numero in numeritos:\n",
    "    numerotes.append(numero**2)\n",
    "    \n",
    "print(numerotes)"
   ]
  },
  {
   "cell_type": "markdown",
   "metadata": {
    "colab_type": "text",
    "id": "S8lTPAaiPBPo"
   },
   "source": [
    "\n",
    "#### 2.2.2 While\n",
    "El while repite un bloque de código mientras se cumpla una cierta condición que le ponemos. Para mayor claridad, pondremos la condición dentro de parentesis '()'."
   ]
  },
  {
   "cell_type": "code",
   "execution_count": null,
   "metadata": {
    "colab": {},
    "colab_type": "code",
    "id": "EFy5Woa-PBPp",
    "outputId": "4d89284f-3100-4930-ed5c-37f9c0d3a02b"
   },
   "outputs": [],
   "source": [
    "numero = 1\n",
    "\n",
    "while (numero < 5):\n",
    "    print(numero)\n",
    "    numero = numero + 1"
   ]
  },
  {
   "cell_type": "code",
   "execution_count": null,
   "metadata": {
    "colab": {},
    "colab_type": "code",
    "id": "ub1o-7-aPBPr",
    "outputId": "6b5b5c29-4b36-4991-983c-dbd1df229337"
   },
   "outputs": [],
   "source": [
    "# La condición debe ser una operación lógica y dar como resultado un booleano\n",
    "print(2 < 5)\n",
    "type(2 < 5)"
   ]
  },
  {
   "cell_type": "code",
   "execution_count": null,
   "metadata": {
    "colab": {},
    "colab_type": "code",
    "id": "CnqMdJlEPBPv",
    "outputId": "b268681a-f463-4640-f666-52c1866389eb"
   },
   "outputs": [],
   "source": [
    "print(5 < 5)\n",
    "type(5 < 5)"
   ]
  },
  {
   "cell_type": "markdown",
   "metadata": {
    "colab_type": "text",
    "id": "lbjDKBFTPBPy"
   },
   "source": [
    "**Ejercicio**: Decida si quiere ejecutar el siguiente bloque de código."
   ]
  },
  {
   "cell_type": "code",
   "execution_count": null,
   "metadata": {
    "colab": {},
    "colab_type": "code",
    "id": "11Yjx3U2PBPy",
    "outputId": "042ac6dc-4b36-4ae1-96c2-14c37bd62d9f"
   },
   "outputs": [],
   "source": [
    "numero = 1\n",
    "\n",
    "while (numero > 0):\n",
    "    numero = numero + 1"
   ]
  },
  {
   "cell_type": "markdown",
   "metadata": {
    "colab_type": "text",
    "id": "BdO41jDPPBP0"
   },
   "source": [
    "Si decidió ejecutarlo (o corrió la celda antes de leer la consigna), ¡felicitaciones, usted ha colgado por primera vez un programa! Pero como ya dijimos, hay que probar y equivocarse, nada es irreversible. Vaya a la solapa 'Kernel' del menú y seleccione 'Interrupt'. Lo que sucuede es que la condición del `while` será siempre cierta, por ende nuestro programa se quedará repitiendo el bloque de codigo dentro del loop indefinidamente. Puede averiguar cuantas iteraciones realizo la maquina inspeccionando la variable 'numero':"
   ]
  },
  {
   "cell_type": "code",
   "execution_count": null,
   "metadata": {
    "colab": {},
    "colab_type": "code",
    "id": "UGOMivAkPBP0"
   },
   "outputs": [],
   "source": [
    "print(numero)"
   ]
  },
  {
   "cell_type": "markdown",
   "metadata": {},
   "source": [
    "¡Notar qué rápido la computadora hace algunas operaciones!"
   ]
  },
  {
   "cell_type": "markdown",
   "metadata": {
    "colab_type": "text",
    "id": "oa016g7sPBP2"
   },
   "source": [
    "### 2.3 Condicionales\n",
    "Los condicionales son un bloque de codigo que se ejecuta solo en el caso que se cumpla una dada condición.\n",
    "\n",
    "### 2.3.1 If\n",
    "El condicional más simple es el `if`. Nuevamente para mayor claridad escribiremos la condicion entre parentesis (), aunque esto no es necesario."
   ]
  },
  {
   "cell_type": "code",
   "execution_count": null,
   "metadata": {
    "colab": {},
    "colab_type": "code",
    "id": "TYisVuiEPBP4"
   },
   "outputs": [],
   "source": [
    "valor = 15\n",
    "\n",
    "if (valor > 10):\n",
    "    print('El valor el mayo que 10')"
   ]
  },
  {
   "cell_type": "markdown",
   "metadata": {
    "colab_type": "text",
    "id": "-hz-IXpJPBP6"
   },
   "source": [
    "La condición que escribimos debe ser una operación lógica que da como resultado un booleano."
   ]
  },
  {
   "cell_type": "code",
   "execution_count": null,
   "metadata": {
    "colab": {},
    "colab_type": "code",
    "id": "BCXXXwRMPBP7",
    "outputId": "bb39079d-bbb5-41fd-c147-2a9b0fab4dda"
   },
   "outputs": [],
   "source": [
    "print(15 > 10)"
   ]
  },
  {
   "cell_type": "code",
   "execution_count": null,
   "metadata": {
    "colab": {},
    "colab_type": "code",
    "id": "PshNhscXPBP9",
    "outputId": "4c59549e-0e64-4ff9-c381-bacbdbb1d58c"
   },
   "outputs": [],
   "source": [
    "print(type(15 > 10))"
   ]
  },
  {
   "cell_type": "markdown",
   "metadata": {
    "colab_type": "text",
    "id": "zaIO1UwlPBP_"
   },
   "source": [
    "### 2.3.2 If, Else\n",
    "A este condicional se le peude agregar otro bloque de codigo que se ejecute si la condición exigida NO se cuemple. Esto se logra mediante la expresión 'else'."
   ]
  },
  {
   "cell_type": "code",
   "execution_count": null,
   "metadata": {
    "colab": {},
    "colab_type": "code",
    "id": "Hf8xuG6iPBP_",
    "outputId": "648aeb46-8db8-4669-d339-68d15dd47413"
   },
   "outputs": [],
   "source": [
    "nombre = 'Pedro'\n",
    "\n",
    "if (nombre == 'Juan'):\n",
    "    print('Esta persona se llama Juan')\n",
    "else:\n",
    "    print('Esta persona NO se llama Juan')"
   ]
  },
  {
   "cell_type": "code",
   "execution_count": null,
   "metadata": {
    "colab": {},
    "colab_type": "code",
    "id": "GVfCLIQyPBQB",
    "outputId": "4adefa9e-a63d-4f36-8ce8-300987c706d1"
   },
   "outputs": [],
   "source": [
    "'Juan'=='Pedro'"
   ]
  },
  {
   "cell_type": "markdown",
   "metadata": {
    "colab_type": "text",
    "id": "1AJNWoqhPBQJ"
   },
   "source": [
    "### 2.3.3 If, Elif, Else\n",
    "A esta estructura se le pueden sumar tantas condiciones encadenadas como uno desee, mediante la expresión `elif`. El orden en que se van chequeando las condiciones depende de su posición, priemero se chequea el `if`, luego el primer `elif`, luego el segundo, y así sucesivamente."
   ]
  },
  {
   "cell_type": "code",
   "execution_count": null,
   "metadata": {
    "colab": {},
    "colab_type": "code",
    "id": "psA9onaFPBQL",
    "outputId": "6ea15df0-f8cd-4bf0-f932-5f706e18ffa0"
   },
   "outputs": [],
   "source": [
    "edad = 20\n",
    "\n",
    "if (edad < 18):\n",
    "    print('Esta persona tiene menos de 18 años')\n",
    "elif (edad > 18):\n",
    "    print('Esta persona tiene mas de 18 años')\n",
    "else:\n",
    "    print('Esta persona tiene justo 18 años')"
   ]
  },
  {
   "cell_type": "markdown",
   "metadata": {
    "colab_type": "text",
    "id": "ZHXdIEkSW6wa"
   },
   "source": [
    "**Ejercicio**: Escriba un bloque de código que, dado un número, imprima la frase 'El numero es par' si el número es par o la frase 'El numero es impar' si no lo es."
   ]
  },
  {
   "cell_type": "code",
   "execution_count": null,
   "metadata": {
    "colab": {},
    "colab_type": "code",
    "id": "7uWbEw9BYAL4"
   },
   "outputs": [],
   "source": [
    "numero = 17\n",
    "\n",
    "if numero%2==0:\n",
    "    print('Es par')\n",
    "else:\n",
    "    print('Es impar')"
   ]
  },
  {
   "cell_type": "markdown",
   "metadata": {
    "colab_type": "text",
    "id": "qecxWClXPBQM"
   },
   "source": [
    "### 2.4 Combinando estructuras de código\n",
    "Las estructuras de loops y condicionales que aprendimos se pueden combinar para generar comportamientos más complejos."
   ]
  },
  {
   "cell_type": "code",
   "execution_count": null,
   "metadata": {
    "colab": {},
    "colab_type": "code",
    "id": "69DHgsOjPBQN",
    "outputId": "deb7b751-5678-47ff-9949-3b5712256120"
   },
   "outputs": [],
   "source": [
    "lista_de_edades = [4,20,15,29,11,42,10,18]\n",
    "lista_mayores = []\n",
    "\n",
    "# Queremos armar una lista solo con las edades mayores o iguales a 18\n",
    "for edad in lista_de_edades:\n",
    "    if (edad >= 18):\n",
    "        # Agremos a la lista de mayores\n",
    "        lista_mayores.append(edad)\n",
    "\n",
    "print(lista_mayores)"
   ]
  },
  {
   "cell_type": "markdown",
   "metadata": {
    "colab_type": "text",
    "id": "ztSrrW-jPBQQ"
   },
   "source": [
    "## Ejercicios integradores y de repaso\n",
    "\n",
    "A continuación dejamos muchos ejercicios. ¡No se preocupen si no pueden hacer todos!\n",
    "\n",
    "**Ejercicio**: ¿Qué es un *float*?¿Qué operaciones se pueden hacer con ellos?"
   ]
  },
  {
   "cell_type": "markdown",
   "metadata": {},
   "source": [
    "**Ejercicio**: ¿Qué es un *string*?¿Qué operaciones se pueden hacer con ellos? Escribir algunos ejemplos."
   ]
  },
  {
   "cell_type": "code",
   "execution_count": null,
   "metadata": {},
   "outputs": [],
   "source": [
    "'a' + ' b'"
   ]
  },
  {
   "cell_type": "markdown",
   "metadata": {},
   "source": [
    "**Ejercicio**: \n",
    "* ¿cuáles son las operaciones con booleanos básicas? Pistas: and, or.\n",
    "* ¿Qué pasa si sumás, restás, multiplicás o dividís booleanos?"
   ]
  },
  {
   "cell_type": "markdown",
   "metadata": {},
   "source": [
    "Operaciones Booleanas Básicas"
   ]
  },
  {
   "cell_type": "code",
   "execution_count": null,
   "metadata": {},
   "outputs": [],
   "source": [
    "print(True and True, True and False, False and False)\n",
    "print(True or True, True or False, False or False)"
   ]
  },
  {
   "cell_type": "markdown",
   "metadata": {},
   "source": [
    "**Ejercicio**: Hacer una declaración if/else que compare dos variables y que decida cuál es mayor."
   ]
  },
  {
   "cell_type": "code",
   "execution_count": null,
   "metadata": {},
   "outputs": [],
   "source": [
    "A = 3\n",
    "B = 4\n",
    "if A>B :\n",
    "    print('A es mayor a B' )\n",
    "else:\n",
    "    print('B es mayor a A')"
   ]
  },
  {
   "cell_type": "markdown",
   "metadata": {},
   "source": [
    "**Ejercicio**: Dada la siguiente lista de numeros:"
   ]
  },
  {
   "cell_type": "code",
   "execution_count": null,
   "metadata": {
    "colab": {},
    "colab_type": "code",
    "id": "nixTh2uwPBQQ",
    "outputId": "e672c504-2e87-4152-81ce-c628698ef2f0"
   },
   "outputs": [],
   "source": [
    "numeros_en_texto = ['2', '3', '2', '3', '2', '2', '2', '2', '3', '2', '3', '1', '3', '1', '2', '2', '2', '2', '2', '2', '2', '2', '1', '2', '3', '2', '2', '2', '2', '1', '2', '3', '2', '2', '3', '2', '3', '3', '2', '2', '1', '3', '3', '2', '3', '2', '2', '1', '2', '1', '1', '2', '2', '3', '2', '2', '2', '3', '2', '2', '2', '1', '2', '2', '3', '2', '2', '2', '2', '1', '2', '2', '2', '2', '3', '1', '2', '3', '3', '2', '3', '2', '2', '3', '3', '1', '1', '3', '2', '1', '2', '2', '2', '1', '1', '2', '2', '2', '2', '2', '2', '2', '3', '3', '1', '3', '3', '3', '2', '2', '2', '2', '2', '2', '2', '3', '3', '2', '2', '3', '2', '2', '2', '2', '2', '3', '3', '2', '2', '1', '3', '2', '2', '2', '3', '2', '3', '1', '3', '3', '2', '3', '3', '2', '2', '2', '2', '2', '2', '1', '2', '2', '1', '2', '3', '2', '1', '3', '1', '2', '3', '3', '3', '2', '3', '1', '3', '2', '3', '1', '2', '2', '2', '3', '3', '2', '2', '2', '2', '2', '3', '1', '2', '3', '3', '2', '2', '3', '2', '2', '2', '3', '2', '2', '2', '2', '1', '2', '3', '1', '3', '2', '2', '3', '3', '3', '2', '2', '1', '1']\n",
    "print(numeros_en_texto)"
   ]
  },
  {
   "cell_type": "markdown",
   "metadata": {
    "colab_type": "text",
    "id": "XLWP4dKfPBQS"
   },
   "source": [
    "Calcule la suma de los unos (1) y los tres (3) en esta lista. Hay muchas formas de hacerlo, si encuentra más de una, mejor. El resultado es 210."
   ]
  },
  {
   "cell_type": "code",
   "execution_count": null,
   "metadata": {},
   "outputs": [],
   "source": [
    "suma = 0\n",
    "for numero in numeros_en_texto:\n",
    "    if int(numero) == 1:\n",
    "        suma+=1\n",
    "    elif int(numero) == 3:\n",
    "        suma +=3\n",
    "\n",
    "print(suma)"
   ]
  },
  {
   "cell_type": "markdown",
   "metadata": {},
   "source": [
    "**Ejercicio**: \n",
    "* Hacer un for loop que le sume uno a todos los elementos de la lista A = [0,1,2,3,4] y lo imprima.\n",
    "* Hacer un for loop que le sume uno a todos los elementos de la lista A = [0,1,2,3,4] y lo guarde en una lista nueva B. Googlear: append.\n",
    "* ¿Qué hace el comando *range*?"
   ]
  },
  {
   "cell_type": "code",
   "execution_count": null,
   "metadata": {},
   "outputs": [],
   "source": [
    "# Hacer un for loop que le sume uno a todos los elementos de la lista A = [0,1,2,3,4] y lo imprima.\n",
    "A = [0,1,2,3,4]\n",
    "for elemento in A:\n",
    "    print(elemento + 1)"
   ]
  },
  {
   "cell_type": "code",
   "execution_count": null,
   "metadata": {},
   "outputs": [],
   "source": [
    "# Hacer un for loop que le sume uno a todos los elementos de la lista A = [0,1,2,3,4] y lo guarde en una lista nueva B. Googlear: append.\n",
    "A = [0,1,2,3,4]\n",
    "B = []\n",
    "for elemento in A:\n",
    "    B.append(elemento + 1)\n",
    "print(A, B)"
   ]
  },
  {
   "cell_type": "code",
   "execution_count": null,
   "metadata": {},
   "outputs": [],
   "source": [
    "# ¿Qué hace el comando *range*?\n",
    "print(range(6))\n",
    "print(list(range(6)))"
   ]
  },
  {
   "cell_type": "code",
   "execution_count": null,
   "metadata": {},
   "outputs": [],
   "source": [
    "for i in range(6):\n",
    "    print(i)"
   ]
  },
  {
   "cell_type": "markdown",
   "metadata": {},
   "source": [
    "**Ejercicio**: Escribir una rutina que imprima aquellos elementos de la lista *a* que son menores que 10.\n",
    "Pistas: *for*, *if*"
   ]
  },
  {
   "cell_type": "code",
   "execution_count": null,
   "metadata": {},
   "outputs": [],
   "source": [
    "a = [1, 1, 2, 3, 5, 8, 8, 13, 21, 34, 34, 55, 89]\n",
    "for i in a:\n",
    "    if i <10:\n",
    "        print(i)"
   ]
  },
  {
   "cell_type": "markdown",
   "metadata": {},
   "source": [
    "**Extras**: en lugar de imprimir los elementos de a uno, armar una nueva lista con aquellos elementos que sean menores a 10. ¿Cómo filtran elementos repetidos?"
   ]
  },
  {
   "cell_type": "code",
   "execution_count": null,
   "metadata": {},
   "outputs": [],
   "source": [
    "a = [1, 1, 2, 3, 5, 8, 8, 13, 21, 34, 34, 55, 89]\n",
    "\n",
    "# DOS OPCIONES\n",
    "# Primera: mirando si el elemento a agregar ya esta en b\n",
    "b = []\n",
    "for i in a:\n",
    "    if i <10:\n",
    "        if i not in b:\n",
    "            b.append(i)\n",
    "print(b)\n",
    "\n",
    "# Segunda: filtrando despues\n",
    "b = []\n",
    "for i in a:\n",
    "    if i <10:\n",
    "        b.append(i)\n",
    "b = list(set(b))  ## GOOGLEAR QUE ES UN SET\n",
    "print(b)"
   ]
  },
  {
   "cell_type": "markdown",
   "metadata": {},
   "source": [
    "**Ejercicio**: dadas dos listas *a* y *b*, armar una lista con:\n",
    "* Con todos los elementos de *a* y *b*\n",
    "* Con todos los elementos de *a* y *b*, ordenados de menor a mayor\n",
    "* Con todos los elementos de *a* y *b*, ordenados de mayor a menor\n",
    "* Con todos los elementos de *a* y *b*, ordenados de menor a mayor y sin elementos repetidos\n",
    "* Con todos los elementos que están en ambas listas\n",
    "* Con todos los elementos que NO están en ambas listas"
   ]
  },
  {
   "cell_type": "code",
   "execution_count": null,
   "metadata": {},
   "outputs": [],
   "source": [
    "a = [12,3,5,12,8,9,25,12,1,3,4,5,17,15]\n",
    "b = [3,5,7,8,45,8,9,16,1,11,30,41,2,3,15,1,29,22]"
   ]
  },
  {
   "cell_type": "markdown",
   "metadata": {},
   "source": [
    "¡**NO hay una única forma de hacerlos**!"
   ]
  },
  {
   "cell_type": "code",
   "execution_count": null,
   "metadata": {},
   "outputs": [],
   "source": [
    "# Con todos los elementos de a* y *b\n",
    "todos = a + b \n",
    "print(todos)"
   ]
  },
  {
   "cell_type": "code",
   "execution_count": null,
   "metadata": {},
   "outputs": [],
   "source": [
    "# Con todos los elementos de *a* y *b*, ordenados de menor a mayor\n",
    "todos = a + b \n",
    "todos.sort() #ordena\n",
    "print(todos)"
   ]
  },
  {
   "cell_type": "code",
   "execution_count": null,
   "metadata": {},
   "outputs": [],
   "source": [
    "# Con todos los elementos de *a* y *b*, ordenados de mayor a menor\n",
    "todos = a + b \n",
    "todos.sort(reverse = True)\n",
    "print(todos)"
   ]
  },
  {
   "cell_type": "code",
   "execution_count": null,
   "metadata": {},
   "outputs": [],
   "source": [
    "# Con todos los elementos de *a* y *b*, ordenados de menor a mayor y sin elementos repetidos\n",
    "todos = a + b \n",
    "todos = list(set(todos))\n",
    "todos.sort()\n",
    "print(todos)"
   ]
  },
  {
   "cell_type": "code",
   "execution_count": null,
   "metadata": {},
   "outputs": [],
   "source": [
    "# Con todos los elementos que están en ambas listas\n",
    "todos_ambas = []\n",
    "for elemento in a + b:\n",
    "    if elemento in a and elemento in b:\n",
    "        todos_ambas.append(elemento)\n",
    "\n",
    "## ESTO NO LO PIDE PERO ES MAS FACIL PARA VISUALIZAR\n",
    "print(list(set(a)))\n",
    "print(list(set(b)))\n",
    "print(list(set(todos_ambas)))"
   ]
  },
  {
   "cell_type": "code",
   "execution_count": null,
   "metadata": {},
   "outputs": [],
   "source": [
    "# Con todos los elementos que NO están en ambas listas\n",
    "\n",
    "## TAREA!"
   ]
  },
  {
   "cell_type": "markdown",
   "metadata": {},
   "source": [
    "**Ejercicio**: Para googlear:\n",
    "* ¿Qué es un diccionario? Escribir un ejemplo en una celda."
   ]
  },
  {
   "cell_type": "markdown",
   "metadata": {},
   "source": [
    "**Diccionarios**"
   ]
  },
  {
   "cell_type": "code",
   "execution_count": null,
   "metadata": {},
   "outputs": [],
   "source": [
    "# Diccionario\n",
    "diccionario = {'Key 1': 12, 'Key 2': [1,2,3,4], 'Key 3': 'Puede ser un string'}\n",
    "print(diccionario)\n",
    "print(diccionario.keys())\n",
    "print(diccionario.values())"
   ]
  },
  {
   "cell_type": "code",
   "execution_count": null,
   "metadata": {},
   "outputs": [],
   "source": [
    "diccionario['Key 1']"
   ]
  },
  {
   "cell_type": "code",
   "execution_count": null,
   "metadata": {},
   "outputs": [],
   "source": [
    "# Los keys no necesariamente tienen que ser strings\n",
    "diccionario = {1: 12, 2: [1,2,3,4], 3: 'Puede ser un string'}\n",
    "print(diccionario)\n",
    "print(diccionario.keys())\n",
    "print(diccionario.values())"
   ]
  },
  {
   "cell_type": "code",
   "execution_count": null,
   "metadata": {},
   "outputs": [],
   "source": [
    "diccionario[2]"
   ]
  }
 ],
 "metadata": {
  "kernelspec": {
   "display_name": "Python 3",
   "language": "python",
   "name": "python3"
  },
  "language_info": {
   "codemirror_mode": {
    "name": "ipython",
    "version": 3
   },
   "file_extension": ".py",
   "mimetype": "text/x-python",
   "name": "python",
   "nbconvert_exporter": "python",
   "pygments_lexer": "ipython3",
   "version": "3.7.4"
  }
 },
 "nbformat": 4,
 "nbformat_minor": 4
}
