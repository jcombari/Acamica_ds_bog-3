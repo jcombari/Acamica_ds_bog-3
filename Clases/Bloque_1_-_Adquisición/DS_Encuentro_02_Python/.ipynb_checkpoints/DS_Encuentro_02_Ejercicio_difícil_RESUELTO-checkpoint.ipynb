{
 "cells": [
  {
   "cell_type": "markdown",
   "metadata": {},
   "source": [
    "## Ejercicio integrador"
   ]
  },
  {
   "cell_type": "markdown",
   "metadata": {},
   "source": [
    "Lanzamos un conjunto de $N$ dardos sobre un tablero circular de radio $r = 0.5$ metros. El tablero está perfectamente contenido en un cuadrado de lado $l = 2r$. Como tenemos muy mala puntería, los dardos se distribuyen al azar sobre el tablero y el cuadrado que lo contiene. Notar que la probabilidad de que un dardo caiga en el tablero es proporcional al área del tablero divido el area total del cuadrado. Si llamamos $N_{tablero}$ a los dardos que caen en el tablero, tenemos que\n",
    "\n",
    "$\\frac{N_{tablero}}{N} \\approx \\frac{A_{tablero}}{A_{cuadrado}}$\n",
    "\n",
    "Reemplazando en las fórmulas anterior por el área de un círculo con $r = 0.5$ y un cuadrado de lado $l = 1$, obtenemos que\n",
    "\n",
    "$\\frac{N_{tablero}}{N} \\approx \\frac{\\pi}{4}$\n",
    "\n",
    "**Fórmulas útiles**\n",
    "1. Área del cuadrado: $l^2$\n",
    "2. Área del círculo: $\\pi r^2$\n",
    "3. Un punto de coordenadas $(x,y)$ está dentro de un círculo de centro $(x_0,y_0)$ y radio $r$ si se cumple la relacion $(x - x_0)^2 + (y - y_0)^2 < r^2$\n",
    "\n",
    "**CONSIGNA**: \n",
    "1. Implementar una rutina que calcule $\\pi$ mediante este método. Es decir, simulando que tiramos dardos al azar sobre un tablero redondo de radio $r = 0.5$ contenido en un cuadrado de lado $l = 1$\n",
    "2. Hacer un gráfico representativo del tablero, el cuadrado y de los dardos lanzados.\n",
    "3. Hacer un gráfico del error en la estimación de $\\pi$ a medida que aumenta el número de dardos lanzados. Para googlear: ¿qué es un gráfico en escala logarítmica y cómo lo podemos hacer con matplotlib?"
   ]
  },
  {
   "cell_type": "markdown",
   "metadata": {},
   "source": [
    "**Pistas para la implementación**\n",
    "\n",
    "1. Cada dardo tiene una coordenada horizontal $x$ y vertical $y$ en el cuadrado. ¿Cómo generarían coordenadas de dardos al azar?¿Qué es una distribución uniforme?\n",
    "2. Dada una coordenada $x,y$ de un dardo, ¿cómo decidirían si el dardo está dentro o fuera del círculo?\n",
    "3. No hay una única forma de implementar el problema. Pero, si su implementación tiene muchos *for* loops, ¿hay una forma de optimizarla?\n",
    "4. Por último: googlear!\n",
    "\n",
    "\n",
    "Para una explicación más entretenida de lo que está pasando, pueden ver este [video](https://www.youtube.com/watch?v=M34TO71SKGk):"
   ]
  },
  {
   "cell_type": "code",
   "execution_count": 1,
   "metadata": {},
   "outputs": [],
   "source": [
    "import numpy as np"
   ]
  },
  {
   "cell_type": "markdown",
   "metadata": {},
   "source": [
    "Generamos las tiradas de los dardos"
   ]
  },
  {
   "cell_type": "code",
   "execution_count": 2,
   "metadata": {},
   "outputs": [
    {
     "name": "stdout",
     "output_type": "stream",
     "text": [
      "(100000, 2)\n"
     ]
    }
   ],
   "source": [
    "N = 100000\n",
    "coor = np.random.rand(N,2)\n",
    "print(coor.shape)"
   ]
  },
  {
   "cell_type": "markdown",
   "metadata": {},
   "source": [
    "Seleccionamos aquellos que caen dentro del círculo"
   ]
  },
  {
   "cell_type": "code",
   "execution_count": 3,
   "metadata": {},
   "outputs": [],
   "source": [
    "adentro = np.sqrt((coor[:,0] - 0.5)**2 + (coor[:,1] - 0.5)**2) < 0.5"
   ]
  },
  {
   "cell_type": "markdown",
   "metadata": {},
   "source": [
    "Contamos cuántos caen adentro del círculo y despejamos para obtener $\\pi$"
   ]
  },
  {
   "cell_type": "code",
   "execution_count": 4,
   "metadata": {},
   "outputs": [
    {
     "data": {
      "text/plain": [
       "3.13932"
      ]
     },
     "execution_count": 4,
     "metadata": {},
     "output_type": "execute_result"
    }
   ],
   "source": [
    "4*adentro.sum()/N"
   ]
  }
 ],
 "metadata": {
  "kernelspec": {
   "display_name": "Python 3",
   "language": "python",
   "name": "python3"
  },
  "language_info": {
   "codemirror_mode": {
    "name": "ipython",
    "version": 3
   },
   "file_extension": ".py",
   "mimetype": "text/x-python",
   "name": "python",
   "nbconvert_exporter": "python",
   "pygments_lexer": "ipython3",
   "version": "3.7.4"
  }
 },
 "nbformat": 4,
 "nbformat_minor": 4
}
