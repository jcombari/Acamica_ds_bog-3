{
 "cells": [
  {
   "cell_type": "markdown",
   "metadata": {},
   "source": [
    "# IBM Watson\n",
    "\n",
    "Paso 0: Configurar Watson (instalar librerías, armar usuario y conseguir los permisos necesarios)."
   ]
  },
  {
   "cell_type": "code",
   "execution_count": 1,
   "metadata": {
    "jupyter": {
     "outputs_hidden": true
    }
   },
   "outputs": [
    {
     "name": "stdout",
     "output_type": "stream",
     "text": [
      "Requirement already up-to-date: ibm-watson>=4.4.0 in c:\\users\\nereida.combariza\\.conda\\envs\\watson2\\lib\\site-packages (4.4.1)\n",
      "Requirement already satisfied, skipping upgrade: requests<3.0,>=2.0 in c:\\users\\nereida.combariza\\.conda\\envs\\watson2\\lib\\site-packages (from ibm-watson>=4.4.0) (2.22.0)\n",
      "Requirement already satisfied, skipping upgrade: python-dateutil>=2.5.3 in c:\\users\\nereida.combariza\\.conda\\envs\\watson2\\lib\\site-packages (from ibm-watson>=4.4.0) (2.8.0)\n",
      "Requirement already satisfied, skipping upgrade: websocket-client==0.48.0 in c:\\users\\nereida.combariza\\.conda\\envs\\watson2\\lib\\site-packages (from ibm-watson>=4.4.0) (0.48.0)\n",
      "Requirement already satisfied, skipping upgrade: ibm-cloud-sdk-core==1.5.1 in c:\\users\\nereida.combariza\\.conda\\envs\\watson2\\lib\\site-packages (from ibm-watson>=4.4.0) (1.5.1)\n",
      "Requirement already satisfied, skipping upgrade: certifi>=2017.4.17 in c:\\users\\nereida.combariza\\.conda\\envs\\watson2\\lib\\site-packages (from requests<3.0,>=2.0->ibm-watson>=4.4.0) (2019.9.11)\n",
      "Requirement already satisfied, skipping upgrade: idna<2.9,>=2.5 in c:\\users\\nereida.combariza\\.conda\\envs\\watson2\\lib\\site-packages (from requests<3.0,>=2.0->ibm-watson>=4.4.0) (2.8)\n",
      "Requirement already satisfied, skipping upgrade: urllib3!=1.25.0,!=1.25.1,<1.26,>=1.21.1 in c:\\users\\nereida.combariza\\.conda\\envs\\watson2\\lib\\site-packages (from requests<3.0,>=2.0->ibm-watson>=4.4.0) (1.23)\n",
      "Requirement already satisfied, skipping upgrade: chardet<3.1.0,>=3.0.2 in c:\\users\\nereida.combariza\\.conda\\envs\\watson2\\lib\\site-packages (from requests<3.0,>=2.0->ibm-watson>=4.4.0) (3.0.4)\n",
      "Requirement already satisfied, skipping upgrade: six>=1.5 in c:\\users\\nereida.combariza\\.conda\\envs\\watson2\\lib\\site-packages (from python-dateutil>=2.5.3->ibm-watson>=4.4.0) (1.12.0)\n",
      "Requirement already satisfied, skipping upgrade: PyJWT>=1.7.1 in c:\\users\\nereida.combariza\\.conda\\envs\\watson2\\lib\\site-packages (from ibm-cloud-sdk-core==1.5.1->ibm-watson>=4.4.0) (1.7.1)\n"
     ]
    }
   ],
   "source": [
    "!pip install --upgrade \"ibm-watson>=4.4.0\""
   ]
  },
  {
   "cell_type": "code",
   "execution_count": 2,
   "metadata": {
    "jupyter": {
     "outputs_hidden": true
    },
    "scrolled": true
   },
   "outputs": [
    {
     "name": "stdout",
     "output_type": "stream",
     "text": [
      "Requirement already up-to-date: watson-developer-cloud in c:\\users\\nereida.combariza\\.conda\\envs\\watson2\\lib\\site-packages (2.10.1)\n",
      "Requirement already satisfied, skipping upgrade: requests<3.0,>=2.0 in c:\\users\\nereida.combariza\\.conda\\envs\\watson2\\lib\\site-packages (from watson-developer-cloud) (2.22.0)\n",
      "Requirement already satisfied, skipping upgrade: websocket-client==0.48.0 in c:\\users\\nereida.combariza\\.conda\\envs\\watson2\\lib\\site-packages (from watson-developer-cloud) (0.48.0)\n",
      "Requirement already satisfied, skipping upgrade: python-dateutil>=2.5.3 in c:\\users\\nereida.combariza\\.conda\\envs\\watson2\\lib\\site-packages (from watson-developer-cloud) (2.8.0)\n",
      "Requirement already satisfied, skipping upgrade: urllib3!=1.25.0,!=1.25.1,<1.26,>=1.21.1 in c:\\users\\nereida.combariza\\.conda\\envs\\watson2\\lib\\site-packages (from requests<3.0,>=2.0->watson-developer-cloud) (1.23)\n",
      "Requirement already satisfied, skipping upgrade: idna<2.9,>=2.5 in c:\\users\\nereida.combariza\\.conda\\envs\\watson2\\lib\\site-packages (from requests<3.0,>=2.0->watson-developer-cloud) (2.8)\n",
      "Requirement already satisfied, skipping upgrade: chardet<3.1.0,>=3.0.2 in c:\\users\\nereida.combariza\\.conda\\envs\\watson2\\lib\\site-packages (from requests<3.0,>=2.0->watson-developer-cloud) (3.0.4)\n",
      "Requirement already satisfied, skipping upgrade: certifi>=2017.4.17 in c:\\users\\nereida.combariza\\.conda\\envs\\watson2\\lib\\site-packages (from requests<3.0,>=2.0->watson-developer-cloud) (2019.9.11)\n",
      "Requirement already satisfied, skipping upgrade: six in c:\\users\\nereida.combariza\\.conda\\envs\\watson2\\lib\\site-packages (from websocket-client==0.48.0->watson-developer-cloud) (1.12.0)\n",
      "Requirement already up-to-date: watson-machine-learning-client in c:\\users\\nereida.combariza\\.conda\\envs\\watson2\\lib\\site-packages (1.0.378)\n",
      "Requirement already satisfied, skipping upgrade: urllib3 in c:\\users\\nereida.combariza\\.conda\\envs\\watson2\\lib\\site-packages (from watson-machine-learning-client) (1.23)\n",
      "Requirement already satisfied, skipping upgrade: requests in c:\\users\\nereida.combariza\\.conda\\envs\\watson2\\lib\\site-packages (from watson-machine-learning-client) (2.22.0)\n",
      "Requirement already satisfied, skipping upgrade: tabulate in c:\\users\\nereida.combariza\\.conda\\envs\\watson2\\lib\\site-packages (from watson-machine-learning-client) (0.8.5)\n",
      "Requirement already satisfied, skipping upgrade: lomond in c:\\users\\nereida.combariza\\.conda\\envs\\watson2\\lib\\site-packages (from watson-machine-learning-client) (0.3.3)\n",
      "Requirement already satisfied, skipping upgrade: ibm-cos-sdk in c:\\users\\nereida.combariza\\.conda\\envs\\watson2\\lib\\site-packages (from watson-machine-learning-client) (2.5.4)\n",
      "Requirement already satisfied, skipping upgrade: tqdm in c:\\users\\nereida.combariza\\.conda\\envs\\watson2\\lib\\site-packages (from watson-machine-learning-client) (4.36.1)\n",
      "Requirement already satisfied, skipping upgrade: pandas in c:\\users\\nereida.combariza\\.conda\\envs\\watson2\\lib\\site-packages (from watson-machine-learning-client) (0.25.1)\n",
      "Requirement already satisfied, skipping upgrade: certifi in c:\\users\\nereida.combariza\\.conda\\envs\\watson2\\lib\\site-packages (from watson-machine-learning-client) (2019.9.11)\n",
      "Requirement already satisfied, skipping upgrade: chardet<3.1.0,>=3.0.2 in c:\\users\\nereida.combariza\\.conda\\envs\\watson2\\lib\\site-packages (from requests->watson-machine-learning-client) (3.0.4)\n",
      "Requirement already satisfied, skipping upgrade: idna<2.9,>=2.5 in c:\\users\\nereida.combariza\\.conda\\envs\\watson2\\lib\\site-packages (from requests->watson-machine-learning-client) (2.8)\n",
      "Requirement already satisfied, skipping upgrade: six>=1.10.0 in c:\\users\\nereida.combariza\\.conda\\envs\\watson2\\lib\\site-packages (from lomond->watson-machine-learning-client) (1.12.0)\n",
      "Requirement already satisfied, skipping upgrade: jmespath<1.0.0,>=0.7.1 in c:\\users\\nereida.combariza\\.conda\\envs\\watson2\\lib\\site-packages (from ibm-cos-sdk->watson-machine-learning-client) (0.9.4)\n",
      "Requirement already satisfied, skipping upgrade: ibm-cos-sdk-s3transfer>=2.0.0 in c:\\users\\nereida.combariza\\.conda\\envs\\watson2\\lib\\site-packages (from ibm-cos-sdk->watson-machine-learning-client) (2.5.4)\n",
      "Requirement already satisfied, skipping upgrade: ibm-cos-sdk-core>=2.0.0 in c:\\users\\nereida.combariza\\.conda\\envs\\watson2\\lib\\site-packages (from ibm-cos-sdk->watson-machine-learning-client) (2.5.4)\n",
      "Requirement already satisfied, skipping upgrade: numpy>=1.13.3 in c:\\users\\nereida.combariza\\.conda\\envs\\watson2\\lib\\site-packages (from pandas->watson-machine-learning-client) (1.17.2)\n",
      "Requirement already satisfied, skipping upgrade: pytz>=2017.2 in c:\\users\\nereida.combariza\\.conda\\envs\\watson2\\lib\\site-packages (from pandas->watson-machine-learning-client) (2019.2)\n",
      "Requirement already satisfied, skipping upgrade: python-dateutil>=2.6.1 in c:\\users\\nereida.combariza\\.conda\\envs\\watson2\\lib\\site-packages (from pandas->watson-machine-learning-client) (2.8.0)\n",
      "Requirement already satisfied, skipping upgrade: docutils<0.16,>=0.10 in c:\\users\\nereida.combariza\\.conda\\envs\\watson2\\lib\\site-packages (from ibm-cos-sdk-core>=2.0.0->ibm-cos-sdk->watson-machine-learning-client) (0.15.2)\n"
     ]
    }
   ],
   "source": [
    "!pip install --upgrade watson-developer-cloud\n",
    "!pip install --upgrade watson-machine-learning-client"
   ]
  },
  {
   "cell_type": "markdown",
   "metadata": {},
   "source": [
    "### Configurando la API de watson\n",
    "En este paso van a precisar usar el api_key que se generan en la página de IBM "
   ]
  },
  {
   "cell_type": "markdown",
   "metadata": {},
   "source": [
    "Revisar  el vídeo https://www.acamica.com/clases/10669//machine-learning-resource"
   ]
  },
  {
   "cell_type": "markdown",
   "metadata": {},
   "source": [
    "## Creando un nuevo recurso\n",
    "\n",
    "Ahora deberás crear el recurso Machine Learning\n",
    "\n",
    "    * Cliquear donde dice Create resource. Esto desplegará una lista de todos los recursos disponibles.\n",
    "    * Seleccionar Machine Learning. Este servicio nos permitirá realizar el deploy de nuestro modelo en la nube.\n",
    "    \n",
    "Obtener credenciales\n",
    "\n",
    "    * Dirigirse a la sección Service credentials. El botón podrás encontrarlo al costado superior izquierdo.\n",
    "    * Una vez allí podrás crear nuevas credenciales para tu servicio cliqueando en new credentials.\n",
    "    * Las credenciales que aparezcan serán las que utilizarás para completar en tu notebook de la siguiente clase. \n",
    "    Guardalas.\n",
    "\n",
    "Ahora podrás subir tu modelo a la nube y utilizar las funcionalidades de la API Machine Learning."
   ]
  },
  {
   "cell_type": "code",
   "execution_count": 3,
   "metadata": {},
   "outputs": [],
   "source": [
    "import warnings\n",
    "warnings.filterwarnings(\"ignore\")\n",
    "\n",
    "import numpy as np\n",
    "import pandas as pd\n",
    "\n",
    "# Eso aparecía a en el notebook que se bajan de la página (ya no funciona):\n",
    "# from watson_developer_cloud import NaturalLanguageUnderstandingV1\n",
    "# from watson_developer_cloud.natural_language_understanding_v1 import Features, EmotionOptions, SentimentOptions\n",
    "\n",
    "# Esta es la nueva forma de hacerlo\n",
    "from ibm_watson import NaturalLanguageUnderstandingV1\n",
    "from ibm_watson.natural_language_understanding_v1 import Features, CategoriesOptions, EmotionOptions, SentimentOptions"
   ]
  },
  {
   "cell_type": "code",
   "execution_count": 4,
   "metadata": {},
   "outputs": [],
   "source": [
    "import json\n",
    "from ibm_cloud_sdk_core.authenticators import IAMAuthenticator"
   ]
  },
  {
   "cell_type": "code",
   "execution_count": 5,
   "metadata": {},
   "outputs": [],
   "source": [
    "authenticator = IAMAuthenticator('Ingrese_Su_Key')\n",
    "\n",
    "natural_language_understanding = NaturalLanguageUnderstandingV1(\n",
    "    version='2019-07-12',\n",
    "    authenticator=authenticator,\n",
    ")\n",
    "\n",
    "natural_language_understanding.set_service_url('https://gateway-syd.watsonplatform.net/natural-language-understanding/api')"
   ]
  },
  {
   "cell_type": "markdown",
   "metadata": {},
   "source": [
    "### Probando a Watson\n",
    "\n",
    "Exploremos el tipo de objeto que nos devuelve Watson y como funciona para distintas frases"
   ]
  },
  {
   "cell_type": "code",
   "execution_count": 6,
   "metadata": {},
   "outputs": [
    {
     "data": {
      "text/plain": [
       "{'usage': {'text_units': 1, 'text_characters': 58, 'features': 2},\n",
       " 'sentiment': {'document': {'score': -0.73691, 'label': 'negative'}},\n",
       " 'language': 'en',\n",
       " 'emotion': {'document': {'emotion': {'sadness': 0.24932,\n",
       "    'joy': 0.318841,\n",
       "    'fear': 0.322898,\n",
       "    'disgust': 0.044808,\n",
       "    'anger': 0.118712}}}}"
      ]
     },
     "execution_count": 6,
     "metadata": {},
     "output_type": "execute_result"
    }
   ],
   "source": [
    "# Texto objetivo\n",
    "text = 'I want to see the dawn tomorrow because today I could not.'\n",
    "\n",
    "# Importamos el modelo que vamos a usar y le avisamos que features queremo que devuelva\n",
    "# y en que lenguaje está el texto (esto es mejor que dejarlo adivinar)\n",
    "response = natural_language_understanding.analyze(text=text,features=Features(emotion=EmotionOptions(), sentiment=SentimentOptions()),language='en')\n",
    "resultado = response.result\n",
    "resultado"
   ]
  },
  {
   "cell_type": "markdown",
   "metadata": {},
   "source": [
    "Para tomar sólo alguno de los resultados, podemos acceder al diccionario"
   ]
  },
  {
   "cell_type": "code",
   "execution_count": 7,
   "metadata": {},
   "outputs": [
    {
     "data": {
      "text/plain": [
       "dict"
      ]
     },
     "execution_count": 7,
     "metadata": {},
     "output_type": "execute_result"
    }
   ],
   "source": [
    "type(resultado)"
   ]
  },
  {
   "cell_type": "code",
   "execution_count": 8,
   "metadata": {},
   "outputs": [
    {
     "name": "stdout",
     "output_type": "stream",
     "text": [
      "{'text_units': 1, 'text_characters': 58, 'features': 2}\n"
     ]
    }
   ],
   "source": [
    "print(resultado['usage'])"
   ]
  },
  {
   "cell_type": "code",
   "execution_count": 9,
   "metadata": {},
   "outputs": [
    {
     "name": "stdout",
     "output_type": "stream",
     "text": [
      "{'document': {'score': -0.73691, 'label': 'negative'}}\n"
     ]
    }
   ],
   "source": [
    "print(resultado['sentiment'])"
   ]
  },
  {
   "cell_type": "code",
   "execution_count": 10,
   "metadata": {},
   "outputs": [
    {
     "name": "stdout",
     "output_type": "stream",
     "text": [
      "en\n"
     ]
    }
   ],
   "source": [
    "print(resultado['language'])"
   ]
  },
  {
   "cell_type": "code",
   "execution_count": 11,
   "metadata": {},
   "outputs": [
    {
     "name": "stdout",
     "output_type": "stream",
     "text": [
      "-0.73691\n"
     ]
    }
   ],
   "source": [
    "print(resultado['sentiment']['document']['score'])"
   ]
  },
  {
   "cell_type": "markdown",
   "metadata": {},
   "source": [
    "Probamos ahora un texto en español"
   ]
  },
  {
   "cell_type": "code",
   "execution_count": 12,
   "metadata": {},
   "outputs": [
    {
     "data": {
      "text/plain": [
       "{'usage': {'text_units': 1, 'text_characters': 125, 'features': 1},\n",
       " 'sentiment': {'document': {'score': 0, 'label': 'neutral'}},\n",
       " 'language': 'es',\n",
       " 'warnings': ['emotion: unsupported text language: es']}"
      ]
     },
     "execution_count": 12,
     "metadata": {},
     "output_type": "execute_result"
    }
   ],
   "source": [
    "# Texto objetivo\n",
    "text = 'Este texto no tiene ningún objetivo, vive en la soledad que genera saber que su existencia no tiene un proposito determinado.'\n",
    "\n",
    "# Importamos el modelo que vamos a usar y le avisamos que features queremo que devuelva\n",
    "# y en que lenguaje está el texto (esto es mejor que dejarlo adivinar)\n",
    "response = natural_language_understanding.analyze(text=text,features=Features(emotion=EmotionOptions(), sentiment=SentimentOptions()),language='es')\n",
    "resultado = response.result\n",
    "resultado"
   ]
  },
  {
   "cell_type": "markdown",
   "metadata": {},
   "source": [
    "### Dataset de películas\n",
    "Este es el dataset propuesto por la plataforma de Acámica, al estár en ingles permite explotar todas las funcionalidades de Watson. Carguen distintos reviews y comprueben si la devolución del analisis de emosiones de Watson coinciden con lo que perciben del texto."
   ]
  },
  {
   "cell_type": "code",
   "execution_count": 13,
   "metadata": {},
   "outputs": [],
   "source": [
    "import sklearn\n",
    "from sklearn.datasets import load_files\n",
    "moviedir = r'.\\movie_reviews' \n",
    "movie_reviews = load_files(moviedir, shuffle=True)"
   ]
  },
  {
   "cell_type": "code",
   "execution_count": 14,
   "metadata": {},
   "outputs": [],
   "source": [
    "def analisis_watson(text):\n",
    "    text = text.decode(\"utf-8\")\n",
    "    response = natural_language_understanding.analyze(text=text,features=Features(emotion=EmotionOptions(), sentiment=SentimentOptions()),language='es')\n",
    "    return response"
   ]
  },
  {
   "cell_type": "code",
   "execution_count": 15,
   "metadata": {},
   "outputs": [
    {
     "name": "stdout",
     "output_type": "stream",
     "text": [
      "{\n",
      "    \"result\": {\n",
      "        \"usage\": {\n",
      "            \"text_units\": 1,\n",
      "            \"text_characters\": 5584,\n",
      "            \"features\": 1\n",
      "        },\n",
      "        \"sentiment\": {\n",
      "            \"document\": {\n",
      "                \"score\": 0.588432,\n",
      "                \"label\": \"positive\"\n",
      "            }\n",
      "        },\n",
      "        \"language\": \"es\",\n",
      "        \"warnings\": [\n",
      "            \"emotion: unsupported text language: es\"\n",
      "        ]\n",
      "    },\n",
      "    \"headers\": {\n",
      "        \"_store\": {\n",
      "            \"content-type\": [\n",
      "                \"Content-Type\",\n",
      "                \"application/json; charset=utf-8\"\n",
      "            ],\n",
      "            \"content-length\": [\n",
      "                \"Content-Length\",\n",
      "                \"271\"\n",
      "            ],\n",
      "            \"x-powered-by\": [\n",
      "                \"X-Powered-By\",\n",
      "                \"Express\"\n",
      "            ],\n",
      "            \"cache-control\": [\n",
      "                \"Cache-Control\",\n",
      "                \"no-cache, no-store\"\n",
      "            ],\n",
      "            \"x-dp-watson-tran-id\": [\n",
      "                \"x-dp-watson-tran-id\",\n",
      "                \"eb40ff5946b3b3b5a63babf3b46251d3\"\n",
      "            ],\n",
      "            \"content-security-policy\": [\n",
      "                \"content-security-policy\",\n",
      "                \"default-src 'none'\"\n",
      "            ],\n",
      "            \"pragma\": [\n",
      "                \"Pragma\",\n",
      "                \"no-cache\"\n",
      "            ],\n",
      "            \"x-content-type-options\": [\n",
      "                \"x-content-type-options\",\n",
      "                \"nosniff\"\n",
      "            ],\n",
      "            \"x-frame-options\": [\n",
      "                \"x-frame-options\",\n",
      "                \"DENY\"\n",
      "            ],\n",
      "            \"x-xss-protection\": [\n",
      "                \"x-xss-protection\",\n",
      "                \"1; mode=block\"\n",
      "            ],\n",
      "            \"strict-transport-security\": [\n",
      "                \"strict-transport-security\",\n",
      "                \"max-age=31536000; includeSubDomains;\"\n",
      "            ],\n",
      "            \"x-global-transaction-id\": [\n",
      "                \"x-global-transaction-id\",\n",
      "                \"eb40ff5946b3b3b5a63babf3b46251d3\"\n",
      "            ],\n",
      "            \"x-edgeconnect-midmile-rtt\": [\n",
      "                \"X-EdgeConnect-MidMile-RTT\",\n",
      "                \"55\"\n",
      "            ],\n",
      "            \"x-edgeconnect-origin-mex-latency\": [\n",
      "                \"X-EdgeConnect-Origin-MEX-Latency\",\n",
      "                \"308\"\n",
      "            ],\n",
      "            \"date\": [\n",
      "                \"Date\",\n",
      "                \"Wed, 13 May 2020 23:00:43 GMT\"\n",
      "            ],\n",
      "            \"connection\": [\n",
      "                \"Connection\",\n",
      "                \"keep-alive\"\n",
      "            ]\n",
      "        }\n",
      "    },\n",
      "    \"status_code\": 200\n",
      "}\n"
     ]
    }
   ],
   "source": [
    "print(analisis_watson(movie_reviews.data[7]))"
   ]
  },
  {
   "cell_type": "code",
   "execution_count": 16,
   "metadata": {},
   "outputs": [
    {
     "name": "stdout",
     "output_type": "stream",
     "text": [
      "b\"kolya is one of the richest films i've seen in some time . \\nzdenek sverak plays a confirmed old bachelor ( who's likely to remain so ) , who finds his life as a czech cellist increasingly impacted by the five-year old boy that he's taking care of . \\nthough it ends rather abruptly-- and i'm whining , 'cause i wanted to spend more time with these characters-- the acting , writing , and production values are as high as , if not higher than , comparable american dramas . \\nthis father-and-son delight-- sverak also wrote the script , while his son , jan , directed-- won a golden globe for best foreign language film and , a couple days after i saw it , walked away an oscar . \\nin czech and russian , with english subtitles . \\n\"\n"
     ]
    }
   ],
   "source": [
    "print(movie_reviews.data[4])"
   ]
  },
  {
   "cell_type": "markdown",
   "metadata": {},
   "source": [
    "### Dataset de Noticias Infobae de hoy\n",
    "\n",
    "Este dataset se lo preparamos para que puedan explorar cómo funciona Watson en textos en español. Algunas de las funcionalidades se pierden (no reporta las emociones), pero sí clasifica como positivo o negativo los cuerpos de texto. Noten que otra estrategia podría ser traducir el texto y luego aplicarle el algoritmo de Watson en inglés. Esta otra estrategia no siempre funciona bien, depende mucho de la calidad de la traducción."
   ]
  },
  {
   "cell_type": "code",
   "execution_count": 17,
   "metadata": {},
   "outputs": [
    {
     "name": "stdout",
     "output_type": "stream",
     "text": [
      "Requirement already up-to-date: pyarrow in c:\\users\\nereida.combariza\\.conda\\envs\\watson2\\lib\\site-packages (0.17.0)\n",
      "Requirement already satisfied, skipping upgrade: numpy>=1.14 in c:\\users\\nereida.combariza\\.conda\\envs\\watson2\\lib\\site-packages (from pyarrow) (1.17.2)\n"
     ]
    }
   ],
   "source": [
    "!pip install -U pyarrow"
   ]
  },
  {
   "cell_type": "code",
   "execution_count": 18,
   "metadata": {},
   "outputs": [],
   "source": [
    "nombre_archivo = '2019_08_21.feather'"
   ]
  },
  {
   "cell_type": "markdown",
   "metadata": {},
   "source": [
    "Exploremos el dataset"
   ]
  },
  {
   "cell_type": "code",
   "execution_count": 19,
   "metadata": {},
   "outputs": [
    {
     "data": {
      "text/html": [
       "<div>\n",
       "<style scoped>\n",
       "    .dataframe tbody tr th:only-of-type {\n",
       "        vertical-align: middle;\n",
       "    }\n",
       "\n",
       "    .dataframe tbody tr th {\n",
       "        vertical-align: top;\n",
       "    }\n",
       "\n",
       "    .dataframe thead th {\n",
       "        text-align: right;\n",
       "    }\n",
       "</style>\n",
       "<table border=\"1\" class=\"dataframe\">\n",
       "  <thead>\n",
       "    <tr style=\"text-align: right;\">\n",
       "      <th></th>\n",
       "      <th>Fecha</th>\n",
       "      <th>Id-Fecha</th>\n",
       "      <th>Subtitulo</th>\n",
       "      <th>Tema</th>\n",
       "      <th>Texto</th>\n",
       "      <th>Titulo</th>\n",
       "    </tr>\n",
       "  </thead>\n",
       "  <tbody>\n",
       "    <tr>\n",
       "      <td>0</td>\n",
       "      <td>2019/08/21</td>\n",
       "      <td>0</td>\n",
       "      <td>El tipo de cambio cerró con leve baja, pero lo...</td>\n",
       "      <td>economia</td>\n",
       "      <td>Hernán Lacunza logró sortear una prueba compl...</td>\n",
       "      <td>Hernán Lacunza consiguió una tregua con el dól...</td>\n",
       "    </tr>\n",
       "    <tr>\n",
       "      <td>1</td>\n",
       "      <td>2019/08/21</td>\n",
       "      <td>1</td>\n",
       "      <td>El encuentro será a las 11. Cuál puede ser el ...</td>\n",
       "      <td>politica</td>\n",
       "      <td>Hoy a las 11 de la mañana se verán las caras ...</td>\n",
       "      <td>Los diputados de Cambiemos se reunirán por pri...</td>\n",
       "    </tr>\n",
       "    <tr>\n",
       "      <td>2</td>\n",
       "      <td>2019/08/21</td>\n",
       "      <td>2</td>\n",
       "      <td>En 1974, el ex juez Jorge Vicente Quiroga fue ...</td>\n",
       "      <td>sociedad</td>\n",
       "      <td>El domingo 28 de abril de 1974 Jorge Vicente ...</td>\n",
       "      <td>El asesinato del juez Quiroga: sabía que estab...</td>\n",
       "    </tr>\n",
       "    <tr>\n",
       "      <td>3</td>\n",
       "      <td>2019/08/21</td>\n",
       "      <td>3</td>\n",
       "      <td>\"Llaman todos\", aseguran los allegados al cand...</td>\n",
       "      <td>economia</td>\n",
       "      <td>\"Acá llaman todos, todo el mundo quiere venir...</td>\n",
       "      <td>Los empresarios en su laberinto: dudas, enojos...</td>\n",
       "    </tr>\n",
       "    <tr>\n",
       "      <td>4</td>\n",
       "      <td>2019/08/21</td>\n",
       "      <td>4</td>\n",
       "      <td>Hacienda mostró una vez más el rol de \"otros i...</td>\n",
       "      <td>economia</td>\n",
       "      <td>Unas de las preocupaciones de \"los mercados\" ...</td>\n",
       "      <td>Las ganancias del Banco Central permitirán cum...</td>\n",
       "    </tr>\n",
       "    <tr>\n",
       "      <td>5</td>\n",
       "      <td>2019/08/21</td>\n",
       "      <td>5</td>\n",
       "      <td>Osvaldo Agosto era integrante de la Juventud P...</td>\n",
       "      <td>sociedad</td>\n",
       "      <td>Sus ojos claros, vivaces, y esa sonrisa entre...</td>\n",
       "      <td>\"Yo robé el sable corvo de San Martín\": el rel...</td>\n",
       "    </tr>\n",
       "    <tr>\n",
       "      <td>6</td>\n",
       "      <td>2019/08/21</td>\n",
       "      <td>6</td>\n",
       "      <td>Gustavo Figueroa fue separado del cargo y some...</td>\n",
       "      <td>sociedad</td>\n",
       "      <td>Gustavo Figueroa, quien prestaba servicios de...</td>\n",
       "      <td>Tucumán: trabajó durante nueve años como médic...</td>\n",
       "    </tr>\n",
       "    <tr>\n",
       "      <td>7</td>\n",
       "      <td>2019/08/21</td>\n",
       "      <td>7</td>\n",
       "      <td>El artista mexicano participó en Buenos Aires ...</td>\n",
       "      <td>sociedad</td>\n",
       "      <td>Eduardo Verástegui ya filmaba en Hollywood y ...</td>\n",
       "      <td>La asombrosa conversión de Eduardo Verástegui,...</td>\n",
       "    </tr>\n",
       "    <tr>\n",
       "      <td>8</td>\n",
       "      <td>2019/08/21</td>\n",
       "      <td>8</td>\n",
       "      <td>En las imágenes se ve a Jorge Martín Gómez par...</td>\n",
       "      <td>sociedad</td>\n",
       "      <td>Uno de los principales temas que dominó la co...</td>\n",
       "      <td>El video que muestra la amenaza del hombre que...</td>\n",
       "    </tr>\n",
       "    <tr>\n",
       "      <td>9</td>\n",
       "      <td>2019/08/21</td>\n",
       "      <td>9</td>\n",
       "      <td>La gobernadora bonaerense dejará de recibir 4....</td>\n",
       "      <td>politica</td>\n",
       "      <td>María Eugenia Vidal decidió postergar todos l...</td>\n",
       "      <td>María Eugenia Vidal postergó los anuncios econ...</td>\n",
       "    </tr>\n",
       "    <tr>\n",
       "      <td>10</td>\n",
       "      <td>2019/08/21</td>\n",
       "      <td>10</td>\n",
       "      <td>Estarán todos los gobernadores del PJ y los pr...</td>\n",
       "      <td>politica</td>\n",
       "      <td>Alberto Fernández habló uno por uno con todos...</td>\n",
       "      <td>Junto a Urtubey y los gobernadores \"independie...</td>\n",
       "    </tr>\n",
       "    <tr>\n",
       "      <td>11</td>\n",
       "      <td>2019/08/21</td>\n",
       "      <td>11</td>\n",
       "      <td>El objetivo de crear un cargo que hasta hace p...</td>\n",
       "      <td>sociedad</td>\n",
       "      <td>En sintonía con un momento histórico en el mu...</td>\n",
       "      <td>Infobae incorpora la figura de editora de géne...</td>\n",
       "    </tr>\n",
       "    <tr>\n",
       "      <td>12</td>\n",
       "      <td>2019/08/21</td>\n",
       "      <td>12</td>\n",
       "      <td>El encuentro será en Avellaneda por la tarde. ...</td>\n",
       "      <td>politica</td>\n",
       "      <td>El domingo 11 de agosto, después de las PASO ...</td>\n",
       "      <td>Axel Kicillof encabezará un acto con los 135 c...</td>\n",
       "    </tr>\n",
       "    <tr>\n",
       "      <td>13</td>\n",
       "      <td>2019/08/21</td>\n",
       "      <td>13</td>\n",
       "      <td>Los jefes comunales de Juntos por el Cambio pl...</td>\n",
       "      <td>politica</td>\n",
       "      <td>El sueño de reelección de María Eugenia Vidal...</td>\n",
       "      <td>En un clima de reproches y catarsis, María Eug...</td>\n",
       "    </tr>\n",
       "    <tr>\n",
       "      <td>14</td>\n",
       "      <td>2019/08/21</td>\n",
       "      <td>14</td>\n",
       "      <td>Damián Di Pace</td>\n",
       "      <td>economia</td>\n",
       "      <td>El 9 de agosto la cotización del dólar cerró ...</td>\n",
       "      <td>Dólar, precios e IVA: ¿quién va a ganar la pul...</td>\n",
       "    </tr>\n",
       "    <tr>\n",
       "      <td>15</td>\n",
       "      <td>2019/08/21</td>\n",
       "      <td>15</td>\n",
       "      <td>Hubo una sucesión de gestos en apenas un par d...</td>\n",
       "      <td>politica</td>\n",
       "      <td>El objetivo, admitido por las partes, es módi...</td>\n",
       "      <td>Acuerdo virtual para contener el dólar: los me...</td>\n",
       "    </tr>\n",
       "    <tr>\n",
       "      <td>16</td>\n",
       "      <td>2019/08/21</td>\n",
       "      <td>16</td>\n",
       "      <td>Ocurrió en 2013 en un local bailable de Quilmes</td>\n",
       "      <td>sociedad</td>\n",
       "      <td>Dos hombres fueron condenados este martes dur...</td>\n",
       "      <td>Condenaron a 12 años de prisión a dos hombres ...</td>\n",
       "    </tr>\n",
       "    <tr>\n",
       "      <td>17</td>\n",
       "      <td>2019/08/21</td>\n",
       "      <td>17</td>\n",
       "      <td>Fuentes policiales le confirmaron a Infobae qu...</td>\n",
       "      <td>sociedad</td>\n",
       "      <td>Un depósito del Hospital de Niños Ricardo Gut...</td>\n",
       "      <td>Se incendió un depósito del Hospital de Niños</td>\n",
       "    </tr>\n",
       "    <tr>\n",
       "      <td>18</td>\n",
       "      <td>2019/08/21</td>\n",
       "      <td>18</td>\n",
       "      <td>El camino había quedado interrumpido tras el d...</td>\n",
       "      <td>sociedad</td>\n",
       "      <td>La ruta nacional 40 quedó habilitada entre Vi...</td>\n",
       "      <td>Habilitaron la ruta nacional 40 entre Bariloch...</td>\n",
       "    </tr>\n",
       "    <tr>\n",
       "      <td>19</td>\n",
       "      <td>2019/08/21</td>\n",
       "      <td>19</td>\n",
       "      <td></td>\n",
       "      <td>opinion</td>\n",
       "      <td>La grieta sigue abierta y no se ve en el hori...</td>\n",
       "      <td>Incógnitas en el calendario</td>\n",
       "    </tr>\n",
       "    <tr>\n",
       "      <td>20</td>\n",
       "      <td>2019/08/21</td>\n",
       "      <td>20</td>\n",
       "      <td></td>\n",
       "      <td>opinion</td>\n",
       "      <td>El sínodo especial convocado por el papa Fran...</td>\n",
       "      <td>El Papa, el sínodo y un documento que activó u...</td>\n",
       "    </tr>\n",
       "    <tr>\n",
       "      <td>21</td>\n",
       "      <td>2019/08/21</td>\n",
       "      <td>21</td>\n",
       "      <td>Fabián Peralta</td>\n",
       "      <td>opinion</td>\n",
       "      <td>En agosto del año 2009 se podía leer en los p...</td>\n",
       "      <td>A 10 años del fallo Arriola, nada ha cambiado</td>\n",
       "    </tr>\n",
       "    <tr>\n",
       "      <td>22</td>\n",
       "      <td>2019/08/21</td>\n",
       "      <td>22</td>\n",
       "      <td>Agustín Romero</td>\n",
       "      <td>opinion</td>\n",
       "      <td>La cercanía del fin de la gestión del gobiern...</td>\n",
       "      <td>¿Hacia dónde va la política exterior argentina?</td>\n",
       "    </tr>\n",
       "    <tr>\n",
       "      <td>23</td>\n",
       "      <td>2019/08/21</td>\n",
       "      <td>23</td>\n",
       "      <td>En Facebook volvió a circular actualmente un p...</td>\n",
       "      <td>politica</td>\n",
       "      <td>En los últimos días (ver acá y acá) volvió a ...</td>\n",
       "      <td>Una desinformación que vuelve: es falso que Ki...</td>\n",
       "    </tr>\n",
       "  </tbody>\n",
       "</table>\n",
       "</div>"
      ],
      "text/plain": [
       "         Fecha  Id-Fecha                                          Subtitulo  \\\n",
       "0   2019/08/21         0  El tipo de cambio cerró con leve baja, pero lo...   \n",
       "1   2019/08/21         1  El encuentro será a las 11. Cuál puede ser el ...   \n",
       "2   2019/08/21         2  En 1974, el ex juez Jorge Vicente Quiroga fue ...   \n",
       "3   2019/08/21         3  \"Llaman todos\", aseguran los allegados al cand...   \n",
       "4   2019/08/21         4  Hacienda mostró una vez más el rol de \"otros i...   \n",
       "5   2019/08/21         5  Osvaldo Agosto era integrante de la Juventud P...   \n",
       "6   2019/08/21         6  Gustavo Figueroa fue separado del cargo y some...   \n",
       "7   2019/08/21         7  El artista mexicano participó en Buenos Aires ...   \n",
       "8   2019/08/21         8  En las imágenes se ve a Jorge Martín Gómez par...   \n",
       "9   2019/08/21         9  La gobernadora bonaerense dejará de recibir 4....   \n",
       "10  2019/08/21        10  Estarán todos los gobernadores del PJ y los pr...   \n",
       "11  2019/08/21        11  El objetivo de crear un cargo que hasta hace p...   \n",
       "12  2019/08/21        12  El encuentro será en Avellaneda por la tarde. ...   \n",
       "13  2019/08/21        13  Los jefes comunales de Juntos por el Cambio pl...   \n",
       "14  2019/08/21        14                                     Damián Di Pace   \n",
       "15  2019/08/21        15  Hubo una sucesión de gestos en apenas un par d...   \n",
       "16  2019/08/21        16    Ocurrió en 2013 en un local bailable de Quilmes   \n",
       "17  2019/08/21        17  Fuentes policiales le confirmaron a Infobae qu...   \n",
       "18  2019/08/21        18  El camino había quedado interrumpido tras el d...   \n",
       "19  2019/08/21        19                                                      \n",
       "20  2019/08/21        20                                                      \n",
       "21  2019/08/21        21                                    Fabián Peralta    \n",
       "22  2019/08/21        22                                    Agustín Romero    \n",
       "23  2019/08/21        23  En Facebook volvió a circular actualmente un p...   \n",
       "\n",
       "        Tema                                              Texto  \\\n",
       "0   economia   Hernán Lacunza logró sortear una prueba compl...   \n",
       "1   politica   Hoy a las 11 de la mañana se verán las caras ...   \n",
       "2   sociedad   El domingo 28 de abril de 1974 Jorge Vicente ...   \n",
       "3   economia   \"Acá llaman todos, todo el mundo quiere venir...   \n",
       "4   economia   Unas de las preocupaciones de \"los mercados\" ...   \n",
       "5   sociedad   Sus ojos claros, vivaces, y esa sonrisa entre...   \n",
       "6   sociedad   Gustavo Figueroa, quien prestaba servicios de...   \n",
       "7   sociedad   Eduardo Verástegui ya filmaba en Hollywood y ...   \n",
       "8   sociedad   Uno de los principales temas que dominó la co...   \n",
       "9   politica   María Eugenia Vidal decidió postergar todos l...   \n",
       "10  politica   Alberto Fernández habló uno por uno con todos...   \n",
       "11  sociedad   En sintonía con un momento histórico en el mu...   \n",
       "12  politica   El domingo 11 de agosto, después de las PASO ...   \n",
       "13  politica   El sueño de reelección de María Eugenia Vidal...   \n",
       "14  economia   El 9 de agosto la cotización del dólar cerró ...   \n",
       "15  politica   El objetivo, admitido por las partes, es módi...   \n",
       "16  sociedad   Dos hombres fueron condenados este martes dur...   \n",
       "17  sociedad   Un depósito del Hospital de Niños Ricardo Gut...   \n",
       "18  sociedad   La ruta nacional 40 quedó habilitada entre Vi...   \n",
       "19   opinion   La grieta sigue abierta y no se ve en el hori...   \n",
       "20   opinion   El sínodo especial convocado por el papa Fran...   \n",
       "21   opinion   En agosto del año 2009 se podía leer en los p...   \n",
       "22   opinion   La cercanía del fin de la gestión del gobiern...   \n",
       "23  politica   En los últimos días (ver acá y acá) volvió a ...   \n",
       "\n",
       "                                               Titulo  \n",
       "0   Hernán Lacunza consiguió una tregua con el dól...  \n",
       "1   Los diputados de Cambiemos se reunirán por pri...  \n",
       "2   El asesinato del juez Quiroga: sabía que estab...  \n",
       "3   Los empresarios en su laberinto: dudas, enojos...  \n",
       "4   Las ganancias del Banco Central permitirán cum...  \n",
       "5   \"Yo robé el sable corvo de San Martín\": el rel...  \n",
       "6   Tucumán: trabajó durante nueve años como médic...  \n",
       "7   La asombrosa conversión de Eduardo Verástegui,...  \n",
       "8   El video que muestra la amenaza del hombre que...  \n",
       "9   María Eugenia Vidal postergó los anuncios econ...  \n",
       "10  Junto a Urtubey y los gobernadores \"independie...  \n",
       "11  Infobae incorpora la figura de editora de géne...  \n",
       "12  Axel Kicillof encabezará un acto con los 135 c...  \n",
       "13  En un clima de reproches y catarsis, María Eug...  \n",
       "14  Dólar, precios e IVA: ¿quién va a ganar la pul...  \n",
       "15  Acuerdo virtual para contener el dólar: los me...  \n",
       "16  Condenaron a 12 años de prisión a dos hombres ...  \n",
       "17      Se incendió un depósito del Hospital de Niños  \n",
       "18  Habilitaron la ruta nacional 40 entre Bariloch...  \n",
       "19                        Incógnitas en el calendario  \n",
       "20  El Papa, el sínodo y un documento que activó u...  \n",
       "21      A 10 años del fallo Arriola, nada ha cambiado  \n",
       "22    ¿Hacia dónde va la política exterior argentina?  \n",
       "23  Una desinformación que vuelve: es falso que Ki...  "
      ]
     },
     "execution_count": 19,
     "metadata": {},
     "output_type": "execute_result"
    }
   ],
   "source": [
    "# Quiero ver el sentimiento de los cuerpos de la noticia.\n",
    "noticias_hoy = pd.read_feather(nombre_archivo)\n",
    "noticias_hoy"
   ]
  },
  {
   "cell_type": "code",
   "execution_count": 20,
   "metadata": {},
   "outputs": [
    {
     "name": "stdout",
     "output_type": "stream",
     "text": [
      "24\n"
     ]
    }
   ],
   "source": [
    "cuerpos = noticias_hoy.Texto\n",
    "titulos = noticias_hoy.Titulo\n",
    "print(len(cuerpos))"
   ]
  },
  {
   "cell_type": "markdown",
   "metadata": {},
   "source": [
    "Vamos a calcular el sentimiento para cada una de las noticias y agregarlo al dataframe "
   ]
  },
  {
   "cell_type": "code",
   "execution_count": 21,
   "metadata": {},
   "outputs": [],
   "source": [
    "score_cuerpos = []\n",
    "\n",
    "for este_texto in cuerpos:\n",
    "    \n",
    "    # Quitamos del texto este símbolo que indica final de parrafo\n",
    "    este_texto = este_texto.replace('\\n','')\n",
    "    \n",
    "    # Analisis sentimiento del cuerpo\n",
    "    # Le pedimos solo el sentimiento, y le avisamos que está en español\n",
    "    response = natural_language_understanding.analyze(text=este_texto,features=Features(sentiment=SentimentOptions()),language='es')\n",
    "    resultado = response.result\n",
    "    score_cuerpos.append(resultado['sentiment']['document']['score'])"
   ]
  },
  {
   "cell_type": "code",
   "execution_count": 22,
   "metadata": {},
   "outputs": [
    {
     "name": "stdout",
     "output_type": "stream",
     "text": [
      "[-0.628192, 0.703094, -0.603858, -0.361676, 0.357864, -0.413688, -0.851592, 0.304766, -0.740305, 0, -0.607553, 0.276372, 0, -0.621652, -0.490642, -0.40268, -0.85545, 0, 0.583955, -0.642936, 0.348123, -0.517949, -0.416298, -0.488772]\n"
     ]
    }
   ],
   "source": [
    "print(score_cuerpos)"
   ]
  },
  {
   "cell_type": "code",
   "execution_count": 23,
   "metadata": {},
   "outputs": [
    {
     "data": {
      "text/html": [
       "<div>\n",
       "<style scoped>\n",
       "    .dataframe tbody tr th:only-of-type {\n",
       "        vertical-align: middle;\n",
       "    }\n",
       "\n",
       "    .dataframe tbody tr th {\n",
       "        vertical-align: top;\n",
       "    }\n",
       "\n",
       "    .dataframe thead th {\n",
       "        text-align: right;\n",
       "    }\n",
       "</style>\n",
       "<table border=\"1\" class=\"dataframe\">\n",
       "  <thead>\n",
       "    <tr style=\"text-align: right;\">\n",
       "      <th></th>\n",
       "      <th>Fecha</th>\n",
       "      <th>Id-Fecha</th>\n",
       "      <th>Subtitulo</th>\n",
       "      <th>Tema</th>\n",
       "      <th>Texto</th>\n",
       "      <th>Titulo</th>\n",
       "      <th>Sentimiento</th>\n",
       "    </tr>\n",
       "  </thead>\n",
       "  <tbody>\n",
       "    <tr>\n",
       "      <td>0</td>\n",
       "      <td>2019/08/21</td>\n",
       "      <td>0</td>\n",
       "      <td>El tipo de cambio cerró con leve baja, pero lo...</td>\n",
       "      <td>economia</td>\n",
       "      <td>Hernán Lacunza logró sortear una prueba compl...</td>\n",
       "      <td>Hernán Lacunza consiguió una tregua con el dól...</td>\n",
       "      <td>-0.628192</td>\n",
       "    </tr>\n",
       "    <tr>\n",
       "      <td>1</td>\n",
       "      <td>2019/08/21</td>\n",
       "      <td>1</td>\n",
       "      <td>El encuentro será a las 11. Cuál puede ser el ...</td>\n",
       "      <td>politica</td>\n",
       "      <td>Hoy a las 11 de la mañana se verán las caras ...</td>\n",
       "      <td>Los diputados de Cambiemos se reunirán por pri...</td>\n",
       "      <td>0.703094</td>\n",
       "    </tr>\n",
       "    <tr>\n",
       "      <td>2</td>\n",
       "      <td>2019/08/21</td>\n",
       "      <td>2</td>\n",
       "      <td>En 1974, el ex juez Jorge Vicente Quiroga fue ...</td>\n",
       "      <td>sociedad</td>\n",
       "      <td>El domingo 28 de abril de 1974 Jorge Vicente ...</td>\n",
       "      <td>El asesinato del juez Quiroga: sabía que estab...</td>\n",
       "      <td>-0.603858</td>\n",
       "    </tr>\n",
       "    <tr>\n",
       "      <td>3</td>\n",
       "      <td>2019/08/21</td>\n",
       "      <td>3</td>\n",
       "      <td>\"Llaman todos\", aseguran los allegados al cand...</td>\n",
       "      <td>economia</td>\n",
       "      <td>\"Acá llaman todos, todo el mundo quiere venir...</td>\n",
       "      <td>Los empresarios en su laberinto: dudas, enojos...</td>\n",
       "      <td>-0.361676</td>\n",
       "    </tr>\n",
       "    <tr>\n",
       "      <td>4</td>\n",
       "      <td>2019/08/21</td>\n",
       "      <td>4</td>\n",
       "      <td>Hacienda mostró una vez más el rol de \"otros i...</td>\n",
       "      <td>economia</td>\n",
       "      <td>Unas de las preocupaciones de \"los mercados\" ...</td>\n",
       "      <td>Las ganancias del Banco Central permitirán cum...</td>\n",
       "      <td>0.357864</td>\n",
       "    </tr>\n",
       "    <tr>\n",
       "      <td>5</td>\n",
       "      <td>2019/08/21</td>\n",
       "      <td>5</td>\n",
       "      <td>Osvaldo Agosto era integrante de la Juventud P...</td>\n",
       "      <td>sociedad</td>\n",
       "      <td>Sus ojos claros, vivaces, y esa sonrisa entre...</td>\n",
       "      <td>\"Yo robé el sable corvo de San Martín\": el rel...</td>\n",
       "      <td>-0.413688</td>\n",
       "    </tr>\n",
       "    <tr>\n",
       "      <td>6</td>\n",
       "      <td>2019/08/21</td>\n",
       "      <td>6</td>\n",
       "      <td>Gustavo Figueroa fue separado del cargo y some...</td>\n",
       "      <td>sociedad</td>\n",
       "      <td>Gustavo Figueroa, quien prestaba servicios de...</td>\n",
       "      <td>Tucumán: trabajó durante nueve años como médic...</td>\n",
       "      <td>-0.851592</td>\n",
       "    </tr>\n",
       "    <tr>\n",
       "      <td>7</td>\n",
       "      <td>2019/08/21</td>\n",
       "      <td>7</td>\n",
       "      <td>El artista mexicano participó en Buenos Aires ...</td>\n",
       "      <td>sociedad</td>\n",
       "      <td>Eduardo Verástegui ya filmaba en Hollywood y ...</td>\n",
       "      <td>La asombrosa conversión de Eduardo Verástegui,...</td>\n",
       "      <td>0.304766</td>\n",
       "    </tr>\n",
       "    <tr>\n",
       "      <td>8</td>\n",
       "      <td>2019/08/21</td>\n",
       "      <td>8</td>\n",
       "      <td>En las imágenes se ve a Jorge Martín Gómez par...</td>\n",
       "      <td>sociedad</td>\n",
       "      <td>Uno de los principales temas que dominó la co...</td>\n",
       "      <td>El video que muestra la amenaza del hombre que...</td>\n",
       "      <td>-0.740305</td>\n",
       "    </tr>\n",
       "    <tr>\n",
       "      <td>9</td>\n",
       "      <td>2019/08/21</td>\n",
       "      <td>9</td>\n",
       "      <td>La gobernadora bonaerense dejará de recibir 4....</td>\n",
       "      <td>politica</td>\n",
       "      <td>María Eugenia Vidal decidió postergar todos l...</td>\n",
       "      <td>María Eugenia Vidal postergó los anuncios econ...</td>\n",
       "      <td>0.000000</td>\n",
       "    </tr>\n",
       "    <tr>\n",
       "      <td>10</td>\n",
       "      <td>2019/08/21</td>\n",
       "      <td>10</td>\n",
       "      <td>Estarán todos los gobernadores del PJ y los pr...</td>\n",
       "      <td>politica</td>\n",
       "      <td>Alberto Fernández habló uno por uno con todos...</td>\n",
       "      <td>Junto a Urtubey y los gobernadores \"independie...</td>\n",
       "      <td>-0.607553</td>\n",
       "    </tr>\n",
       "    <tr>\n",
       "      <td>11</td>\n",
       "      <td>2019/08/21</td>\n",
       "      <td>11</td>\n",
       "      <td>El objetivo de crear un cargo que hasta hace p...</td>\n",
       "      <td>sociedad</td>\n",
       "      <td>En sintonía con un momento histórico en el mu...</td>\n",
       "      <td>Infobae incorpora la figura de editora de géne...</td>\n",
       "      <td>0.276372</td>\n",
       "    </tr>\n",
       "    <tr>\n",
       "      <td>12</td>\n",
       "      <td>2019/08/21</td>\n",
       "      <td>12</td>\n",
       "      <td>El encuentro será en Avellaneda por la tarde. ...</td>\n",
       "      <td>politica</td>\n",
       "      <td>El domingo 11 de agosto, después de las PASO ...</td>\n",
       "      <td>Axel Kicillof encabezará un acto con los 135 c...</td>\n",
       "      <td>0.000000</td>\n",
       "    </tr>\n",
       "    <tr>\n",
       "      <td>13</td>\n",
       "      <td>2019/08/21</td>\n",
       "      <td>13</td>\n",
       "      <td>Los jefes comunales de Juntos por el Cambio pl...</td>\n",
       "      <td>politica</td>\n",
       "      <td>El sueño de reelección de María Eugenia Vidal...</td>\n",
       "      <td>En un clima de reproches y catarsis, María Eug...</td>\n",
       "      <td>-0.621652</td>\n",
       "    </tr>\n",
       "    <tr>\n",
       "      <td>14</td>\n",
       "      <td>2019/08/21</td>\n",
       "      <td>14</td>\n",
       "      <td>Damián Di Pace</td>\n",
       "      <td>economia</td>\n",
       "      <td>El 9 de agosto la cotización del dólar cerró ...</td>\n",
       "      <td>Dólar, precios e IVA: ¿quién va a ganar la pul...</td>\n",
       "      <td>-0.490642</td>\n",
       "    </tr>\n",
       "    <tr>\n",
       "      <td>15</td>\n",
       "      <td>2019/08/21</td>\n",
       "      <td>15</td>\n",
       "      <td>Hubo una sucesión de gestos en apenas un par d...</td>\n",
       "      <td>politica</td>\n",
       "      <td>El objetivo, admitido por las partes, es módi...</td>\n",
       "      <td>Acuerdo virtual para contener el dólar: los me...</td>\n",
       "      <td>-0.402680</td>\n",
       "    </tr>\n",
       "    <tr>\n",
       "      <td>16</td>\n",
       "      <td>2019/08/21</td>\n",
       "      <td>16</td>\n",
       "      <td>Ocurrió en 2013 en un local bailable de Quilmes</td>\n",
       "      <td>sociedad</td>\n",
       "      <td>Dos hombres fueron condenados este martes dur...</td>\n",
       "      <td>Condenaron a 12 años de prisión a dos hombres ...</td>\n",
       "      <td>-0.855450</td>\n",
       "    </tr>\n",
       "    <tr>\n",
       "      <td>17</td>\n",
       "      <td>2019/08/21</td>\n",
       "      <td>17</td>\n",
       "      <td>Fuentes policiales le confirmaron a Infobae qu...</td>\n",
       "      <td>sociedad</td>\n",
       "      <td>Un depósito del Hospital de Niños Ricardo Gut...</td>\n",
       "      <td>Se incendió un depósito del Hospital de Niños</td>\n",
       "      <td>0.000000</td>\n",
       "    </tr>\n",
       "    <tr>\n",
       "      <td>18</td>\n",
       "      <td>2019/08/21</td>\n",
       "      <td>18</td>\n",
       "      <td>El camino había quedado interrumpido tras el d...</td>\n",
       "      <td>sociedad</td>\n",
       "      <td>La ruta nacional 40 quedó habilitada entre Vi...</td>\n",
       "      <td>Habilitaron la ruta nacional 40 entre Bariloch...</td>\n",
       "      <td>0.583955</td>\n",
       "    </tr>\n",
       "    <tr>\n",
       "      <td>19</td>\n",
       "      <td>2019/08/21</td>\n",
       "      <td>19</td>\n",
       "      <td></td>\n",
       "      <td>opinion</td>\n",
       "      <td>La grieta sigue abierta y no se ve en el hori...</td>\n",
       "      <td>Incógnitas en el calendario</td>\n",
       "      <td>-0.642936</td>\n",
       "    </tr>\n",
       "    <tr>\n",
       "      <td>20</td>\n",
       "      <td>2019/08/21</td>\n",
       "      <td>20</td>\n",
       "      <td></td>\n",
       "      <td>opinion</td>\n",
       "      <td>El sínodo especial convocado por el papa Fran...</td>\n",
       "      <td>El Papa, el sínodo y un documento que activó u...</td>\n",
       "      <td>0.348123</td>\n",
       "    </tr>\n",
       "    <tr>\n",
       "      <td>21</td>\n",
       "      <td>2019/08/21</td>\n",
       "      <td>21</td>\n",
       "      <td>Fabián Peralta</td>\n",
       "      <td>opinion</td>\n",
       "      <td>En agosto del año 2009 se podía leer en los p...</td>\n",
       "      <td>A 10 años del fallo Arriola, nada ha cambiado</td>\n",
       "      <td>-0.517949</td>\n",
       "    </tr>\n",
       "    <tr>\n",
       "      <td>22</td>\n",
       "      <td>2019/08/21</td>\n",
       "      <td>22</td>\n",
       "      <td>Agustín Romero</td>\n",
       "      <td>opinion</td>\n",
       "      <td>La cercanía del fin de la gestión del gobiern...</td>\n",
       "      <td>¿Hacia dónde va la política exterior argentina?</td>\n",
       "      <td>-0.416298</td>\n",
       "    </tr>\n",
       "    <tr>\n",
       "      <td>23</td>\n",
       "      <td>2019/08/21</td>\n",
       "      <td>23</td>\n",
       "      <td>En Facebook volvió a circular actualmente un p...</td>\n",
       "      <td>politica</td>\n",
       "      <td>En los últimos días (ver acá y acá) volvió a ...</td>\n",
       "      <td>Una desinformación que vuelve: es falso que Ki...</td>\n",
       "      <td>-0.488772</td>\n",
       "    </tr>\n",
       "  </tbody>\n",
       "</table>\n",
       "</div>"
      ],
      "text/plain": [
       "         Fecha  Id-Fecha                                          Subtitulo  \\\n",
       "0   2019/08/21         0  El tipo de cambio cerró con leve baja, pero lo...   \n",
       "1   2019/08/21         1  El encuentro será a las 11. Cuál puede ser el ...   \n",
       "2   2019/08/21         2  En 1974, el ex juez Jorge Vicente Quiroga fue ...   \n",
       "3   2019/08/21         3  \"Llaman todos\", aseguran los allegados al cand...   \n",
       "4   2019/08/21         4  Hacienda mostró una vez más el rol de \"otros i...   \n",
       "5   2019/08/21         5  Osvaldo Agosto era integrante de la Juventud P...   \n",
       "6   2019/08/21         6  Gustavo Figueroa fue separado del cargo y some...   \n",
       "7   2019/08/21         7  El artista mexicano participó en Buenos Aires ...   \n",
       "8   2019/08/21         8  En las imágenes se ve a Jorge Martín Gómez par...   \n",
       "9   2019/08/21         9  La gobernadora bonaerense dejará de recibir 4....   \n",
       "10  2019/08/21        10  Estarán todos los gobernadores del PJ y los pr...   \n",
       "11  2019/08/21        11  El objetivo de crear un cargo que hasta hace p...   \n",
       "12  2019/08/21        12  El encuentro será en Avellaneda por la tarde. ...   \n",
       "13  2019/08/21        13  Los jefes comunales de Juntos por el Cambio pl...   \n",
       "14  2019/08/21        14                                     Damián Di Pace   \n",
       "15  2019/08/21        15  Hubo una sucesión de gestos en apenas un par d...   \n",
       "16  2019/08/21        16    Ocurrió en 2013 en un local bailable de Quilmes   \n",
       "17  2019/08/21        17  Fuentes policiales le confirmaron a Infobae qu...   \n",
       "18  2019/08/21        18  El camino había quedado interrumpido tras el d...   \n",
       "19  2019/08/21        19                                                      \n",
       "20  2019/08/21        20                                                      \n",
       "21  2019/08/21        21                                    Fabián Peralta    \n",
       "22  2019/08/21        22                                    Agustín Romero    \n",
       "23  2019/08/21        23  En Facebook volvió a circular actualmente un p...   \n",
       "\n",
       "        Tema                                              Texto  \\\n",
       "0   economia   Hernán Lacunza logró sortear una prueba compl...   \n",
       "1   politica   Hoy a las 11 de la mañana se verán las caras ...   \n",
       "2   sociedad   El domingo 28 de abril de 1974 Jorge Vicente ...   \n",
       "3   economia   \"Acá llaman todos, todo el mundo quiere venir...   \n",
       "4   economia   Unas de las preocupaciones de \"los mercados\" ...   \n",
       "5   sociedad   Sus ojos claros, vivaces, y esa sonrisa entre...   \n",
       "6   sociedad   Gustavo Figueroa, quien prestaba servicios de...   \n",
       "7   sociedad   Eduardo Verástegui ya filmaba en Hollywood y ...   \n",
       "8   sociedad   Uno de los principales temas que dominó la co...   \n",
       "9   politica   María Eugenia Vidal decidió postergar todos l...   \n",
       "10  politica   Alberto Fernández habló uno por uno con todos...   \n",
       "11  sociedad   En sintonía con un momento histórico en el mu...   \n",
       "12  politica   El domingo 11 de agosto, después de las PASO ...   \n",
       "13  politica   El sueño de reelección de María Eugenia Vidal...   \n",
       "14  economia   El 9 de agosto la cotización del dólar cerró ...   \n",
       "15  politica   El objetivo, admitido por las partes, es módi...   \n",
       "16  sociedad   Dos hombres fueron condenados este martes dur...   \n",
       "17  sociedad   Un depósito del Hospital de Niños Ricardo Gut...   \n",
       "18  sociedad   La ruta nacional 40 quedó habilitada entre Vi...   \n",
       "19   opinion   La grieta sigue abierta y no se ve en el hori...   \n",
       "20   opinion   El sínodo especial convocado por el papa Fran...   \n",
       "21   opinion   En agosto del año 2009 se podía leer en los p...   \n",
       "22   opinion   La cercanía del fin de la gestión del gobiern...   \n",
       "23  politica   En los últimos días (ver acá y acá) volvió a ...   \n",
       "\n",
       "                                               Titulo  Sentimiento  \n",
       "0   Hernán Lacunza consiguió una tregua con el dól...    -0.628192  \n",
       "1   Los diputados de Cambiemos se reunirán por pri...     0.703094  \n",
       "2   El asesinato del juez Quiroga: sabía que estab...    -0.603858  \n",
       "3   Los empresarios en su laberinto: dudas, enojos...    -0.361676  \n",
       "4   Las ganancias del Banco Central permitirán cum...     0.357864  \n",
       "5   \"Yo robé el sable corvo de San Martín\": el rel...    -0.413688  \n",
       "6   Tucumán: trabajó durante nueve años como médic...    -0.851592  \n",
       "7   La asombrosa conversión de Eduardo Verástegui,...     0.304766  \n",
       "8   El video que muestra la amenaza del hombre que...    -0.740305  \n",
       "9   María Eugenia Vidal postergó los anuncios econ...     0.000000  \n",
       "10  Junto a Urtubey y los gobernadores \"independie...    -0.607553  \n",
       "11  Infobae incorpora la figura de editora de géne...     0.276372  \n",
       "12  Axel Kicillof encabezará un acto con los 135 c...     0.000000  \n",
       "13  En un clima de reproches y catarsis, María Eug...    -0.621652  \n",
       "14  Dólar, precios e IVA: ¿quién va a ganar la pul...    -0.490642  \n",
       "15  Acuerdo virtual para contener el dólar: los me...    -0.402680  \n",
       "16  Condenaron a 12 años de prisión a dos hombres ...    -0.855450  \n",
       "17      Se incendió un depósito del Hospital de Niños     0.000000  \n",
       "18  Habilitaron la ruta nacional 40 entre Bariloch...     0.583955  \n",
       "19                        Incógnitas en el calendario    -0.642936  \n",
       "20  El Papa, el sínodo y un documento que activó u...     0.348123  \n",
       "21      A 10 años del fallo Arriola, nada ha cambiado    -0.517949  \n",
       "22    ¿Hacia dónde va la política exterior argentina?    -0.416298  \n",
       "23  Una desinformación que vuelve: es falso que Ki...    -0.488772  "
      ]
     },
     "execution_count": 23,
     "metadata": {},
     "output_type": "execute_result"
    }
   ],
   "source": [
    "# Finalmente agregamos la columna al dataset\n",
    "noticias_hoy['Sentimiento'] = score_cuerpos\n",
    "noticias_hoy"
   ]
  },
  {
   "cell_type": "markdown",
   "metadata": {},
   "source": [
    "Exploremos un poco los resultados. Veamos el promedio de sentimiento de todas las noticias (esto nos va a dar una idea del ánimo general del día). Luego busquemos la noticia más positiva y la más negativa, para ver si coincidimos con el criterio."
   ]
  },
  {
   "cell_type": "code",
   "execution_count": 24,
   "metadata": {},
   "outputs": [
    {
     "name": "stdout",
     "output_type": "stream",
     "text": [
      "-0.252877875\n"
     ]
    }
   ],
   "source": [
    "todos_los_valores = noticias_hoy['Sentimiento']\n",
    "animo_general = np.mean(todos_los_valores)\n",
    "print(animo_general)"
   ]
  },
  {
   "cell_type": "code",
   "execution_count": 25,
   "metadata": {
    "jupyter": {
     "outputs_hidden": true
    }
   },
   "outputs": [
    {
     "name": "stdout",
     "output_type": "stream",
     "text": [
      "Condenaron a 12 años de prisión a dos hombres por violar a una joven a la salida de un boliche\n",
      "-0.85545\n",
      " Dos hombres fueron condenados este martes durante un juicio oral a la pena de 12 años de prisión por haber violado a una joven en 2013, en un el partido bonaerense de Quilmes, tras haber concurrido a un boliche. \n",
      "  La decisión por unanimidad del Tribunal Oral en lo Criminal 1 del Departamento Judicial de Quilmes recayó sobre Hugo Armando Barroca de 37 años y Sergio Miguel Bigón de 35, quienes fueron acusados del delito de \"abuso sexual con acceso carnal\". \n",
      "  A su vez, los jueces ordenaron por mayoría la detención inmediata de ambos, quienes habían llegado al debate oral con prisión domiciliaria. \n",
      "  En su momento la fiscal Mariel Calviño había solicitado en su alegato que sean condenados a 15 años de prisión, mientras que los defensores de los imputados solicitaron la absolución porque consideraron que no hubo suficientes pruebas para que sean hallados culpables. \n",
      "  La fiscal basó su acusación, entre otros elementos, en el testimonio de la víctima, quien señaló en plena audiencia oral a Barroca y Bigón como los autores de la violación. Ella, que por entonces tenía 18 años, dijo que el 2 de junio de 2013 junto a dos amigas habían ido cerca de la 1.30 a un bar de la zona de Quilmes, pero que uno de los acusados, a quien había conocido dos meses antes, la había llamado avisándole que estaba en el boliche Buró, en Leandro N. Alem entre Lavalle y Almirante Brown, en pleno centro comercial quilmeño. \n",
      "  Las tres jóvenes fueron entonces a ese lugar cerca de las 2 y se encontraron con los imputados, con quienes compartieron dos botellas de champán y tres vasos con vino espumante. \n",
      "  De acuerdo con la declaración de la víctima, los imputados no habían ingerido esa bebida y que cerca de las 4 sus dos amigas se habían ido de ese boliche rumbo a otro bar, mientras que ella se había quedado con los dos hombres. \n",
      "  En el juicio oral, las amigas le contaron a los jueces que, al salir, habían comenzado a sentirse muy mal y que por la cantidad de alcohol que habían bebido eso no podría haber ocurrido. La denunciante también dijo que había empezado a sentirse mal y adormecida, que su cuerpo no le respondía y sus ojos se le cerraban. \n",
      "  La víctima fue a un baño y vomitó durante unos 15 minutos, tras lo que personal de limpieza y seguridad la había llevado a la terraza para que tomara aire. \n",
      "  En sus testimonios, las tres chicas refirieron que nunca se sintieron tan mal por haber tomado alcohol y que notaron efectos muy diferentes a la ingesta de ese tipo de bebidas, por lo que suponen que podrían haber sido drogadas con algún tóxico. \n",
      "  Tras esa situación, los hombres la llevaron al departamento de uno de ellos, situado en Almirante Brown al 400 de Quilmes, donde abusaron sexualmente de ella. \n",
      "  Cuando logró salir del departamento, la joven fue auxiliada por un amigo que alertó sobre lo ocurrido a la policía y un patrullero la llevó a la comisaría 1era. de Quilmes para realizar la denuncia correspondiente. \n",
      "  Por su parte, en su declaración los acusados no recordaron el momento de haberles comprado la bebida espumante y reconocieron haber estado con las tres amigas en el boliche, donde tomaron dos botellas de champaña. Además, uno de ellos aseguró que se quedó con la chica en la habitación y el otro se quedó en la cocina preparando café, aunque ambos negaron haberla violado. \n",
      "  Seguí Leyendo: \n",
      "  Una batalla campal a la salida de un boliche terminó con una persona herida de bala de goma \n",
      "  Brutal golpiza de patovicas a la salida de un boliche en Malvinas Argentinas: está grave y hay un detenido \n",
      "  Descontrol, proyectiles y patadas a la salida de un boliche en Santiago del Estero \n",
      "  Cinco rugbiers golpearon a tres jóvenes y ahora deberán resarcirlos con 610 mil pesos \n",
      " \n"
     ]
    }
   ],
   "source": [
    "noticia_positiva = noticias_hoy.loc[noticias_hoy['Sentimiento'].idxmin()]\n",
    "print(noticia_positiva.Titulo)\n",
    "print(noticia_positiva.Sentimiento)\n",
    "#print(noticia_positiva.Subtitulo)\n",
    "print(noticia_positiva.Texto)"
   ]
  },
  {
   "cell_type": "code",
   "execution_count": 26,
   "metadata": {},
   "outputs": [
    {
     "name": "stdout",
     "output_type": "stream",
     "text": [
      "Condenaron a 12 años de prisión a dos hombres por violar a una joven a la salida de un boliche\n",
      "-0.85545\n"
     ]
    }
   ],
   "source": [
    "noticia_negativa = noticias_hoy.loc[noticias_hoy['Sentimiento'].idxmin()]\n",
    "print(noticia_negativa.Titulo)\n",
    "print(noticia_negativa.Sentimiento)\n",
    "#print(noticia_negativa.Subtitulo)\n",
    "#print(noticia_negativa.Texto)"
   ]
  }
 ],
 "metadata": {
  "kernelspec": {
   "display_name": "Python 3",
   "language": "python",
   "name": "python3"
  },
  "language_info": {
   "codemirror_mode": {
    "name": "ipython",
    "version": 3
   },
   "file_extension": ".py",
   "mimetype": "text/x-python",
   "name": "python",
   "nbconvert_exporter": "python",
   "pygments_lexer": "ipython3",
   "version": "3.6.10"
  }
 },
 "nbformat": 4,
 "nbformat_minor": 4
}
